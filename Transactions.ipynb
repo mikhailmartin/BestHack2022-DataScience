{
 "cells": [
  {
   "cell_type": "code",
   "execution_count": 1,
   "id": "098efcd5",
   "metadata": {},
   "outputs": [],
   "source": [
    "import pandas as pd\n",
    "import numpy as np\n",
    "import matplotlib.pyplot as plt\n",
    "import seaborn as sns\n",
    "from tqdm import tqdm"
   ]
  },
  {
   "cell_type": "markdown",
   "id": "b7cc75e1",
   "metadata": {},
   "source": [
    "### Описание данных \n",
    "- id _a - id абонента, который звонит \n",
    "- id _b - id абонента, которому звонят \n",
    "- time_key - дата звонка \n",
    "- start_time_local - время начала звонка \n",
    "- time_zone - часовая зона звонящего абонента \n",
    "- duration - длительность звонка \n",
    "- forward - индикатор переадресации \n",
    "- zero_call_glg - категория звонка с нулевой длительностью \n",
    "- source_b - индикатор транзакции из источника B \n",
    "- source_f - индикатор транзакции из источника F \n",
    "- num_b_length - длина номера абонента, которому звонят"
   ]
  },
  {
   "cell_type": "code",
   "execution_count": 2,
   "id": "320f8029",
   "metadata": {},
   "outputs": [
    {
     "name": "stderr",
     "output_type": "stream",
     "text": [
      "100%|██████████| 3/3 [00:19<00:00,  6.55s/it]\n"
     ]
    }
   ],
   "source": [
    "tk_list = list()\n",
    "for i in tqdm(range(1, 4)):\n",
    "    if i < 10:\n",
    "        data = f\"0{i}\"\n",
    "    else:\n",
    "        data = str(i)\n",
    "    tmp_df = pd.read_csv(f\"D:/DS/transactions/time_key=2021-12-{data}.csv\")\n",
    "    tk_list.append(tmp_df)"
   ]
  },
  {
   "cell_type": "code",
   "execution_count": 3,
   "id": "4dcb1cc0",
   "metadata": {},
   "outputs": [],
   "source": [
    "tk_list = pd.concat(tk_list)"
   ]
  },
  {
   "cell_type": "code",
   "execution_count": 4,
   "id": "dea49a74",
   "metadata": {},
   "outputs": [
    {
     "data": {
      "text/html": [
       "<div>\n",
       "<style scoped>\n",
       "    .dataframe tbody tr th:only-of-type {\n",
       "        vertical-align: middle;\n",
       "    }\n",
       "\n",
       "    .dataframe tbody tr th {\n",
       "        vertical-align: top;\n",
       "    }\n",
       "\n",
       "    .dataframe thead th {\n",
       "        text-align: right;\n",
       "    }\n",
       "</style>\n",
       "<table border=\"1\" class=\"dataframe\">\n",
       "  <thead>\n",
       "    <tr style=\"text-align: right;\">\n",
       "      <th></th>\n",
       "      <th>id_a</th>\n",
       "      <th>id_b</th>\n",
       "      <th>start_time_local</th>\n",
       "      <th>time_zone</th>\n",
       "      <th>duration</th>\n",
       "      <th>forward</th>\n",
       "      <th>zero_call_flg</th>\n",
       "      <th>source_b</th>\n",
       "      <th>source_f</th>\n",
       "      <th>num_b_length</th>\n",
       "      <th>time_key</th>\n",
       "    </tr>\n",
       "  </thead>\n",
       "  <tbody>\n",
       "    <tr>\n",
       "      <th>0</th>\n",
       "      <td>46206005</td>\n",
       "      <td>41410057</td>\n",
       "      <td>12:38:21</td>\n",
       "      <td>3</td>\n",
       "      <td>0</td>\n",
       "      <td>0</td>\n",
       "      <td>0</td>\n",
       "      <td>0</td>\n",
       "      <td>1</td>\n",
       "      <td>10</td>\n",
       "      <td>2021-12-01</td>\n",
       "    </tr>\n",
       "    <tr>\n",
       "      <th>1</th>\n",
       "      <td>21282169</td>\n",
       "      <td>67490216</td>\n",
       "      <td>13:32:46</td>\n",
       "      <td>3</td>\n",
       "      <td>0</td>\n",
       "      <td>0</td>\n",
       "      <td>5</td>\n",
       "      <td>0</td>\n",
       "      <td>1</td>\n",
       "      <td>10</td>\n",
       "      <td>2021-12-01</td>\n",
       "    </tr>\n",
       "    <tr>\n",
       "      <th>2</th>\n",
       "      <td>859841</td>\n",
       "      <td>70423563</td>\n",
       "      <td>02:16:16</td>\n",
       "      <td>7</td>\n",
       "      <td>0</td>\n",
       "      <td>1</td>\n",
       "      <td>5</td>\n",
       "      <td>1</td>\n",
       "      <td>0</td>\n",
       "      <td>10</td>\n",
       "      <td>2021-12-01</td>\n",
       "    </tr>\n",
       "    <tr>\n",
       "      <th>3</th>\n",
       "      <td>6325350</td>\n",
       "      <td>75657005</td>\n",
       "      <td>15:41:14</td>\n",
       "      <td>0</td>\n",
       "      <td>0</td>\n",
       "      <td>1</td>\n",
       "      <td>5</td>\n",
       "      <td>1</td>\n",
       "      <td>0</td>\n",
       "      <td>10</td>\n",
       "      <td>2021-12-01</td>\n",
       "    </tr>\n",
       "    <tr>\n",
       "      <th>4</th>\n",
       "      <td>6325350</td>\n",
       "      <td>56640545</td>\n",
       "      <td>10:43:39</td>\n",
       "      <td>3</td>\n",
       "      <td>0</td>\n",
       "      <td>0</td>\n",
       "      <td>0</td>\n",
       "      <td>0</td>\n",
       "      <td>1</td>\n",
       "      <td>10</td>\n",
       "      <td>2021-12-01</td>\n",
       "    </tr>\n",
       "    <tr>\n",
       "      <th>...</th>\n",
       "      <td>...</td>\n",
       "      <td>...</td>\n",
       "      <td>...</td>\n",
       "      <td>...</td>\n",
       "      <td>...</td>\n",
       "      <td>...</td>\n",
       "      <td>...</td>\n",
       "      <td>...</td>\n",
       "      <td>...</td>\n",
       "      <td>...</td>\n",
       "      <td>...</td>\n",
       "    </tr>\n",
       "    <tr>\n",
       "      <th>5661813</th>\n",
       "      <td>1741727</td>\n",
       "      <td>51896509</td>\n",
       "      <td>12:22:54</td>\n",
       "      <td>3</td>\n",
       "      <td>0</td>\n",
       "      <td>0</td>\n",
       "      <td>0</td>\n",
       "      <td>0</td>\n",
       "      <td>1</td>\n",
       "      <td>10</td>\n",
       "      <td>2021-12-03</td>\n",
       "    </tr>\n",
       "    <tr>\n",
       "      <th>5661814</th>\n",
       "      <td>8653133</td>\n",
       "      <td>2728848</td>\n",
       "      <td>11:05:46</td>\n",
       "      <td>3</td>\n",
       "      <td>0</td>\n",
       "      <td>0</td>\n",
       "      <td>0</td>\n",
       "      <td>0</td>\n",
       "      <td>1</td>\n",
       "      <td>10</td>\n",
       "      <td>2021-12-03</td>\n",
       "    </tr>\n",
       "    <tr>\n",
       "      <th>5661815</th>\n",
       "      <td>34179381</td>\n",
       "      <td>73156247</td>\n",
       "      <td>12:43:38</td>\n",
       "      <td>3</td>\n",
       "      <td>0</td>\n",
       "      <td>0</td>\n",
       "      <td>0</td>\n",
       "      <td>0</td>\n",
       "      <td>1</td>\n",
       "      <td>10</td>\n",
       "      <td>2021-12-03</td>\n",
       "    </tr>\n",
       "    <tr>\n",
       "      <th>5661816</th>\n",
       "      <td>6325350</td>\n",
       "      <td>74014974</td>\n",
       "      <td>12:12:10</td>\n",
       "      <td>0</td>\n",
       "      <td>0</td>\n",
       "      <td>0</td>\n",
       "      <td>0</td>\n",
       "      <td>0</td>\n",
       "      <td>1</td>\n",
       "      <td>10</td>\n",
       "      <td>2021-12-03</td>\n",
       "    </tr>\n",
       "    <tr>\n",
       "      <th>5661817</th>\n",
       "      <td>46206005</td>\n",
       "      <td>18025759</td>\n",
       "      <td>16:21:46</td>\n",
       "      <td>3</td>\n",
       "      <td>0</td>\n",
       "      <td>0</td>\n",
       "      <td>0</td>\n",
       "      <td>0</td>\n",
       "      <td>1</td>\n",
       "      <td>10</td>\n",
       "      <td>2021-12-03</td>\n",
       "    </tr>\n",
       "  </tbody>\n",
       "</table>\n",
       "<p>16528703 rows × 11 columns</p>\n",
       "</div>"
      ],
      "text/plain": [
       "             id_a      id_b start_time_local  time_zone  duration  forward  \\\n",
       "0        46206005  41410057         12:38:21          3         0        0   \n",
       "1        21282169  67490216         13:32:46          3         0        0   \n",
       "2          859841  70423563         02:16:16          7         0        1   \n",
       "3         6325350  75657005         15:41:14          0         0        1   \n",
       "4         6325350  56640545         10:43:39          3         0        0   \n",
       "...           ...       ...              ...        ...       ...      ...   \n",
       "5661813   1741727  51896509         12:22:54          3         0        0   \n",
       "5661814   8653133   2728848         11:05:46          3         0        0   \n",
       "5661815  34179381  73156247         12:43:38          3         0        0   \n",
       "5661816   6325350  74014974         12:12:10          0         0        0   \n",
       "5661817  46206005  18025759         16:21:46          3         0        0   \n",
       "\n",
       "         zero_call_flg  source_b  source_f  num_b_length    time_key  \n",
       "0                    0         0         1            10  2021-12-01  \n",
       "1                    5         0         1            10  2021-12-01  \n",
       "2                    5         1         0            10  2021-12-01  \n",
       "3                    5         1         0            10  2021-12-01  \n",
       "4                    0         0         1            10  2021-12-01  \n",
       "...                ...       ...       ...           ...         ...  \n",
       "5661813              0         0         1            10  2021-12-03  \n",
       "5661814              0         0         1            10  2021-12-03  \n",
       "5661815              0         0         1            10  2021-12-03  \n",
       "5661816              0         0         1            10  2021-12-03  \n",
       "5661817              0         0         1            10  2021-12-03  \n",
       "\n",
       "[16528703 rows x 11 columns]"
      ]
     },
     "execution_count": 4,
     "metadata": {},
     "output_type": "execute_result"
    }
   ],
   "source": [
    "tk_list"
   ]
  },
  {
   "cell_type": "code",
   "execution_count": 5,
   "id": "c15e0c75",
   "metadata": {},
   "outputs": [],
   "source": [
    "trg = pd.read_csv(\"D:/DS/beeline_antispam_hakaton_id_samples.csv\")"
   ]
  },
  {
   "cell_type": "code",
   "execution_count": 6,
   "id": "c079240d",
   "metadata": {},
   "outputs": [
    {
     "data": {
      "text/html": [
       "<div>\n",
       "<style scoped>\n",
       "    .dataframe tbody tr th:only-of-type {\n",
       "        vertical-align: middle;\n",
       "    }\n",
       "\n",
       "    .dataframe tbody tr th {\n",
       "        vertical-align: top;\n",
       "    }\n",
       "\n",
       "    .dataframe thead th {\n",
       "        text-align: right;\n",
       "    }\n",
       "</style>\n",
       "<table border=\"1\" class=\"dataframe\">\n",
       "  <thead>\n",
       "    <tr style=\"text-align: right;\">\n",
       "      <th></th>\n",
       "      <th>id</th>\n",
       "      <th>target</th>\n",
       "      <th>split</th>\n",
       "    </tr>\n",
       "  </thead>\n",
       "  <tbody>\n",
       "    <tr>\n",
       "      <th>0</th>\n",
       "      <td>196535</td>\n",
       "      <td>NaN</td>\n",
       "      <td>test</td>\n",
       "    </tr>\n",
       "    <tr>\n",
       "      <th>1</th>\n",
       "      <td>63075900</td>\n",
       "      <td>2.0</td>\n",
       "      <td>train</td>\n",
       "    </tr>\n",
       "    <tr>\n",
       "      <th>2</th>\n",
       "      <td>35233935</td>\n",
       "      <td>2.0</td>\n",
       "      <td>train</td>\n",
       "    </tr>\n",
       "    <tr>\n",
       "      <th>3</th>\n",
       "      <td>23557360</td>\n",
       "      <td>4.0</td>\n",
       "      <td>train</td>\n",
       "    </tr>\n",
       "    <tr>\n",
       "      <th>4</th>\n",
       "      <td>78926486</td>\n",
       "      <td>NaN</td>\n",
       "      <td>test</td>\n",
       "    </tr>\n",
       "    <tr>\n",
       "      <th>...</th>\n",
       "      <td>...</td>\n",
       "      <td>...</td>\n",
       "      <td>...</td>\n",
       "    </tr>\n",
       "    <tr>\n",
       "      <th>46230</th>\n",
       "      <td>80921520</td>\n",
       "      <td>0.0</td>\n",
       "      <td>train</td>\n",
       "    </tr>\n",
       "    <tr>\n",
       "      <th>46231</th>\n",
       "      <td>72917356</td>\n",
       "      <td>0.0</td>\n",
       "      <td>train</td>\n",
       "    </tr>\n",
       "    <tr>\n",
       "      <th>46232</th>\n",
       "      <td>35030823</td>\n",
       "      <td>0.0</td>\n",
       "      <td>train</td>\n",
       "    </tr>\n",
       "    <tr>\n",
       "      <th>46233</th>\n",
       "      <td>19900090</td>\n",
       "      <td>0.0</td>\n",
       "      <td>train</td>\n",
       "    </tr>\n",
       "    <tr>\n",
       "      <th>46234</th>\n",
       "      <td>12483388</td>\n",
       "      <td>0.0</td>\n",
       "      <td>train</td>\n",
       "    </tr>\n",
       "  </tbody>\n",
       "</table>\n",
       "<p>46235 rows × 3 columns</p>\n",
       "</div>"
      ],
      "text/plain": [
       "             id  target  split\n",
       "0        196535     NaN   test\n",
       "1      63075900     2.0  train\n",
       "2      35233935     2.0  train\n",
       "3      23557360     4.0  train\n",
       "4      78926486     NaN   test\n",
       "...         ...     ...    ...\n",
       "46230  80921520     0.0  train\n",
       "46231  72917356     0.0  train\n",
       "46232  35030823     0.0  train\n",
       "46233  19900090     0.0  train\n",
       "46234  12483388     0.0  train\n",
       "\n",
       "[46235 rows x 3 columns]"
      ]
     },
     "execution_count": 6,
     "metadata": {},
     "output_type": "execute_result"
    }
   ],
   "source": [
    "trg"
   ]
  },
  {
   "cell_type": "code",
   "execution_count": 7,
   "id": "f15725b9",
   "metadata": {},
   "outputs": [
    {
     "data": {
      "text/html": [
       "<div>\n",
       "<style scoped>\n",
       "    .dataframe tbody tr th:only-of-type {\n",
       "        vertical-align: middle;\n",
       "    }\n",
       "\n",
       "    .dataframe tbody tr th {\n",
       "        vertical-align: top;\n",
       "    }\n",
       "\n",
       "    .dataframe thead th {\n",
       "        text-align: right;\n",
       "    }\n",
       "</style>\n",
       "<table border=\"1\" class=\"dataframe\">\n",
       "  <thead>\n",
       "    <tr style=\"text-align: right;\">\n",
       "      <th></th>\n",
       "      <th>id_a</th>\n",
       "      <th>id_b</th>\n",
       "      <th>start_time_local</th>\n",
       "      <th>time_zone</th>\n",
       "      <th>duration</th>\n",
       "      <th>forward</th>\n",
       "      <th>zero_call_flg</th>\n",
       "      <th>source_b</th>\n",
       "      <th>source_f</th>\n",
       "      <th>num_b_length</th>\n",
       "      <th>time_key</th>\n",
       "      <th>target</th>\n",
       "    </tr>\n",
       "  </thead>\n",
       "  <tbody>\n",
       "    <tr>\n",
       "      <th>0</th>\n",
       "      <td>46206005</td>\n",
       "      <td>41410057</td>\n",
       "      <td>12:38:21</td>\n",
       "      <td>3</td>\n",
       "      <td>0</td>\n",
       "      <td>0</td>\n",
       "      <td>0</td>\n",
       "      <td>0</td>\n",
       "      <td>1</td>\n",
       "      <td>10</td>\n",
       "      <td>2021-12-01</td>\n",
       "      <td>NaN</td>\n",
       "    </tr>\n",
       "    <tr>\n",
       "      <th>1</th>\n",
       "      <td>46206005</td>\n",
       "      <td>10193774</td>\n",
       "      <td>13:39:29</td>\n",
       "      <td>3</td>\n",
       "      <td>0</td>\n",
       "      <td>0</td>\n",
       "      <td>0</td>\n",
       "      <td>0</td>\n",
       "      <td>1</td>\n",
       "      <td>10</td>\n",
       "      <td>2021-12-01</td>\n",
       "      <td>NaN</td>\n",
       "    </tr>\n",
       "    <tr>\n",
       "      <th>2</th>\n",
       "      <td>46206005</td>\n",
       "      <td>62857516</td>\n",
       "      <td>12:23:49</td>\n",
       "      <td>3</td>\n",
       "      <td>13</td>\n",
       "      <td>0</td>\n",
       "      <td>0</td>\n",
       "      <td>0</td>\n",
       "      <td>1</td>\n",
       "      <td>10</td>\n",
       "      <td>2021-12-01</td>\n",
       "      <td>NaN</td>\n",
       "    </tr>\n",
       "    <tr>\n",
       "      <th>3</th>\n",
       "      <td>46206005</td>\n",
       "      <td>75299555</td>\n",
       "      <td>15:46:20</td>\n",
       "      <td>3</td>\n",
       "      <td>0</td>\n",
       "      <td>0</td>\n",
       "      <td>0</td>\n",
       "      <td>0</td>\n",
       "      <td>1</td>\n",
       "      <td>10</td>\n",
       "      <td>2021-12-01</td>\n",
       "      <td>NaN</td>\n",
       "    </tr>\n",
       "    <tr>\n",
       "      <th>4</th>\n",
       "      <td>46206005</td>\n",
       "      <td>813059</td>\n",
       "      <td>12:39:50</td>\n",
       "      <td>3</td>\n",
       "      <td>0</td>\n",
       "      <td>0</td>\n",
       "      <td>0</td>\n",
       "      <td>0</td>\n",
       "      <td>1</td>\n",
       "      <td>10</td>\n",
       "      <td>2021-12-01</td>\n",
       "      <td>NaN</td>\n",
       "    </tr>\n",
       "    <tr>\n",
       "      <th>...</th>\n",
       "      <td>...</td>\n",
       "      <td>...</td>\n",
       "      <td>...</td>\n",
       "      <td>...</td>\n",
       "      <td>...</td>\n",
       "      <td>...</td>\n",
       "      <td>...</td>\n",
       "      <td>...</td>\n",
       "      <td>...</td>\n",
       "      <td>...</td>\n",
       "      <td>...</td>\n",
       "      <td>...</td>\n",
       "    </tr>\n",
       "    <tr>\n",
       "      <th>16528698</th>\n",
       "      <td>12394904</td>\n",
       "      <td>51891250</td>\n",
       "      <td>16:44:37</td>\n",
       "      <td>0</td>\n",
       "      <td>7</td>\n",
       "      <td>0</td>\n",
       "      <td>0</td>\n",
       "      <td>1</td>\n",
       "      <td>0</td>\n",
       "      <td>10</td>\n",
       "      <td>2021-12-03</td>\n",
       "      <td>0.0</td>\n",
       "    </tr>\n",
       "    <tr>\n",
       "      <th>16528699</th>\n",
       "      <td>69282927</td>\n",
       "      <td>47086807</td>\n",
       "      <td>12:03:01</td>\n",
       "      <td>0</td>\n",
       "      <td>41</td>\n",
       "      <td>0</td>\n",
       "      <td>5</td>\n",
       "      <td>1</td>\n",
       "      <td>1</td>\n",
       "      <td>10</td>\n",
       "      <td>2021-12-03</td>\n",
       "      <td>NaN</td>\n",
       "    </tr>\n",
       "    <tr>\n",
       "      <th>16528700</th>\n",
       "      <td>879148</td>\n",
       "      <td>14114908</td>\n",
       "      <td>13:36:48</td>\n",
       "      <td>3</td>\n",
       "      <td>0</td>\n",
       "      <td>0</td>\n",
       "      <td>0</td>\n",
       "      <td>0</td>\n",
       "      <td>1</td>\n",
       "      <td>10</td>\n",
       "      <td>2021-12-03</td>\n",
       "      <td>4.0</td>\n",
       "    </tr>\n",
       "    <tr>\n",
       "      <th>16528701</th>\n",
       "      <td>30512066</td>\n",
       "      <td>63961567</td>\n",
       "      <td>10:55:42</td>\n",
       "      <td>3</td>\n",
       "      <td>3</td>\n",
       "      <td>0</td>\n",
       "      <td>1</td>\n",
       "      <td>0</td>\n",
       "      <td>1</td>\n",
       "      <td>10</td>\n",
       "      <td>2021-12-03</td>\n",
       "      <td>2.0</td>\n",
       "    </tr>\n",
       "    <tr>\n",
       "      <th>16528702</th>\n",
       "      <td>68561213</td>\n",
       "      <td>46186880</td>\n",
       "      <td>19:04:59</td>\n",
       "      <td>0</td>\n",
       "      <td>27</td>\n",
       "      <td>0</td>\n",
       "      <td>5</td>\n",
       "      <td>1</td>\n",
       "      <td>0</td>\n",
       "      <td>10</td>\n",
       "      <td>2021-12-03</td>\n",
       "      <td>NaN</td>\n",
       "    </tr>\n",
       "  </tbody>\n",
       "</table>\n",
       "<p>16528703 rows × 12 columns</p>\n",
       "</div>"
      ],
      "text/plain": [
       "              id_a      id_b start_time_local  time_zone  duration  forward  \\\n",
       "0         46206005  41410057         12:38:21          3         0        0   \n",
       "1         46206005  10193774         13:39:29          3         0        0   \n",
       "2         46206005  62857516         12:23:49          3        13        0   \n",
       "3         46206005  75299555         15:46:20          3         0        0   \n",
       "4         46206005    813059         12:39:50          3         0        0   \n",
       "...            ...       ...              ...        ...       ...      ...   \n",
       "16528698  12394904  51891250         16:44:37          0         7        0   \n",
       "16528699  69282927  47086807         12:03:01          0        41        0   \n",
       "16528700    879148  14114908         13:36:48          3         0        0   \n",
       "16528701  30512066  63961567         10:55:42          3         3        0   \n",
       "16528702  68561213  46186880         19:04:59          0        27        0   \n",
       "\n",
       "          zero_call_flg  source_b  source_f  num_b_length    time_key  target  \n",
       "0                     0         0         1            10  2021-12-01     NaN  \n",
       "1                     0         0         1            10  2021-12-01     NaN  \n",
       "2                     0         0         1            10  2021-12-01     NaN  \n",
       "3                     0         0         1            10  2021-12-01     NaN  \n",
       "4                     0         0         1            10  2021-12-01     NaN  \n",
       "...                 ...       ...       ...           ...         ...     ...  \n",
       "16528698              0         1         0            10  2021-12-03     0.0  \n",
       "16528699              5         1         1            10  2021-12-03     NaN  \n",
       "16528700              0         0         1            10  2021-12-03     4.0  \n",
       "16528701              1         0         1            10  2021-12-03     2.0  \n",
       "16528702              5         1         0            10  2021-12-03     NaN  \n",
       "\n",
       "[16528703 rows x 12 columns]"
      ]
     },
     "execution_count": 7,
     "metadata": {},
     "output_type": "execute_result"
    }
   ],
   "source": [
    "tk_list = tk_list.merge(trg[['id','target']], left_on='id_a', right_on='id', how='inner') \\\n",
    "                 .drop(columns=['id'])\n",
    "tk_list"
   ]
  },
  {
   "cell_type": "code",
   "execution_count": 8,
   "id": "357a13b0",
   "metadata": {},
   "outputs": [
    {
     "data": {
      "text/plain": [
       "id_a                  int64\n",
       "id_b                  int64\n",
       "start_time_local     object\n",
       "time_zone             int64\n",
       "duration              int64\n",
       "forward               int64\n",
       "zero_call_flg         int64\n",
       "source_b              int64\n",
       "source_f              int64\n",
       "num_b_length          int64\n",
       "time_key             object\n",
       "target              float64\n",
       "dtype: object"
      ]
     },
     "execution_count": 8,
     "metadata": {},
     "output_type": "execute_result"
    }
   ],
   "source": [
    "tk_list.dtypes"
   ]
  },
  {
   "cell_type": "code",
   "execution_count": 9,
   "id": "28e60f4a",
   "metadata": {},
   "outputs": [
    {
     "data": {
      "text/plain": [
       "count    16528703\n",
       "mean           14\n",
       "std            87\n",
       "min             0\n",
       "25%             0\n",
       "50%             0\n",
       "75%             6\n",
       "max         29393\n",
       "Name: duration, dtype: int32"
      ]
     },
     "execution_count": 9,
     "metadata": {},
     "output_type": "execute_result"
    }
   ],
   "source": [
    "tk_list['duration'].describe().astype(int)"
   ]
  },
  {
   "cell_type": "code",
   "execution_count": 10,
   "id": "77198ee4",
   "metadata": {},
   "outputs": [
    {
     "data": {
      "text/html": [
       "<div>\n",
       "<style scoped>\n",
       "    .dataframe tbody tr th:only-of-type {\n",
       "        vertical-align: middle;\n",
       "    }\n",
       "\n",
       "    .dataframe tbody tr th {\n",
       "        vertical-align: top;\n",
       "    }\n",
       "\n",
       "    .dataframe thead th {\n",
       "        text-align: right;\n",
       "    }\n",
       "</style>\n",
       "<table border=\"1\" class=\"dataframe\">\n",
       "  <thead>\n",
       "    <tr style=\"text-align: right;\">\n",
       "      <th></th>\n",
       "      <th>id_a</th>\n",
       "      <th>id_b</th>\n",
       "      <th>start_time_local</th>\n",
       "      <th>time_zone</th>\n",
       "      <th>duration</th>\n",
       "      <th>forward</th>\n",
       "      <th>zero_call_flg</th>\n",
       "      <th>source_b</th>\n",
       "      <th>source_f</th>\n",
       "      <th>num_b_length</th>\n",
       "      <th>time_key</th>\n",
       "      <th>target</th>\n",
       "    </tr>\n",
       "  </thead>\n",
       "  <tbody>\n",
       "    <tr>\n",
       "      <th>186481</th>\n",
       "      <td>859841</td>\n",
       "      <td>31953798</td>\n",
       "      <td>10:03:08</td>\n",
       "      <td>0</td>\n",
       "      <td>1</td>\n",
       "      <td>0</td>\n",
       "      <td>5</td>\n",
       "      <td>1</td>\n",
       "      <td>0</td>\n",
       "      <td>10</td>\n",
       "      <td>2021-12-01</td>\n",
       "      <td>4.0</td>\n",
       "    </tr>\n",
       "    <tr>\n",
       "      <th>186522</th>\n",
       "      <td>859841</td>\n",
       "      <td>73837504</td>\n",
       "      <td>19:27:07</td>\n",
       "      <td>0</td>\n",
       "      <td>1</td>\n",
       "      <td>0</td>\n",
       "      <td>5</td>\n",
       "      <td>1</td>\n",
       "      <td>0</td>\n",
       "      <td>10</td>\n",
       "      <td>2021-12-01</td>\n",
       "      <td>4.0</td>\n",
       "    </tr>\n",
       "    <tr>\n",
       "      <th>186554</th>\n",
       "      <td>859841</td>\n",
       "      <td>22473546</td>\n",
       "      <td>16:35:15</td>\n",
       "      <td>2</td>\n",
       "      <td>1</td>\n",
       "      <td>0</td>\n",
       "      <td>5</td>\n",
       "      <td>1</td>\n",
       "      <td>0</td>\n",
       "      <td>10</td>\n",
       "      <td>2021-12-01</td>\n",
       "      <td>4.0</td>\n",
       "    </tr>\n",
       "    <tr>\n",
       "      <th>186564</th>\n",
       "      <td>859841</td>\n",
       "      <td>8064521</td>\n",
       "      <td>11:28:52</td>\n",
       "      <td>7</td>\n",
       "      <td>1</td>\n",
       "      <td>1</td>\n",
       "      <td>5</td>\n",
       "      <td>1</td>\n",
       "      <td>0</td>\n",
       "      <td>10</td>\n",
       "      <td>2021-12-01</td>\n",
       "      <td>4.0</td>\n",
       "    </tr>\n",
       "    <tr>\n",
       "      <th>186708</th>\n",
       "      <td>859841</td>\n",
       "      <td>62922528</td>\n",
       "      <td>11:09:57</td>\n",
       "      <td>0</td>\n",
       "      <td>1</td>\n",
       "      <td>1</td>\n",
       "      <td>5</td>\n",
       "      <td>1</td>\n",
       "      <td>0</td>\n",
       "      <td>10</td>\n",
       "      <td>2021-12-01</td>\n",
       "      <td>4.0</td>\n",
       "    </tr>\n",
       "    <tr>\n",
       "      <th>...</th>\n",
       "      <td>...</td>\n",
       "      <td>...</td>\n",
       "      <td>...</td>\n",
       "      <td>...</td>\n",
       "      <td>...</td>\n",
       "      <td>...</td>\n",
       "      <td>...</td>\n",
       "      <td>...</td>\n",
       "      <td>...</td>\n",
       "      <td>...</td>\n",
       "      <td>...</td>\n",
       "      <td>...</td>\n",
       "    </tr>\n",
       "    <tr>\n",
       "      <th>16528601</th>\n",
       "      <td>1502562</td>\n",
       "      <td>82435364</td>\n",
       "      <td>11:26:46</td>\n",
       "      <td>3</td>\n",
       "      <td>50</td>\n",
       "      <td>0</td>\n",
       "      <td>0</td>\n",
       "      <td>0</td>\n",
       "      <td>1</td>\n",
       "      <td>10</td>\n",
       "      <td>2021-12-03</td>\n",
       "      <td>4.0</td>\n",
       "    </tr>\n",
       "    <tr>\n",
       "      <th>16528602</th>\n",
       "      <td>1502562</td>\n",
       "      <td>82435364</td>\n",
       "      <td>08:26:52</td>\n",
       "      <td>0</td>\n",
       "      <td>47</td>\n",
       "      <td>0</td>\n",
       "      <td>0</td>\n",
       "      <td>0</td>\n",
       "      <td>1</td>\n",
       "      <td>10</td>\n",
       "      <td>2021-12-03</td>\n",
       "      <td>4.0</td>\n",
       "    </tr>\n",
       "    <tr>\n",
       "      <th>16528618</th>\n",
       "      <td>7679637</td>\n",
       "      <td>71072528</td>\n",
       "      <td>19:02:59</td>\n",
       "      <td>3</td>\n",
       "      <td>23</td>\n",
       "      <td>0</td>\n",
       "      <td>0</td>\n",
       "      <td>0</td>\n",
       "      <td>1</td>\n",
       "      <td>10</td>\n",
       "      <td>2021-12-03</td>\n",
       "      <td>4.0</td>\n",
       "    </tr>\n",
       "    <tr>\n",
       "      <th>16528620</th>\n",
       "      <td>46072767</td>\n",
       "      <td>6672474</td>\n",
       "      <td>18:49:55</td>\n",
       "      <td>0</td>\n",
       "      <td>9</td>\n",
       "      <td>0</td>\n",
       "      <td>5</td>\n",
       "      <td>1</td>\n",
       "      <td>1</td>\n",
       "      <td>10</td>\n",
       "      <td>2021-12-03</td>\n",
       "      <td>4.0</td>\n",
       "    </tr>\n",
       "    <tr>\n",
       "      <th>16528671</th>\n",
       "      <td>37890347</td>\n",
       "      <td>68064871</td>\n",
       "      <td>17:13:03</td>\n",
       "      <td>3</td>\n",
       "      <td>8</td>\n",
       "      <td>0</td>\n",
       "      <td>0</td>\n",
       "      <td>0</td>\n",
       "      <td>1</td>\n",
       "      <td>10</td>\n",
       "      <td>2021-12-03</td>\n",
       "      <td>4.0</td>\n",
       "    </tr>\n",
       "  </tbody>\n",
       "</table>\n",
       "<p>2693734 rows × 12 columns</p>\n",
       "</div>"
      ],
      "text/plain": [
       "              id_a      id_b start_time_local  time_zone  duration  forward  \\\n",
       "186481      859841  31953798         10:03:08          0         1        0   \n",
       "186522      859841  73837504         19:27:07          0         1        0   \n",
       "186554      859841  22473546         16:35:15          2         1        0   \n",
       "186564      859841   8064521         11:28:52          7         1        1   \n",
       "186708      859841  62922528         11:09:57          0         1        1   \n",
       "...            ...       ...              ...        ...       ...      ...   \n",
       "16528601   1502562  82435364         11:26:46          3        50        0   \n",
       "16528602   1502562  82435364         08:26:52          0        47        0   \n",
       "16528618   7679637  71072528         19:02:59          3        23        0   \n",
       "16528620  46072767   6672474         18:49:55          0         9        0   \n",
       "16528671  37890347  68064871         17:13:03          3         8        0   \n",
       "\n",
       "          zero_call_flg  source_b  source_f  num_b_length    time_key  target  \n",
       "186481                5         1         0            10  2021-12-01     4.0  \n",
       "186522                5         1         0            10  2021-12-01     4.0  \n",
       "186554                5         1         0            10  2021-12-01     4.0  \n",
       "186564                5         1         0            10  2021-12-01     4.0  \n",
       "186708                5         1         0            10  2021-12-01     4.0  \n",
       "...                 ...       ...       ...           ...         ...     ...  \n",
       "16528601              0         0         1            10  2021-12-03     4.0  \n",
       "16528602              0         0         1            10  2021-12-03     4.0  \n",
       "16528618              0         0         1            10  2021-12-03     4.0  \n",
       "16528620              5         1         1            10  2021-12-03     4.0  \n",
       "16528671              0         0         1            10  2021-12-03     4.0  \n",
       "\n",
       "[2693734 rows x 12 columns]"
      ]
     },
     "execution_count": 10,
     "metadata": {},
     "output_type": "execute_result"
    }
   ],
   "source": [
    "tk_list[(tk_list['target'] == 4.) & (tk_list['duration'] > 0)]"
   ]
  },
  {
   "cell_type": "code",
   "execution_count": 12,
   "id": "baa2251f",
   "metadata": {},
   "outputs": [
    {
     "data": {
      "text/plain": [
       "duration\n",
       "0       4970380\n",
       "1        104589\n",
       "2         96225\n",
       "3        120764\n",
       "4        148618\n",
       "         ...   \n",
       "4638          1\n",
       "5419          1\n",
       "6773          1\n",
       "7125          1\n",
       "7247          1\n",
       "Name: index, Length: 1758, dtype: int64"
      ]
     },
     "execution_count": 12,
     "metadata": {},
     "output_type": "execute_result"
    }
   ],
   "source": [
    "# Spam\n",
    "plot_duration_4 = tk_list[tk_list['target'] == 4.].reset_index().groupby('duration')['index'].nunique()\n",
    "plot_duration_new_4 = pd.DataFrame(plot_duration_4.iloc[:50])\n",
    "plot_duration_4"
   ]
  },
  {
   "cell_type": "code",
   "execution_count": 13,
   "id": "dbc2df84",
   "metadata": {},
   "outputs": [
    {
     "data": {
      "text/plain": [
       "<AxesSubplot:xlabel='duration'>"
      ]
     },
     "execution_count": 13,
     "metadata": {},
     "output_type": "execute_result"
    },
    {
     "data": {
      "image/png": "[encoded data removed]",
      "text/plain": [
       "<Figure size 432x288 with 1 Axes>"
      ]
     },
     "metadata": {
      "needs_background": "light"
     },
     "output_type": "display_data"
    }
   ],
   "source": [
    "plot_duration_new_4.plot()\n"
   ]
  },
  {
   "cell_type": "code",
   "execution_count": 15,
   "id": "0b386ffd",
   "metadata": {},
   "outputs": [
    {
     "data": {
      "text/plain": [
       "duration\n",
       "0       90073\n",
       "1        4215\n",
       "2        6436\n",
       "3        8783\n",
       "4        9285\n",
       "        ...  \n",
       "7356        1\n",
       "7365        1\n",
       "7461        1\n",
       "7526        1\n",
       "8050        1\n",
       "Name: index, Length: 2417, dtype: int64"
      ]
     },
     "execution_count": 15,
     "metadata": {},
     "output_type": "execute_result"
    }
   ],
   "source": [
    "# Not Spam\n",
    "plot_duration_0 = tk_list[tk_list['target'] == 0.].reset_index().groupby('duration')['index'].nunique()\n",
    "plot_duration_new_0 = plot_duration_0.iloc[:100]\n",
    "plot_duration_0"
   ]
  },
  {
   "cell_type": "code",
   "execution_count": 16,
   "id": "ab1845b3",
   "metadata": {},
   "outputs": [
    {
     "data": {
      "text/plain": [
       "<AxesSubplot:xlabel='duration'>"
      ]
     },
     "execution_count": 16,
     "metadata": {},
     "output_type": "execute_result"
    },
    {
     "data": {
      "image/png": "[encoded data removed]",
      "text/plain": [
       "<Figure size 432x288 with 1 Axes>"
      ]
     },
     "metadata": {
      "needs_background": "light"
     },
     "output_type": "display_data"
    }
   ],
   "source": [
    "plot_duration_new_0.plot()"
   ]
  },
  {
   "cell_type": "code",
   "execution_count": 17,
   "id": "7ac373d3",
   "metadata": {},
   "outputs": [
    {
     "data": {
      "text/plain": [
       "duration\n",
       "0       8768\n",
       "1        915\n",
       "2       1435\n",
       "3       1676\n",
       "4       1262\n",
       "        ... \n",
       "5089       1\n",
       "5783       1\n",
       "6316       1\n",
       "6589       1\n",
       "7247       1\n",
       "Name: index, Length: 1239, dtype: int64"
      ]
     },
     "execution_count": 17,
     "metadata": {},
     "output_type": "execute_result"
    }
   ],
   "source": [
    "# Small business\n",
    "plot_duration_1 = tk_list[tk_list['target'] == 1.].reset_index().groupby('duration')['index'].nunique()\n",
    "plot_duration_new_1 = plot_duration_1.iloc[:200]\n",
    "plot_duration_1"
   ]
  },
  {
   "cell_type": "code",
   "execution_count": 18,
   "id": "2f56f79d",
   "metadata": {},
   "outputs": [
    {
     "data": {
      "text/plain": [
       "<AxesSubplot:xlabel='duration'>"
      ]
     },
     "execution_count": 18,
     "metadata": {},
     "output_type": "execute_result"
    },
    {
     "data": {
      "image/png": "[encoded data removed]",
      "text/plain": [
       "<Figure size 432x288 with 1 Axes>"
      ]
     },
     "metadata": {
      "needs_background": "light"
     },
     "output_type": "display_data"
    }
   ],
   "source": [
    "plot_duration_new_1.plot()"
   ]
  },
  {
   "cell_type": "code",
   "execution_count": 19,
   "id": "7fc064c1",
   "metadata": {},
   "outputs": [
    {
     "data": {
      "text/plain": [
       "duration\n",
       "0        209315\n",
       "1          4063\n",
       "2          5198\n",
       "3          8169\n",
       "4         10465\n",
       "          ...  \n",
       "14640         1\n",
       "15201         1\n",
       "16957         1\n",
       "18859         1\n",
       "21821         1\n",
       "Name: index, Length: 2313, dtype: int64"
      ]
     },
     "execution_count": 19,
     "metadata": {},
     "output_type": "execute_result"
    }
   ],
   "source": [
    "# Organisations\n",
    "plot_duration_2 = tk_list[tk_list['target'] == 2.].reset_index().groupby('duration')['index'].nunique()\n",
    "plot_duration_new_2 = plot_duration_2.iloc[:200]\n",
    "plot_duration_2"
   ]
  },
  {
   "cell_type": "code",
   "execution_count": 20,
   "id": "600934d5",
   "metadata": {},
   "outputs": [
    {
     "data": {
      "text/plain": [
       "<AxesSubplot:xlabel='duration'>"
      ]
     },
     "execution_count": 20,
     "metadata": {},
     "output_type": "execute_result"
    },
    {
     "data": {
      "image/png": "[encoded data removed]",
      "text/plain": [
       "<Figure size 432x288 with 1 Axes>"
      ]
     },
     "metadata": {
      "needs_background": "light"
     },
     "output_type": "display_data"
    }
   ],
   "source": [
    "plot_duration_new_2.plot()"
   ]
  },
  {
   "cell_type": "code",
   "execution_count": 21,
   "id": "e1a7ca02",
   "metadata": {},
   "outputs": [
    {
     "data": {
      "text/plain": [
       "duration\n",
       "0        117649\n",
       "1          4168\n",
       "2          5394\n",
       "3          5440\n",
       "4          4790\n",
       "          ...  \n",
       "24249         1\n",
       "26716         1\n",
       "27043         1\n",
       "28974         1\n",
       "29393         1\n",
       "Name: index, Length: 2812, dtype: int64"
      ]
     },
     "execution_count": 21,
     "metadata": {},
     "output_type": "execute_result"
    }
   ],
   "source": [
    "# Mobile carousel\n",
    "plot_duration_3 = tk_list[tk_list['target'] == 3.].reset_index().groupby('duration')['index'].nunique()\n",
    "plot_duration_new_3 = plot_duration_3.iloc[:200]\n",
    "plot_duration_3"
   ]
  },
  {
   "cell_type": "code",
   "execution_count": 22,
   "id": "4f03761b",
   "metadata": {},
   "outputs": [
    {
     "data": {
      "text/plain": [
       "<AxesSubplot:xlabel='duration'>"
      ]
     },
     "execution_count": 22,
     "metadata": {},
     "output_type": "execute_result"
    },
    {
     "data": {
      "image/png": "[encoded data removed]",
      "text/plain": [
       "<Figure size 432x288 with 1 Axes>"
      ]
     },
     "metadata": {
      "needs_background": "light"
     },
     "output_type": "display_data"
    }
   ],
   "source": [
    "plot_duration_new_3.plot()"
   ]
  },
  {
   "cell_type": "code",
   "execution_count": 23,
   "id": "8cc75dfb",
   "metadata": {},
   "outputs": [
    {
     "data": {
      "text/plain": [
       "0    13191484\n",
       "1     3337219\n",
       "Name: source_b, dtype: int64"
      ]
     },
     "execution_count": 23,
     "metadata": {},
     "output_type": "execute_result"
    }
   ],
   "source": [
    "tk_list['source_b'].value_counts()"
   ]
  },
  {
   "cell_type": "code",
   "execution_count": 24,
   "id": "1b1d529b",
   "metadata": {},
   "outputs": [
    {
     "data": {
      "text/plain": [
       "1    14150961\n",
       "0     2377742\n",
       "Name: source_f, dtype: int64"
      ]
     },
     "execution_count": 24,
     "metadata": {},
     "output_type": "execute_result"
    }
   ],
   "source": [
    "tk_list['source_f'].value_counts()"
   ]
  },
  {
   "cell_type": "code",
   "execution_count": 25,
   "id": "6a498de6",
   "metadata": {},
   "outputs": [
    {
     "data": {
      "text/html": [
       "<div>\n",
       "<style scoped>\n",
       "    .dataframe tbody tr th:only-of-type {\n",
       "        vertical-align: middle;\n",
       "    }\n",
       "\n",
       "    .dataframe tbody tr th {\n",
       "        vertical-align: top;\n",
       "    }\n",
       "\n",
       "    .dataframe thead th {\n",
       "        text-align: right;\n",
       "    }\n",
       "</style>\n",
       "<table border=\"1\" class=\"dataframe\">\n",
       "  <thead>\n",
       "    <tr style=\"text-align: right;\">\n",
       "      <th></th>\n",
       "      <th>id_a</th>\n",
       "      <th>id_b</th>\n",
       "      <th>start_time_local</th>\n",
       "      <th>time_zone</th>\n",
       "      <th>duration</th>\n",
       "      <th>forward</th>\n",
       "      <th>zero_call_flg</th>\n",
       "      <th>source_b</th>\n",
       "      <th>source_f</th>\n",
       "      <th>num_b_length</th>\n",
       "      <th>time_key</th>\n",
       "      <th>target</th>\n",
       "    </tr>\n",
       "  </thead>\n",
       "  <tbody>\n",
       "  </tbody>\n",
       "</table>\n",
       "</div>"
      ],
      "text/plain": [
       "Empty DataFrame\n",
       "Columns: [id_a, id_b, start_time_local, time_zone, duration, forward, zero_call_flg, source_b, source_f, num_b_length, time_key, target]\n",
       "Index: []"
      ]
     },
     "execution_count": 25,
     "metadata": {},
     "output_type": "execute_result"
    }
   ],
   "source": [
    "tk_list[(tk_list['source_b'] == 0) & (tk_list['source_f'] == 0)]"
   ]
  },
  {
   "cell_type": "code",
   "execution_count": 26,
   "id": "61194082",
   "metadata": {},
   "outputs": [
    {
     "data": {
      "text/plain": [
       "10    16522520\n",
       "12        3719\n",
       "11        1537\n",
       "15         247\n",
       "18         205\n",
       "13         169\n",
       "19         152\n",
       "14         126\n",
       "16          26\n",
       "20           1\n",
       "17           1\n",
       "Name: num_b_length, dtype: int64"
      ]
     },
     "execution_count": 26,
     "metadata": {},
     "output_type": "execute_result"
    }
   ],
   "source": [
    "tk_list['num_b_length'].value_counts()"
   ]
  },
  {
   "cell_type": "code",
   "execution_count": 27,
   "id": "3a8aa66a",
   "metadata": {},
   "outputs": [
    {
     "data": {
      "text/html": [
       "<div>\n",
       "<style scoped>\n",
       "    .dataframe tbody tr th:only-of-type {\n",
       "        vertical-align: middle;\n",
       "    }\n",
       "\n",
       "    .dataframe tbody tr th {\n",
       "        vertical-align: top;\n",
       "    }\n",
       "\n",
       "    .dataframe thead th {\n",
       "        text-align: right;\n",
       "    }\n",
       "</style>\n",
       "<table border=\"1\" class=\"dataframe\">\n",
       "  <thead>\n",
       "    <tr style=\"text-align: right;\">\n",
       "      <th></th>\n",
       "      <th>id_a</th>\n",
       "      <th>id_b</th>\n",
       "      <th>start_time_local</th>\n",
       "      <th>time_zone</th>\n",
       "      <th>duration</th>\n",
       "      <th>forward</th>\n",
       "      <th>zero_call_flg</th>\n",
       "      <th>source_b</th>\n",
       "      <th>source_f</th>\n",
       "      <th>num_b_length</th>\n",
       "      <th>time_key</th>\n",
       "      <th>target</th>\n",
       "    </tr>\n",
       "  </thead>\n",
       "  <tbody>\n",
       "    <tr>\n",
       "      <th>15475383</th>\n",
       "      <td>28476392</td>\n",
       "      <td>84344320</td>\n",
       "      <td>09:54:24</td>\n",
       "      <td>0</td>\n",
       "      <td>40</td>\n",
       "      <td>0</td>\n",
       "      <td>0</td>\n",
       "      <td>0</td>\n",
       "      <td>1</td>\n",
       "      <td>15</td>\n",
       "      <td>2021-12-02</td>\n",
       "      <td>4.0</td>\n",
       "    </tr>\n",
       "    <tr>\n",
       "      <th>15566931</th>\n",
       "      <td>39666332</td>\n",
       "      <td>69544790</td>\n",
       "      <td>10:41:49</td>\n",
       "      <td>3</td>\n",
       "      <td>26</td>\n",
       "      <td>0</td>\n",
       "      <td>0</td>\n",
       "      <td>0</td>\n",
       "      <td>1</td>\n",
       "      <td>15</td>\n",
       "      <td>2021-12-02</td>\n",
       "      <td>3.0</td>\n",
       "    </tr>\n",
       "    <tr>\n",
       "      <th>16319979</th>\n",
       "      <td>41691880</td>\n",
       "      <td>21718966</td>\n",
       "      <td>11:15:21</td>\n",
       "      <td>0</td>\n",
       "      <td>83</td>\n",
       "      <td>0</td>\n",
       "      <td>0</td>\n",
       "      <td>1</td>\n",
       "      <td>0</td>\n",
       "      <td>15</td>\n",
       "      <td>2021-12-02</td>\n",
       "      <td>1.0</td>\n",
       "    </tr>\n",
       "    <tr>\n",
       "      <th>16319985</th>\n",
       "      <td>41691880</td>\n",
       "      <td>55221758</td>\n",
       "      <td>14:02:38</td>\n",
       "      <td>0</td>\n",
       "      <td>7</td>\n",
       "      <td>0</td>\n",
       "      <td>0</td>\n",
       "      <td>1</td>\n",
       "      <td>0</td>\n",
       "      <td>15</td>\n",
       "      <td>2021-12-02</td>\n",
       "      <td>1.0</td>\n",
       "    </tr>\n",
       "    <tr>\n",
       "      <th>16320003</th>\n",
       "      <td>41691880</td>\n",
       "      <td>10758821</td>\n",
       "      <td>10:39:54</td>\n",
       "      <td>0</td>\n",
       "      <td>162</td>\n",
       "      <td>0</td>\n",
       "      <td>5</td>\n",
       "      <td>1</td>\n",
       "      <td>0</td>\n",
       "      <td>15</td>\n",
       "      <td>2021-12-02</td>\n",
       "      <td>1.0</td>\n",
       "    </tr>\n",
       "    <tr>\n",
       "      <th>16320017</th>\n",
       "      <td>41691880</td>\n",
       "      <td>3935662</td>\n",
       "      <td>12:01:13</td>\n",
       "      <td>0</td>\n",
       "      <td>94</td>\n",
       "      <td>0</td>\n",
       "      <td>5</td>\n",
       "      <td>1</td>\n",
       "      <td>0</td>\n",
       "      <td>15</td>\n",
       "      <td>2021-12-03</td>\n",
       "      <td>1.0</td>\n",
       "    </tr>\n",
       "    <tr>\n",
       "      <th>16320025</th>\n",
       "      <td>41691880</td>\n",
       "      <td>3116683</td>\n",
       "      <td>19:10:10</td>\n",
       "      <td>0</td>\n",
       "      <td>255</td>\n",
       "      <td>0</td>\n",
       "      <td>0</td>\n",
       "      <td>1</td>\n",
       "      <td>0</td>\n",
       "      <td>15</td>\n",
       "      <td>2021-12-03</td>\n",
       "      <td>1.0</td>\n",
       "    </tr>\n",
       "    <tr>\n",
       "      <th>16320030</th>\n",
       "      <td>41691880</td>\n",
       "      <td>30312822</td>\n",
       "      <td>10:30:54</td>\n",
       "      <td>0</td>\n",
       "      <td>118</td>\n",
       "      <td>0</td>\n",
       "      <td>0</td>\n",
       "      <td>1</td>\n",
       "      <td>0</td>\n",
       "      <td>15</td>\n",
       "      <td>2021-12-03</td>\n",
       "      <td>1.0</td>\n",
       "    </tr>\n",
       "    <tr>\n",
       "      <th>16320048</th>\n",
       "      <td>41691880</td>\n",
       "      <td>23221123</td>\n",
       "      <td>10:37:05</td>\n",
       "      <td>0</td>\n",
       "      <td>184</td>\n",
       "      <td>0</td>\n",
       "      <td>0</td>\n",
       "      <td>1</td>\n",
       "      <td>0</td>\n",
       "      <td>15</td>\n",
       "      <td>2021-12-03</td>\n",
       "      <td>1.0</td>\n",
       "    </tr>\n",
       "  </tbody>\n",
       "</table>\n",
       "</div>"
      ],
      "text/plain": [
       "              id_a      id_b start_time_local  time_zone  duration  forward  \\\n",
       "15475383  28476392  84344320         09:54:24          0        40        0   \n",
       "15566931  39666332  69544790         10:41:49          3        26        0   \n",
       "16319979  41691880  21718966         11:15:21          0        83        0   \n",
       "16319985  41691880  55221758         14:02:38          0         7        0   \n",
       "16320003  41691880  10758821         10:39:54          0       162        0   \n",
       "16320017  41691880   3935662         12:01:13          0        94        0   \n",
       "16320025  41691880   3116683         19:10:10          0       255        0   \n",
       "16320030  41691880  30312822         10:30:54          0       118        0   \n",
       "16320048  41691880  23221123         10:37:05          0       184        0   \n",
       "\n",
       "          zero_call_flg  source_b  source_f  num_b_length    time_key  target  \n",
       "15475383              0         0         1            15  2021-12-02     4.0  \n",
       "15566931              0         0         1            15  2021-12-02     3.0  \n",
       "16319979              0         1         0            15  2021-12-02     1.0  \n",
       "16319985              0         1         0            15  2021-12-02     1.0  \n",
       "16320003              5         1         0            15  2021-12-02     1.0  \n",
       "16320017              5         1         0            15  2021-12-03     1.0  \n",
       "16320025              0         1         0            15  2021-12-03     1.0  \n",
       "16320030              0         1         0            15  2021-12-03     1.0  \n",
       "16320048              0         1         0            15  2021-12-03     1.0  "
      ]
     },
     "execution_count": 27,
     "metadata": {},
     "output_type": "execute_result"
    }
   ],
   "source": [
    "tk_list[(tk_list['num_b_length'] == 15) & (tk_list['duration'] != 0)]"
   ]
  },
  {
   "cell_type": "code",
   "execution_count": 28,
   "id": "d7e3ac4a",
   "metadata": {},
   "outputs": [
    {
     "data": {
      "text/plain": [
       "time_key\n",
       "2021-12-01    2280958\n",
       "2021-12-02    2751461\n",
       "2021-12-03    2631695\n",
       "Name: index, dtype: int64"
      ]
     },
     "execution_count": 28,
     "metadata": {},
     "output_type": "execute_result"
    }
   ],
   "source": [
    "pl4 = tk_list[tk_list['target'] == 4.].reset_index().groupby('time_key')['index'].nunique()\n",
    "pl4"
   ]
  },
  {
   "cell_type": "code",
   "execution_count": 29,
   "id": "6683a528",
   "metadata": {},
   "outputs": [
    {
     "data": {
      "text/plain": [
       "<AxesSubplot:xlabel='time_key'>"
      ]
     },
     "execution_count": 29,
     "metadata": {},
     "output_type": "execute_result"
    },
    {
     "data": {
      "image/png": "[encoded data removed]",
      "text/plain": [
       "<Figure size 432x288 with 1 Axes>"
      ]
     },
     "metadata": {
      "needs_background": "light"
     },
     "output_type": "display_data"
    }
   ],
   "source": [
    "# Spam\n",
    "pl4.plot()"
   ]
  },
  {
   "cell_type": "code",
   "execution_count": 30,
   "id": "d854ef93",
   "metadata": {},
   "outputs": [
    {
     "data": {
      "text/plain": [
       "time_key\n",
       "2021-12-01    132985\n",
       "2021-12-02    148487\n",
       "2021-12-03    148362\n",
       "Name: index, dtype: int64"
      ]
     },
     "execution_count": 30,
     "metadata": {},
     "output_type": "execute_result"
    }
   ],
   "source": [
    "pl0 = tk_list[tk_list['target'] == 0.].reset_index().groupby('time_key')['index'].nunique()\n",
    "pl0"
   ]
  },
  {
   "cell_type": "code",
   "execution_count": 31,
   "id": "768cda21",
   "metadata": {},
   "outputs": [
    {
     "data": {
      "text/plain": [
       "<AxesSubplot:xlabel='time_key'>"
      ]
     },
     "execution_count": 31,
     "metadata": {},
     "output_type": "execute_result"
    },
    {
     "data": {
      "image/png": "[encoded data removed]",
      "text/plain": [
       "<Figure size 432x288 with 1 Axes>"
      ]
     },
     "metadata": {
      "needs_background": "light"
     },
     "output_type": "display_data"
    }
   ],
   "source": [
    "# Not spam\n",
    "pl0.plot()"
   ]
  },
  {
   "cell_type": "code",
   "execution_count": 32,
   "id": "b482809c",
   "metadata": {},
   "outputs": [],
   "source": [
    "pl1 = tk_list[tk_list['target'] == 1.].reset_index().groupby('time_key')['index'].nunique()"
   ]
  },
  {
   "cell_type": "code",
   "execution_count": 33,
   "id": "7965a7bc",
   "metadata": {},
   "outputs": [
    {
     "data": {
      "text/plain": [
       "<AxesSubplot:xlabel='time_key'>"
      ]
     },
     "execution_count": 33,
     "metadata": {},
     "output_type": "execute_result"
    },
    {
     "data": {
      "image/png": "[encoded data removed]",
      "text/plain": [
       "<Figure size 432x288 with 1 Axes>"
      ]
     },
     "metadata": {
      "needs_background": "light"
     },
     "output_type": "display_data"
    }
   ],
   "source": [
    "# Small business\n",
    "pl1.plot()"
   ]
  },
  {
   "cell_type": "code",
   "execution_count": 34,
   "id": "91ea4a0b",
   "metadata": {},
   "outputs": [],
   "source": [
    "pl2 = tk_list[tk_list['target'] == 2.].reset_index().groupby('time_key')['index'].nunique()"
   ]
  },
  {
   "cell_type": "code",
   "execution_count": 35,
   "id": "46b5e408",
   "metadata": {},
   "outputs": [
    {
     "data": {
      "text/plain": [
       "<AxesSubplot:xlabel='time_key'>"
      ]
     },
     "execution_count": 35,
     "metadata": {},
     "output_type": "execute_result"
    },
    {
     "data": {
      "image/png": "[encoded data removed]",
      "text/plain": [
       "<Figure size 432x288 with 1 Axes>"
      ]
     },
     "metadata": {
      "needs_background": "light"
     },
     "output_type": "display_data"
    }
   ],
   "source": [
    "# Organisations\n",
    "pl2.plot()"
   ]
  },
  {
   "cell_type": "code",
   "execution_count": 36,
   "id": "7bf0c50d",
   "metadata": {},
   "outputs": [
    {
     "data": {
      "text/plain": [
       "time_key\n",
       "2021-12-01    146108\n",
       "2021-12-02    172684\n",
       "2021-12-03    174231\n",
       "Name: index, dtype: int64"
      ]
     },
     "execution_count": 36,
     "metadata": {},
     "output_type": "execute_result"
    }
   ],
   "source": [
    "pl3 = tk_list[tk_list['target'] == 3.].reset_index().groupby('time_key')['index'].nunique()\n",
    "pl3"
   ]
  },
  {
   "cell_type": "code",
   "execution_count": 37,
   "id": "6f902dbc",
   "metadata": {},
   "outputs": [
    {
     "data": {
      "text/plain": [
       "<AxesSubplot:xlabel='time_key'>"
      ]
     },
     "execution_count": 37,
     "metadata": {},
     "output_type": "execute_result"
    },
    {
     "data": {
      "image/png": "[encoded data removed]",
      "text/plain": [
       "<Figure size 432x288 with 1 Axes>"
      ]
     },
     "metadata": {
      "needs_background": "light"
     },
     "output_type": "display_data"
    }
   ],
   "source": [
    "# Mobile carousel\n",
    "pl3.plot()"
   ]
  },
  {
   "cell_type": "code",
   "execution_count": 38,
   "id": "48fdcbb7",
   "metadata": {},
   "outputs": [
    {
     "data": {
      "text/html": [
       "<div>\n",
       "<style scoped>\n",
       "    .dataframe tbody tr th:only-of-type {\n",
       "        vertical-align: middle;\n",
       "    }\n",
       "\n",
       "    .dataframe tbody tr th {\n",
       "        vertical-align: top;\n",
       "    }\n",
       "\n",
       "    .dataframe thead th {\n",
       "        text-align: right;\n",
       "    }\n",
       "</style>\n",
       "<table border=\"1\" class=\"dataframe\">\n",
       "  <thead>\n",
       "    <tr style=\"text-align: right;\">\n",
       "      <th></th>\n",
       "      <th>index</th>\n",
       "      <th>id_a</th>\n",
       "      <th>id_b</th>\n",
       "      <th>start_time_local</th>\n",
       "      <th>time_zone</th>\n",
       "      <th>duration</th>\n",
       "      <th>forward</th>\n",
       "      <th>zero_call_flg</th>\n",
       "      <th>source_b</th>\n",
       "      <th>source_f</th>\n",
       "      <th>num_b_length</th>\n",
       "      <th>time_key</th>\n",
       "      <th>target</th>\n",
       "    </tr>\n",
       "  </thead>\n",
       "  <tbody>\n",
       "    <tr>\n",
       "      <th>0</th>\n",
       "      <td>186415</td>\n",
       "      <td>859841</td>\n",
       "      <td>70423563</td>\n",
       "      <td>02:16:16</td>\n",
       "      <td>7</td>\n",
       "      <td>0</td>\n",
       "      <td>1</td>\n",
       "      <td>5</td>\n",
       "      <td>1</td>\n",
       "      <td>0</td>\n",
       "      <td>10</td>\n",
       "      <td>2021-12-01</td>\n",
       "      <td>4.0</td>\n",
       "    </tr>\n",
       "    <tr>\n",
       "      <th>1</th>\n",
       "      <td>186416</td>\n",
       "      <td>859841</td>\n",
       "      <td>70423563</td>\n",
       "      <td>14:03:51</td>\n",
       "      <td>7</td>\n",
       "      <td>0</td>\n",
       "      <td>1</td>\n",
       "      <td>5</td>\n",
       "      <td>1</td>\n",
       "      <td>0</td>\n",
       "      <td>10</td>\n",
       "      <td>2021-12-01</td>\n",
       "      <td>4.0</td>\n",
       "    </tr>\n",
       "    <tr>\n",
       "      <th>2</th>\n",
       "      <td>186417</td>\n",
       "      <td>859841</td>\n",
       "      <td>36846993</td>\n",
       "      <td>05:37:56</td>\n",
       "      <td>0</td>\n",
       "      <td>0</td>\n",
       "      <td>1</td>\n",
       "      <td>5</td>\n",
       "      <td>1</td>\n",
       "      <td>0</td>\n",
       "      <td>10</td>\n",
       "      <td>2021-12-01</td>\n",
       "      <td>4.0</td>\n",
       "    </tr>\n",
       "    <tr>\n",
       "      <th>3</th>\n",
       "      <td>186418</td>\n",
       "      <td>859841</td>\n",
       "      <td>86828364</td>\n",
       "      <td>13:17:43</td>\n",
       "      <td>7</td>\n",
       "      <td>0</td>\n",
       "      <td>1</td>\n",
       "      <td>5</td>\n",
       "      <td>1</td>\n",
       "      <td>0</td>\n",
       "      <td>10</td>\n",
       "      <td>2021-12-01</td>\n",
       "      <td>4.0</td>\n",
       "    </tr>\n",
       "    <tr>\n",
       "      <th>4</th>\n",
       "      <td>186419</td>\n",
       "      <td>859841</td>\n",
       "      <td>86828364</td>\n",
       "      <td>22:19:28</td>\n",
       "      <td>7</td>\n",
       "      <td>0</td>\n",
       "      <td>1</td>\n",
       "      <td>5</td>\n",
       "      <td>1</td>\n",
       "      <td>0</td>\n",
       "      <td>10</td>\n",
       "      <td>2021-12-01</td>\n",
       "      <td>4.0</td>\n",
       "    </tr>\n",
       "    <tr>\n",
       "      <th>...</th>\n",
       "      <td>...</td>\n",
       "      <td>...</td>\n",
       "      <td>...</td>\n",
       "      <td>...</td>\n",
       "      <td>...</td>\n",
       "      <td>...</td>\n",
       "      <td>...</td>\n",
       "      <td>...</td>\n",
       "      <td>...</td>\n",
       "      <td>...</td>\n",
       "      <td>...</td>\n",
       "      <td>...</td>\n",
       "      <td>...</td>\n",
       "    </tr>\n",
       "    <tr>\n",
       "      <th>7664109</th>\n",
       "      <td>16528661</td>\n",
       "      <td>16988388</td>\n",
       "      <td>67074238</td>\n",
       "      <td>11:58:52</td>\n",
       "      <td>0</td>\n",
       "      <td>0</td>\n",
       "      <td>0</td>\n",
       "      <td>5</td>\n",
       "      <td>0</td>\n",
       "      <td>1</td>\n",
       "      <td>10</td>\n",
       "      <td>2021-12-03</td>\n",
       "      <td>4.0</td>\n",
       "    </tr>\n",
       "    <tr>\n",
       "      <th>7664110</th>\n",
       "      <td>16528669</td>\n",
       "      <td>53315751</td>\n",
       "      <td>40643616</td>\n",
       "      <td>10:07:46</td>\n",
       "      <td>3</td>\n",
       "      <td>0</td>\n",
       "      <td>0</td>\n",
       "      <td>0</td>\n",
       "      <td>0</td>\n",
       "      <td>1</td>\n",
       "      <td>10</td>\n",
       "      <td>2021-12-03</td>\n",
       "      <td>4.0</td>\n",
       "    </tr>\n",
       "    <tr>\n",
       "      <th>7664111</th>\n",
       "      <td>16528671</td>\n",
       "      <td>37890347</td>\n",
       "      <td>68064871</td>\n",
       "      <td>17:13:03</td>\n",
       "      <td>3</td>\n",
       "      <td>8</td>\n",
       "      <td>0</td>\n",
       "      <td>0</td>\n",
       "      <td>0</td>\n",
       "      <td>1</td>\n",
       "      <td>10</td>\n",
       "      <td>2021-12-03</td>\n",
       "      <td>4.0</td>\n",
       "    </tr>\n",
       "    <tr>\n",
       "      <th>7664112</th>\n",
       "      <td>16528685</td>\n",
       "      <td>17129978</td>\n",
       "      <td>82636499</td>\n",
       "      <td>14:26:58</td>\n",
       "      <td>3</td>\n",
       "      <td>0</td>\n",
       "      <td>0</td>\n",
       "      <td>0</td>\n",
       "      <td>0</td>\n",
       "      <td>1</td>\n",
       "      <td>10</td>\n",
       "      <td>2021-12-03</td>\n",
       "      <td>4.0</td>\n",
       "    </tr>\n",
       "    <tr>\n",
       "      <th>7664113</th>\n",
       "      <td>16528700</td>\n",
       "      <td>879148</td>\n",
       "      <td>14114908</td>\n",
       "      <td>13:36:48</td>\n",
       "      <td>3</td>\n",
       "      <td>0</td>\n",
       "      <td>0</td>\n",
       "      <td>0</td>\n",
       "      <td>0</td>\n",
       "      <td>1</td>\n",
       "      <td>10</td>\n",
       "      <td>2021-12-03</td>\n",
       "      <td>4.0</td>\n",
       "    </tr>\n",
       "  </tbody>\n",
       "</table>\n",
       "<p>7664114 rows × 13 columns</p>\n",
       "</div>"
      ],
      "text/plain": [
       "            index      id_a      id_b start_time_local  time_zone  duration  \\\n",
       "0          186415    859841  70423563         02:16:16          7         0   \n",
       "1          186416    859841  70423563         14:03:51          7         0   \n",
       "2          186417    859841  36846993         05:37:56          0         0   \n",
       "3          186418    859841  86828364         13:17:43          7         0   \n",
       "4          186419    859841  86828364         22:19:28          7         0   \n",
       "...           ...       ...       ...              ...        ...       ...   \n",
       "7664109  16528661  16988388  67074238         11:58:52          0         0   \n",
       "7664110  16528669  53315751  40643616         10:07:46          3         0   \n",
       "7664111  16528671  37890347  68064871         17:13:03          3         8   \n",
       "7664112  16528685  17129978  82636499         14:26:58          3         0   \n",
       "7664113  16528700    879148  14114908         13:36:48          3         0   \n",
       "\n",
       "         forward  zero_call_flg  source_b  source_f  num_b_length    time_key  \\\n",
       "0              1              5         1         0            10  2021-12-01   \n",
       "1              1              5         1         0            10  2021-12-01   \n",
       "2              1              5         1         0            10  2021-12-01   \n",
       "3              1              5         1         0            10  2021-12-01   \n",
       "4              1              5         1         0            10  2021-12-01   \n",
       "...          ...            ...       ...       ...           ...         ...   \n",
       "7664109        0              5         0         1            10  2021-12-03   \n",
       "7664110        0              0         0         1            10  2021-12-03   \n",
       "7664111        0              0         0         1            10  2021-12-03   \n",
       "7664112        0              0         0         1            10  2021-12-03   \n",
       "7664113        0              0         0         1            10  2021-12-03   \n",
       "\n",
       "         target  \n",
       "0           4.0  \n",
       "1           4.0  \n",
       "2           4.0  \n",
       "3           4.0  \n",
       "4           4.0  \n",
       "...         ...  \n",
       "7664109     4.0  \n",
       "7664110     4.0  \n",
       "7664111     4.0  \n",
       "7664112     4.0  \n",
       "7664113     4.0  \n",
       "\n",
       "[7664114 rows x 13 columns]"
      ]
     },
     "execution_count": 38,
     "metadata": {},
     "output_type": "execute_result"
    }
   ],
   "source": [
    "tk_list[tk_list['target'] == 4.].reset_index()"
   ]
  },
  {
   "cell_type": "code",
   "execution_count": 39,
   "id": "89b12116",
   "metadata": {},
   "outputs": [
    {
     "data": {
      "text/html": [
       "<div>\n",
       "<style scoped>\n",
       "    .dataframe tbody tr th:only-of-type {\n",
       "        vertical-align: middle;\n",
       "    }\n",
       "\n",
       "    .dataframe tbody tr th {\n",
       "        vertical-align: top;\n",
       "    }\n",
       "\n",
       "    .dataframe thead th {\n",
       "        text-align: right;\n",
       "    }\n",
       "</style>\n",
       "<table border=\"1\" class=\"dataframe\">\n",
       "  <thead>\n",
       "    <tr style=\"text-align: right;\">\n",
       "      <th></th>\n",
       "      <th>id_a</th>\n",
       "      <th>id_b</th>\n",
       "      <th>start_time_local</th>\n",
       "      <th>time_zone</th>\n",
       "      <th>duration</th>\n",
       "      <th>forward</th>\n",
       "      <th>zero_call_flg</th>\n",
       "      <th>source_b</th>\n",
       "      <th>source_f</th>\n",
       "      <th>num_b_length</th>\n",
       "      <th>time_key</th>\n",
       "      <th>target</th>\n",
       "    </tr>\n",
       "  </thead>\n",
       "  <tbody>\n",
       "    <tr>\n",
       "      <th>186415</th>\n",
       "      <td>859841</td>\n",
       "      <td>70423563</td>\n",
       "      <td>02:16:16</td>\n",
       "      <td>7</td>\n",
       "      <td>0</td>\n",
       "      <td>1</td>\n",
       "      <td>5</td>\n",
       "      <td>1</td>\n",
       "      <td>0</td>\n",
       "      <td>10</td>\n",
       "      <td>2021-12-01</td>\n",
       "      <td>4.0</td>\n",
       "    </tr>\n",
       "    <tr>\n",
       "      <th>186416</th>\n",
       "      <td>859841</td>\n",
       "      <td>70423563</td>\n",
       "      <td>14:03:51</td>\n",
       "      <td>7</td>\n",
       "      <td>0</td>\n",
       "      <td>1</td>\n",
       "      <td>5</td>\n",
       "      <td>1</td>\n",
       "      <td>0</td>\n",
       "      <td>10</td>\n",
       "      <td>2021-12-01</td>\n",
       "      <td>4.0</td>\n",
       "    </tr>\n",
       "    <tr>\n",
       "      <th>186417</th>\n",
       "      <td>859841</td>\n",
       "      <td>36846993</td>\n",
       "      <td>05:37:56</td>\n",
       "      <td>0</td>\n",
       "      <td>0</td>\n",
       "      <td>1</td>\n",
       "      <td>5</td>\n",
       "      <td>1</td>\n",
       "      <td>0</td>\n",
       "      <td>10</td>\n",
       "      <td>2021-12-01</td>\n",
       "      <td>4.0</td>\n",
       "    </tr>\n",
       "    <tr>\n",
       "      <th>186418</th>\n",
       "      <td>859841</td>\n",
       "      <td>86828364</td>\n",
       "      <td>13:17:43</td>\n",
       "      <td>7</td>\n",
       "      <td>0</td>\n",
       "      <td>1</td>\n",
       "      <td>5</td>\n",
       "      <td>1</td>\n",
       "      <td>0</td>\n",
       "      <td>10</td>\n",
       "      <td>2021-12-01</td>\n",
       "      <td>4.0</td>\n",
       "    </tr>\n",
       "    <tr>\n",
       "      <th>186419</th>\n",
       "      <td>859841</td>\n",
       "      <td>86828364</td>\n",
       "      <td>22:19:28</td>\n",
       "      <td>7</td>\n",
       "      <td>0</td>\n",
       "      <td>1</td>\n",
       "      <td>5</td>\n",
       "      <td>1</td>\n",
       "      <td>0</td>\n",
       "      <td>10</td>\n",
       "      <td>2021-12-01</td>\n",
       "      <td>4.0</td>\n",
       "    </tr>\n",
       "    <tr>\n",
       "      <th>...</th>\n",
       "      <td>...</td>\n",
       "      <td>...</td>\n",
       "      <td>...</td>\n",
       "      <td>...</td>\n",
       "      <td>...</td>\n",
       "      <td>...</td>\n",
       "      <td>...</td>\n",
       "      <td>...</td>\n",
       "      <td>...</td>\n",
       "      <td>...</td>\n",
       "      <td>...</td>\n",
       "      <td>...</td>\n",
       "    </tr>\n",
       "    <tr>\n",
       "      <th>16528661</th>\n",
       "      <td>16988388</td>\n",
       "      <td>67074238</td>\n",
       "      <td>11:58:52</td>\n",
       "      <td>0</td>\n",
       "      <td>0</td>\n",
       "      <td>0</td>\n",
       "      <td>5</td>\n",
       "      <td>0</td>\n",
       "      <td>1</td>\n",
       "      <td>10</td>\n",
       "      <td>2021-12-03</td>\n",
       "      <td>4.0</td>\n",
       "    </tr>\n",
       "    <tr>\n",
       "      <th>16528669</th>\n",
       "      <td>53315751</td>\n",
       "      <td>40643616</td>\n",
       "      <td>10:07:46</td>\n",
       "      <td>3</td>\n",
       "      <td>0</td>\n",
       "      <td>0</td>\n",
       "      <td>0</td>\n",
       "      <td>0</td>\n",
       "      <td>1</td>\n",
       "      <td>10</td>\n",
       "      <td>2021-12-03</td>\n",
       "      <td>4.0</td>\n",
       "    </tr>\n",
       "    <tr>\n",
       "      <th>16528671</th>\n",
       "      <td>37890347</td>\n",
       "      <td>68064871</td>\n",
       "      <td>17:13:03</td>\n",
       "      <td>3</td>\n",
       "      <td>8</td>\n",
       "      <td>0</td>\n",
       "      <td>0</td>\n",
       "      <td>0</td>\n",
       "      <td>1</td>\n",
       "      <td>10</td>\n",
       "      <td>2021-12-03</td>\n",
       "      <td>4.0</td>\n",
       "    </tr>\n",
       "    <tr>\n",
       "      <th>16528685</th>\n",
       "      <td>17129978</td>\n",
       "      <td>82636499</td>\n",
       "      <td>14:26:58</td>\n",
       "      <td>3</td>\n",
       "      <td>0</td>\n",
       "      <td>0</td>\n",
       "      <td>0</td>\n",
       "      <td>0</td>\n",
       "      <td>1</td>\n",
       "      <td>10</td>\n",
       "      <td>2021-12-03</td>\n",
       "      <td>4.0</td>\n",
       "    </tr>\n",
       "    <tr>\n",
       "      <th>16528700</th>\n",
       "      <td>879148</td>\n",
       "      <td>14114908</td>\n",
       "      <td>13:36:48</td>\n",
       "      <td>3</td>\n",
       "      <td>0</td>\n",
       "      <td>0</td>\n",
       "      <td>0</td>\n",
       "      <td>0</td>\n",
       "      <td>1</td>\n",
       "      <td>10</td>\n",
       "      <td>2021-12-03</td>\n",
       "      <td>4.0</td>\n",
       "    </tr>\n",
       "  </tbody>\n",
       "</table>\n",
       "<p>7664114 rows × 12 columns</p>\n",
       "</div>"
      ],
      "text/plain": [
       "              id_a      id_b start_time_local  time_zone  duration  forward  \\\n",
       "186415      859841  70423563         02:16:16          7         0        1   \n",
       "186416      859841  70423563         14:03:51          7         0        1   \n",
       "186417      859841  36846993         05:37:56          0         0        1   \n",
       "186418      859841  86828364         13:17:43          7         0        1   \n",
       "186419      859841  86828364         22:19:28          7         0        1   \n",
       "...            ...       ...              ...        ...       ...      ...   \n",
       "16528661  16988388  67074238         11:58:52          0         0        0   \n",
       "16528669  53315751  40643616         10:07:46          3         0        0   \n",
       "16528671  37890347  68064871         17:13:03          3         8        0   \n",
       "16528685  17129978  82636499         14:26:58          3         0        0   \n",
       "16528700    879148  14114908         13:36:48          3         0        0   \n",
       "\n",
       "          zero_call_flg  source_b  source_f  num_b_length    time_key  target  \n",
       "186415                5         1         0            10  2021-12-01     4.0  \n",
       "186416                5         1         0            10  2021-12-01     4.0  \n",
       "186417                5         1         0            10  2021-12-01     4.0  \n",
       "186418                5         1         0            10  2021-12-01     4.0  \n",
       "186419                5         1         0            10  2021-12-01     4.0  \n",
       "...                 ...       ...       ...           ...         ...     ...  \n",
       "16528661              5         0         1            10  2021-12-03     4.0  \n",
       "16528669              0         0         1            10  2021-12-03     4.0  \n",
       "16528671              0         0         1            10  2021-12-03     4.0  \n",
       "16528685              0         0         1            10  2021-12-03     4.0  \n",
       "16528700              0         0         1            10  2021-12-03     4.0  \n",
       "\n",
       "[7664114 rows x 12 columns]"
      ]
     },
     "execution_count": 39,
     "metadata": {},
     "output_type": "execute_result"
    }
   ],
   "source": [
    "tk_list[tk_list['target'] == 4.]"
   ]
  },
  {
   "cell_type": "code",
   "execution_count": null,
   "id": "ff54f7fe",
   "metadata": {},
   "outputs": [],
   "source": []
  },
  {
   "cell_type": "code",
   "execution_count": null,
   "id": "41d89448",
   "metadata": {},
   "outputs": [],
   "source": []
  },
  {
   "cell_type": "code",
   "execution_count": null,
   "id": "969d7c4a",
   "metadata": {},
   "outputs": [],
   "source": []
  },
  {
   "cell_type": "code",
   "execution_count": null,
   "id": "3d95f424",
   "metadata": {},
   "outputs": [],
   "source": []
  },
  {
   "cell_type": "code",
   "execution_count": null,
   "id": "30c315b3",
   "metadata": {},
   "outputs": [],
   "source": []
  },
  {
   "cell_type": "code",
   "execution_count": null,
   "id": "67557fed",
   "metadata": {},
   "outputs": [],
   "source": []
  },
  {
   "cell_type": "code",
   "execution_count": null,
   "id": "70a81574",
   "metadata": {},
   "outputs": [],
   "source": []
  },
  {
   "cell_type": "code",
   "execution_count": null,
   "id": "82480a7b",
   "metadata": {},
   "outputs": [],
   "source": []
  },
  {
   "cell_type": "code",
   "execution_count": null,
   "id": "fc432b02",
   "metadata": {},
   "outputs": [],
   "source": []
  },
  {
   "cell_type": "code",
   "execution_count": null,
   "id": "6baf726d",
   "metadata": {},
   "outputs": [],
   "source": []
  },
  {
   "cell_type": "code",
   "execution_count": null,
   "id": "32811ae1",
   "metadata": {},
   "outputs": [],
   "source": []
  },
  {
   "cell_type": "code",
   "execution_count": null,
   "id": "9c99a520",
   "metadata": {},
   "outputs": [],
   "source": []
  },
  {
   "cell_type": "code",
   "execution_count": null,
   "id": "8ce64e97",
   "metadata": {},
   "outputs": [],
   "source": []
  },
  {
   "cell_type": "code",
   "execution_count": null,
   "id": "56e2e58f",
   "metadata": {},
   "outputs": [],
   "source": []
  },
  {
   "cell_type": "code",
   "execution_count": null,
   "id": "d4c3b23b",
   "metadata": {},
   "outputs": [],
   "source": []
  },
  {
   "cell_type": "code",
   "execution_count": null,
   "id": "7eafe36c",
   "metadata": {},
   "outputs": [],
   "source": []
  },
  {
   "cell_type": "code",
   "execution_count": null,
   "id": "f3645343",
   "metadata": {},
   "outputs": [],
   "source": []
  },
  {
   "cell_type": "code",
   "execution_count": null,
   "id": "84a13600",
   "metadata": {},
   "outputs": [],
   "source": []
  }
 ],
 "metadata": {
  "kernelspec": {
   "display_name": "Python 3 (ipykernel)",
   "language": "python",
   "name": "python3"
  },
  "language_info": {
   "codemirror_mode": {
    "name": "ipython",
    "version": 3
   },
   "file_extension": ".py",
   "mimetype": "text/x-python",
   "name": "python",
   "nbconvert_exporter": "python",
   "pygments_lexer": "ipython3",
   "version": "3.9.12"
  }
 },
 "nbformat": 4,
 "nbformat_minor": 5
}
