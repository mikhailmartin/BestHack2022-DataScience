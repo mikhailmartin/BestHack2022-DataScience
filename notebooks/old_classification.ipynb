{
 "cells": [
  {
   "cell_type": "code",
   "execution_count": 1,
   "id": "f6a9c1e9",
   "metadata": {},
   "outputs": [],
   "source": [
    "import os\n",
    "from functools import reduce\n",
    "\n",
    "from catboost import CatBoostClassifier\n",
    "import matplotlib.pyplot as plt\n",
    "import numpy as np\n",
    "import pandas as pd\n",
    "from sklearn.metrics import fbeta_score\n",
    "from sklearn.model_selection import train_test_split\n",
    "from sklearn.utils.class_weight import compute_class_weight"
   ]
  },
  {
   "cell_type": "code",
   "execution_count": 19,
   "id": "0eeb4c1d",
   "metadata": {},
   "outputs": [],
   "source": [
    "DATA_PATH = os.path.join('data', 'transactions')\n",
    "TARGET_PATH = os.path.join('data', 'beeline_antispam_hakaton_id_samples.csv')\n",
    "\n",
    "TEST_SIZE = .8\n",
    "RANDOM_STATE = 42"
   ]
  },
  {
   "cell_type": "code",
   "execution_count": 20,
   "id": "be0b3637",
   "metadata": {},
   "outputs": [
    {
     "data": {
      "text/html": [
       "<div>\n",
       "<style scoped>\n",
       "    .dataframe tbody tr th:only-of-type {\n",
       "        vertical-align: middle;\n",
       "    }\n",
       "\n",
       "    .dataframe tbody tr th {\n",
       "        vertical-align: top;\n",
       "    }\n",
       "\n",
       "    .dataframe thead th {\n",
       "        text-align: right;\n",
       "    }\n",
       "</style>\n",
       "<table border=\"1\" class=\"dataframe\">\n",
       "  <thead>\n",
       "    <tr style=\"text-align: right;\">\n",
       "      <th></th>\n",
       "      <th>id</th>\n",
       "      <th>target</th>\n",
       "      <th>split</th>\n",
       "    </tr>\n",
       "  </thead>\n",
       "  <tbody>\n",
       "    <tr>\n",
       "      <th>0</th>\n",
       "      <td>196535</td>\n",
       "      <td>NaN</td>\n",
       "      <td>test</td>\n",
       "    </tr>\n",
       "    <tr>\n",
       "      <th>1</th>\n",
       "      <td>63075900</td>\n",
       "      <td>2.0</td>\n",
       "      <td>train</td>\n",
       "    </tr>\n",
       "    <tr>\n",
       "      <th>2</th>\n",
       "      <td>35233935</td>\n",
       "      <td>2.0</td>\n",
       "      <td>train</td>\n",
       "    </tr>\n",
       "    <tr>\n",
       "      <th>3</th>\n",
       "      <td>23557360</td>\n",
       "      <td>4.0</td>\n",
       "      <td>train</td>\n",
       "    </tr>\n",
       "    <tr>\n",
       "      <th>4</th>\n",
       "      <td>78926486</td>\n",
       "      <td>NaN</td>\n",
       "      <td>test</td>\n",
       "    </tr>\n",
       "  </tbody>\n",
       "</table>\n",
       "</div>"
      ],
      "text/plain": [
       "         id  target  split\n",
       "0    196535     NaN   test\n",
       "1  63075900     2.0  train\n",
       "2  35233935     2.0  train\n",
       "3  23557360     4.0  train\n",
       "4  78926486     NaN   test"
      ]
     },
     "execution_count": 20,
     "metadata": {},
     "output_type": "execute_result"
    }
   ],
   "source": [
    "targets = pd.read_csv(TARGET_PATH)\n",
    "# targets = targets.rename(columns={'id': 'id_a'})\n",
    "targets.head()"
   ]
  },
  {
   "cell_type": "code",
   "execution_count": 4,
   "id": "2eb95c44",
   "metadata": {},
   "outputs": [],
   "source": [
    "labeled_targets = targets.loc[targets['split'] == 'train', ['id', 'target']]\n",
    "unlabeled_targets = targets.loc[targets['split'] == 'test', ['id', 'target']]"
   ]
  },
  {
   "cell_type": "code",
   "execution_count": 5,
   "id": "2f25da56",
   "metadata": {},
   "outputs": [
    {
     "data": {
      "text/html": [
       "<div>\n",
       "<style scoped>\n",
       "    .dataframe tbody tr th:only-of-type {\n",
       "        vertical-align: middle;\n",
       "    }\n",
       "\n",
       "    .dataframe tbody tr th {\n",
       "        vertical-align: top;\n",
       "    }\n",
       "\n",
       "    .dataframe thead th {\n",
       "        text-align: right;\n",
       "    }\n",
       "</style>\n",
       "<table border=\"1\" class=\"dataframe\">\n",
       "  <thead>\n",
       "    <tr style=\"text-align: right;\">\n",
       "      <th></th>\n",
       "      <th>id_a</th>\n",
       "      <th>id_b</th>\n",
       "      <th>start_time_local</th>\n",
       "      <th>time_zone</th>\n",
       "      <th>duration</th>\n",
       "      <th>forward</th>\n",
       "      <th>zero_call_flg</th>\n",
       "      <th>source_b</th>\n",
       "      <th>source_f</th>\n",
       "      <th>num_b_length</th>\n",
       "      <th>time_key</th>\n",
       "    </tr>\n",
       "  </thead>\n",
       "  <tbody>\n",
       "    <tr>\n",
       "      <th>0</th>\n",
       "      <td>67596082</td>\n",
       "      <td>43588153</td>\n",
       "      <td>18:43:03</td>\n",
       "      <td>3</td>\n",
       "      <td>0</td>\n",
       "      <td>0</td>\n",
       "      <td>3</td>\n",
       "      <td>0</td>\n",
       "      <td>1</td>\n",
       "      <td>10</td>\n",
       "      <td>2021-11-01</td>\n",
       "    </tr>\n",
       "    <tr>\n",
       "      <th>1</th>\n",
       "      <td>4024969</td>\n",
       "      <td>67656553</td>\n",
       "      <td>11:43:20</td>\n",
       "      <td>4</td>\n",
       "      <td>206</td>\n",
       "      <td>0</td>\n",
       "      <td>5</td>\n",
       "      <td>1</td>\n",
       "      <td>0</td>\n",
       "      <td>10</td>\n",
       "      <td>2021-11-01</td>\n",
       "    </tr>\n",
       "    <tr>\n",
       "      <th>2</th>\n",
       "      <td>43166780</td>\n",
       "      <td>31861625</td>\n",
       "      <td>10:32:36</td>\n",
       "      <td>0</td>\n",
       "      <td>5</td>\n",
       "      <td>0</td>\n",
       "      <td>0</td>\n",
       "      <td>0</td>\n",
       "      <td>1</td>\n",
       "      <td>10</td>\n",
       "      <td>2021-11-01</td>\n",
       "    </tr>\n",
       "    <tr>\n",
       "      <th>3</th>\n",
       "      <td>51817902</td>\n",
       "      <td>41201237</td>\n",
       "      <td>13:45:02</td>\n",
       "      <td>3</td>\n",
       "      <td>0</td>\n",
       "      <td>0</td>\n",
       "      <td>0</td>\n",
       "      <td>0</td>\n",
       "      <td>1</td>\n",
       "      <td>10</td>\n",
       "      <td>2021-11-01</td>\n",
       "    </tr>\n",
       "    <tr>\n",
       "      <th>4</th>\n",
       "      <td>41812796</td>\n",
       "      <td>4932754</td>\n",
       "      <td>13:53:12</td>\n",
       "      <td>0</td>\n",
       "      <td>0</td>\n",
       "      <td>0</td>\n",
       "      <td>5</td>\n",
       "      <td>0</td>\n",
       "      <td>1</td>\n",
       "      <td>10</td>\n",
       "      <td>2021-11-01</td>\n",
       "    </tr>\n",
       "  </tbody>\n",
       "</table>\n",
       "</div>"
      ],
      "text/plain": [
       "       id_a      id_b start_time_local  time_zone  duration  forward  \\\n",
       "0  67596082  43588153         18:43:03          3         0        0   \n",
       "1   4024969  67656553         11:43:20          4       206        0   \n",
       "2  43166780  31861625         10:32:36          0         5        0   \n",
       "3  51817902  41201237         13:45:02          3         0        0   \n",
       "4  41812796   4932754         13:53:12          0         0        0   \n",
       "\n",
       "   zero_call_flg  source_b  source_f  num_b_length    time_key  \n",
       "0              3         0         1            10  2021-11-01  \n",
       "1              5         1         0            10  2021-11-01  \n",
       "2              0         0         1            10  2021-11-01  \n",
       "3              0         0         1            10  2021-11-01  \n",
       "4              5         0         1            10  2021-11-01  "
      ]
     },
     "execution_count": 5,
     "metadata": {},
     "output_type": "execute_result"
    }
   ],
   "source": [
    "# данные по первому дню\n",
    "raw_df = pd.read_csv(os.path.join(DATA_PATH, 'time_key=2021-11-01.csv'))\n",
    "raw_df.head()"
   ]
  },
  {
   "cell_type": "code",
   "execution_count": 6,
   "id": "53095372",
   "metadata": {},
   "outputs": [],
   "source": [
    "all_trans = pd.read_csv(os.path.join(DATA_PATH, 'time_key=2021-11-01.csv'))"
   ]
  },
  {
   "cell_type": "code",
   "execution_count": 7,
   "id": "19cf6da8",
   "metadata": {},
   "outputs": [],
   "source": [
    "raw_df = all_trans[all_trans['id_a'].isin(labeled_targets['id_a'])]\n",
    "raw_df = raw_df.merge(labeled_targets, on='id_a', how='left')"
   ]
  },
  {
   "cell_type": "markdown",
   "id": "b555d390",
   "metadata": {},
   "source": [
    "## Генерим признаки для id"
   ]
  },
  {
   "cell_type": "code",
   "execution_count": 8,
   "id": "34e15243",
   "metadata": {},
   "outputs": [],
   "source": [
    "def categorical_counts(df, ctg_name, final_name):\n",
    "    ctg_stats = df.groupby(['id_a', ctg_name]).count().reset_index()[['id_a', ctg_name, 'id_b']].rename(columns={'id_b': f'{final_name}_counts'})\n",
    "    ctgs = ctg_stats.groupby('id_a')[ctg_name].apply(list).reset_index()\n",
    "    counts = ctg_stats.groupby('id_a')[f'{final_name}_counts'].apply(list).reset_index()\n",
    "    ctg_stats = ctgs.merge(counts, on='id_a', how='left')\n",
    "\n",
    "    new_stats = []\n",
    "    unique_ctgs = df[ctg_name].unique().shape[0]\n",
    "    for id_a, ctg, cnt in zip(\n",
    "        ctg_stats['id_a'],\n",
    "        ctg_stats[ctg_name],\n",
    "        ctg_stats[f'{final_name}_counts'],\n",
    "    ):\n",
    "        stats = np.zeros(unique_ctgs)\n",
    "        stats[ctg] = cnt\n",
    "        new_stats.append([id_a, *stats])\n",
    "\n",
    "    ctg_stats = pd.DataFrame(new_stats)\n",
    "    ctg_stats.columns = ['id_a'] + [f'{final_name}_{x}' for x in range(unique_ctgs)]\n",
    "    \n",
    "    return ctg_stats"
   ]
  },
  {
   "cell_type": "code",
   "execution_count": 9,
   "id": "a3e76d8a",
   "metadata": {},
   "outputs": [],
   "source": [
    "def gen_new_features(raw_df, labeled_targets):\n",
    "    \"\"\"Генерит новые признаки из лога транзакций.\"\"\"\n",
    "    raw_df['start_time_local'] = pd.to_timedelta(raw_df['start_time_local']).astype('timedelta64[s]')\n",
    "\n",
    "    # # скольким разным людям звонил\n",
    "    # unique_b = raw_df.groupby('id_a')['id_b'].nunique().reset_index().rename(columns={'id_b': 'unique_b'})\n",
    "    \n",
    "    # # как часто звонит в день\n",
    "    # calls_frequency = (raw_df.groupby('id_a')['id_b'].count() / raw_df.groupby('id_a')['time_key'].nunique()).reset_index().rename(columns={0: 'calls_frequency'})\n",
    "\n",
    "    # с какими интервалами звонит\n",
    "    all_calls_by_day = raw_df.groupby(['id_a', 'time_key'])['start_time_local'].apply(list).reset_index()\n",
    "    all_calls_by_day = all_calls_by_day.groupby('id_a')['start_time_local'].apply(list).reset_index()\n",
    "    all_calls_by_day['start_time_local'] = all_calls_by_day['start_time_local'].apply(lambda x: np.mean(np.concatenate([np.diff(sorted(_)) if len(_) > 1 else [86400] for _ in x]).ravel()))\n",
    "    # 86400 - seconds in day -- if 1 call per day\n",
    "    calls_interval = all_calls_by_day.rename(columns={'start_time_local': 'calls_interval'})\n",
    "\n",
    "    # # Сколько разных тайм зон\n",
    "    # unique_time_zones = raw_df.groupby('id_a')['time_zone'].nunique().reset_index().rename(columns={'time_zone': 'unique_time_zones'})\n",
    "\n",
    "    # Много ли повторных звонков тем же людям\n",
    "    calls_count = raw_df.groupby(['id_a', 'id_b']).count().reset_index()[['id_a', 'id_b', 'target']].rename(columns={'target': 'repeated_calls'})\n",
    "    mean_repeated_calls = calls_count.groupby('id_a')['repeated_calls'].mean().reset_index()\n",
    "    \n",
    "    # # Средняя длительность звонка\n",
    "    # mean_call_duration = raw_df.groupby('id_a')['duration'].mean().reset_index().rename(columns={'duration': 'mean_duration'})\n",
    "    \n",
    "    # Меняется ли индикатор переадресации\n",
    "    forward_std = raw_df.groupby('id_a')['forward'].std(ddof=0).reset_index().rename(columns={'forward': 'forward_std'})\n",
    "    forward_mean = raw_df.groupby('id_a')['forward'].mean().reset_index().rename(columns={'forward': 'forward_mean'})\n",
    "    forward_volatility = forward_std.merge(forward_mean, on='id_a', how='left')\n",
    "    \n",
    "    # Меняется ли source_b\n",
    "    source_b_std = raw_df.groupby('id_a')['source_b'].std(ddof=0).reset_index().rename(columns={'source_b': 'source_b_std'})\n",
    "    source_b_mean = raw_df.groupby('id_a')['source_b'].mean().reset_index().rename(columns={'source_b': 'source_b_mean'})\n",
    "    source_b_volatility = source_b_std.merge(source_b_mean, on='id_a', how='left')\n",
    "    \n",
    "    # Меняется ли source_f\n",
    "    source_f_std = raw_df.groupby('id_a')['source_f'].std(ddof=0).reset_index().rename(columns={'source_f': 'source_f_std'})\n",
    "    source_f_mean = raw_df.groupby('id_a')['source_f'].mean().reset_index().rename(columns={'source_f': 'source_f_mean'})\n",
    "    source_f_volatility = source_f_std.merge(source_f_mean, on='id_a', how='left')\n",
    "    \n",
    "    # Доля звонков с нулевой/ненулевой длительностью\n",
    "    zero_call_stats = categorical_counts(raw_df, 'zero_call_flg', 'zero_call')\n",
    "\n",
    "    dfs = [\n",
    "        unique_b,\n",
    "        calls_frequency,\n",
    "        calls_interval,\n",
    "        unique_time_zones,\n",
    "        mean_repeated_calls,\n",
    "        mean_call_duration,\n",
    "        forward_volatility,\n",
    "        source_b_volatility,\n",
    "        source_f_volatility, \n",
    "        zero_call_stats,\n",
    "    ]\n",
    "    train_final = reduce(lambda left, right: pd.merge(left, right, on='id_a'), dfs)\n",
    "    train_final_with_target = train_final.merge(labeled_targets, on='id_a', how='left')\n",
    "\n",
    "    return train_final_with_target"
   ]
  },
  {
   "cell_type": "code",
   "execution_count": 10,
   "id": "87fd366c",
   "metadata": {},
   "outputs": [],
   "source": [
    "new_features = gen_new_features(raw_df, labeled_targets)\n",
    "\n",
    "Y = new_features['target']\n",
    "X = new_features.drop(columns='target')"
   ]
  },
  {
   "cell_type": "code",
   "execution_count": 11,
   "id": "884853f2",
   "metadata": {},
   "outputs": [],
   "source": [
    "X_train, X_test, Y_train, Y_test = train_test_split(\n",
    "    X, Y,\n",
    "    test_size=TEST_SIZE,\n",
    "    random_state=RANDOM_STATE,\n",
    "    stratify=Y,\n",
    ")"
   ]
  },
  {
   "cell_type": "code",
   "execution_count": 12,
   "id": "e5254771",
   "metadata": {},
   "outputs": [],
   "source": [
    "def calculate_class_weights(Y):\n",
    "    labels = Y.unique()\n",
    "    labels.sort()\n",
    "    a = Y.mode()[0]  # самый часто встреающийся элемент\n",
    "    class_weights = dict((label, (Y == a).sum() / (Y == label).sum()) for label in labels)\n",
    "\n",
    "    return class_weights"
   ]
  },
  {
   "cell_type": "code",
   "execution_count": 13,
   "id": "cda0fb0a",
   "metadata": {},
   "outputs": [],
   "source": [
    "# предполагаем, что для всех остальных дней распределение классов примерно такое же\n",
    "class_weights = calculate_class_weights(Y)"
   ]
  },
  {
   "cell_type": "markdown",
   "id": "14fde7aa",
   "metadata": {},
   "source": [
    "### Результат экспериментов с разным количеством дней\n",
    "data_plot_x - кол-во дней\n",
    "data_plot_y - score fbet"
   ]
  },
  {
   "cell_type": "code",
   "execution_count": 15,
   "id": "c9abb49a",
   "metadata": {},
   "outputs": [
    {
     "data": {
      "text/plain": [
       "[<matplotlib.lines.Line2D at 0x2ac4a441580>]"
      ]
     },
     "execution_count": 15,
     "metadata": {},
     "output_type": "execute_result"
    },
    {
     "data": {
      "image/png": "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\n",
      "text/plain": [
       "<Figure size 432x288 with 1 Axes>"
      ]
     },
     "metadata": {
      "needs_background": "light"
     },
     "output_type": "display_data"
    }
   ],
   "source": [
    "data_plot_y = np.array([0.47, 0.50, 0.513, 0.523, 0.49, 0.4909, 0.4964])\n",
    "data_plot_x = np.array([5, 10, 15, 20, 25, 30, 40])\n",
    "data_plot_s = np.array([20, 20, 20, 20, 20, 20, 20])\n",
    "\n",
    "plt.plot(data_plot_x, data_plot_y)\n",
    "plt.plot(data_plot_s,data_plot_y, 'go--')"
   ]
  },
  {
   "cell_type": "code",
   "execution_count": 16,
   "id": "9e170138",
   "metadata": {},
   "outputs": [],
   "source": [
    "catboost = CatBoostClassifier(class_weights=class_weights)"
   ]
  },
  {
   "cell_type": "code",
   "execution_count": 17,
   "id": "938c906b",
   "metadata": {},
   "outputs": [
    {
     "ename": "NameError",
     "evalue": "name 'data_rr_train' is not defined",
     "output_type": "error",
     "traceback": [
      "\u001b[1;31m---------------------------------------------------------------------------\u001b[0m",
      "\u001b[1;31mNameError\u001b[0m                                 Traceback (most recent call last)",
      "Input \u001b[1;32mIn [17]\u001b[0m, in \u001b[0;36m<cell line: 1>\u001b[1;34m()\u001b[0m\n\u001b[1;32m----> 1\u001b[0m target \u001b[38;5;241m=\u001b[39m \u001b[43mdata_rr_train\u001b[49m\u001b[38;5;241m.\u001b[39mtarget \n\u001b[0;32m      2\u001b[0m data_rr_train \u001b[38;5;241m=\u001b[39m data_rr_train\u001b[38;5;241m.\u001b[39mdrop([\u001b[38;5;124m'\u001b[39m\u001b[38;5;124mtarget\u001b[39m\u001b[38;5;124m'\u001b[39m], axis \u001b[38;5;241m=\u001b[39m \u001b[38;5;241m1\u001b[39m)\n",
      "\u001b[1;31mNameError\u001b[0m: name 'data_rr_train' is not defined"
     ]
    }
   ],
   "source": [
    "target = data_rr_train.target \n",
    "data_rr_train = data_rr_train.drop(columns='target')"
   ]
  },
  {
   "cell_type": "code",
   "execution_count": null,
   "id": "94c3df48",
   "metadata": {},
   "outputs": [],
   "source": [
    "X_train, X_test_a, y_train, y_test = train_test_split(\n",
    "    data_rr_train[data_rr_train.columns[1:]],\n",
    "    target,\n",
    "    train_size=0.85, \n",
    "    random_state=RANDOM_STATE,\n",
    ")\n",
    "\n",
    "classes = np.unique(y_train)\n",
    "weights = compute_class_weight(class_weight='balanced', classes=classes, y=y_train)\n",
    "class_weights = dict(zip(classes, weights))"
   ]
  },
  {
   "cell_type": "code",
   "execution_count": null,
   "id": "67c22486",
   "metadata": {},
   "outputs": [],
   "source": [
    "catboost.fit(X_train, y_train, verbose=0)"
   ]
  },
  {
   "cell_type": "code",
   "execution_count": null,
   "id": "e33927d5",
   "metadata": {},
   "outputs": [],
   "source": [
    "Y_pred = cat.predict(X_test_a)\n",
    "metric = fbeta_score(y_test, Y_pred, average='macro', beta=0.5)"
   ]
  },
  {
   "cell_type": "code",
   "execution_count": null,
   "id": "69c3af88",
   "metadata": {},
   "outputs": [],
   "source": [
    "print(metric)"
   ]
  },
  {
   "cell_type": "code",
   "execution_count": null,
   "id": "d034fa3e",
   "metadata": {},
   "outputs": [],
   "source": [
    "labels = catboost.predict(test_data[test_data.columns[1: -1]])"
   ]
  },
  {
   "cell_type": "code",
   "execution_count": null,
   "id": "bc9d2c4d",
   "metadata": {},
   "outputs": [],
   "source": [
    "# распределение полученных результатов\n",
    "plt.hist(labels)"
   ]
  }
 ],
 "metadata": {
  "kernelspec": {
   "display_name": "Python 3 (ipykernel)",
   "language": "python",
   "name": "python3"
  },
  "language_info": {
   "codemirror_mode": {
    "name": "ipython",
    "version": 3
   },
   "file_extension": ".py",
   "mimetype": "text/x-python",
   "name": "python",
   "nbconvert_exporter": "python",
   "pygments_lexer": "ipython3",
<<<<<<< Updated upstream
   "version": "3.11.4"
=======
   "version": "3.12.1"
>>>>>>> Stashed changes
  }
 },
 "nbformat": 4,
 "nbformat_minor": 5
}
