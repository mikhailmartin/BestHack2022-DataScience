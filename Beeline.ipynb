{
  "cells": [
    {
      "cell_type": "markdown",
      "metadata": {
        "id": "IOg6GwAHFeOD"
      },
      "source": [
        "# BestHack2022 DataScience\n",
        "\n",
        "## Формулировка задания\n",
        "\n",
        "По статистике каждый активный абонент в среднем получает более 5-ти нежелательных звонков в неделю. При этом\n",
        "для разных людей понятия «желаемого» и «нежелательного» трафика могут не совпадать. Один и тот же номер\n",
        "может использоваться как для назойливого рекламного обзвона, так и для обслуживания клиентов; а на каждого\n",
        "нового мошенника реагировать нужно как можно быстрее.\n",
        "\n",
        "В архиве [`transactions.zip`](https://drive.google.com/drive/folders/1Bn3bvV5u15a7enelJwmqyRrWu9Dfm-eZ)\n",
        "содержатся синтетические данные транзакций голосового трафика за 2 месяца, максимально приближенные к\n",
        "реальным. В файле `beeline_antispam_hakaton_id_samples.csv` содержатся __id__ абонентов, таргет по которым\n",
        "известен (train) и по которым нужно предсказать (test).\n",
        "\n",
        "Сможете ли вы определить, к какому типу относится конкретный номер?\n",
        "Сможете ли вы построить стабильную и легкую модель?\n",
        "\n",
        "\n",
        "## Часть I - ML\n",
        "\n",
        "Требуется построить модель, которая классифицировала бы номера на 5 категорий:\n",
        "- 0 - не спам\n",
        "- 1 - небольшие полезные ИП / малые бизнесы\n",
        "- 2 - организации\n",
        "- 3 - мобильная карусель\n",
        "- 4 - чёрные спамеры и мошенники\n",
        "\n",
        "Метрика - [`fbeta_score(average='macro', beta=0.5)`](https://scikit-learn.org/stable/modules/generated/sklearn.metrics.fbeta_score.html).\n",
        "\n",
        "На выходе мы ожидаем файл `beeline_antispam_hakaton_id_samples.csv`, в котором для тестовых данных (test)\n",
        "проставлена одна из 5 категорий.\n",
        "\n",
        "\n",
        "## Часть II - R&D\n",
        "\n",
        "Помимо точности предсказания, мы также будем оценивать <u>применимость решения в боевых условиях</u> и\n",
        "<u>качество инсайтов</u>, полученных из данных.\n",
        "\n",
        "Идеальное решение должно быть не только точным, но также __стабильным__ и __«лёгким»__.\n",
        "\n",
        "Лёгким, так как реальные данные в тысячи раз тяжелее, а модель должна работать в режиме, приближенном к\n",
        "real-time, чтобы с минимальной задержкой реагировать даже на самых продвинутых мошенников, которые быстро\n",
        "меняют номера и подстраивают своё поведение для обхода антифрод-систем.\n",
        "\n",
        "Под «лёгкостью» мы понимаем не столько сложность самого алгоритма (одна бустинг модель вполне ОК, десять\n",
        "«застеканных» моделей - нет), сколько глубину используемых данных (необязательно использовать целый месяц,\n",
        "можно попробовать ограничиться одной неделей или несколькими днями, если это не сильно влияет на точность).\n",
        "    \n",
        "Под стабильностью мы понимаем постоянство качества модели в динамике как в целом по категориям, так и по\n",
        "каждому конкретному номеру (в идеальном мире один и тот же номер, если он не меняет фактического владельца,\n",
        "должен иметь одинаковый скор и вчера, и сегодня и завтра). Метрику стабильности, в особенности для случая\n",
        "с конкретными номерами, мы предлагаем вам придумать самим.\n",
        "\n",
        "В частности, нам бы хотелось, чтобы вы ответили на следующие вопросы (но, возможно, вы захотите\n",
        "поисследовать в данных что-то ещё):\n",
        "1. Какие паттерны поведения номеров помогают отделить категории 1-4 друг от друга?\n",
        "2. Насколько отличаются предсказания модели, построенные на разных периодах времени?\n",
        "3. Не «ломается» ли модель в выходные и праздники?\n",
        "4. Какое минимальное количество дней исторических транзакций требуется для, чтобы построить стабильную\n",
        "и достаточно точную модель?\n",
        "5. Какую метрику стабильности скора по отдельным номерам вы предлагаете использовать?\n",
        "6. Как модель работает на слабоактивных номерах?\n",
        "7. Среди номеров из наиболее «спорных» категорий 2 и 3, возможно ли выделить полезный и нежелательный\n",
        "трафик на уровне конкретного звонка?\n",
        "\n",
        "Мы очень приветствуем, чтобы ваши выводы были подкреплены конкретными цифрами и графиками (визуализация\n",
        "должна подтверждать тезис и быть читаемой, но её красота сама по себе не оценивается).\n",
        "\n",
        "Удачи!\n",
        "\n",
        "\n",
        "### Описание данных\n",
        "- `id _a` - id абонента, который звонит\n",
        "- `id _b` - id абонента, которому звонят\n",
        "- `time_key` - дата звонка\n",
        "- `start_time_local` - время начала звонка\n",
        "- `time_zone` - часовая зона звонящего абонента\n",
        "- `duration` - длительность звонка\n",
        "- `forward` - индикатор переадресации\n",
        "- `zero_call_glg` - категория звонка с нулевой длительностью\n",
        "- `source_b` - индикатор транзакции из источника B\n",
        "- `source_f` - индикатор транзакции из источника F\n",
        "- `num_b_length` - длина номера абонента, которому звонят\n"
      ]
    },
    {
      "cell_type": "markdown",
      "metadata": {
        "id": "ucvD4eKxshyF"
      },
      "source": [
        "**Обработка данных**"
      ]
    },
    {
      "cell_type": "code",
      "execution_count": 2,
      "metadata": {
        "colab": {
          "base_uri": "https://localhost:8080/"
        },
        "id": "wDWStDu2rTi0",
        "outputId": "7bb93a69-72e5-4814-a784-c75189fa127d"
      },
      "outputs": [
        {
          "name": "stdout",
          "output_type": "stream",
          "text": [
            "         id  target  split\n",
            "0    196535     NaN   test\n",
            "1  63075900     2.0  train\n",
            "2  35233935     2.0  train\n",
            "3  23557360     4.0  train\n",
            "4  78926486     NaN   test\n",
            "\n",
            "samples.shape:\n",
            "(46235, 3)\n",
            "\n",
            "       id_a      id_b start_time_local  time_zone  duration  forward  \\\n",
            "0  67596082  43588153         18:43:03          3         0      0.0   \n",
            "1   4024969  67656553         11:43:20          4       206      0.0   \n",
            "2  43166780  31861625         10:32:36          0         5      0.0   \n",
            "3  51817902  41201237         13:45:02          3         0      0.0   \n",
            "4  41812796   4932754         13:53:12          0         0      0.0   \n",
            "\n",
            "   zero_call_flg  source_b  source_f  num_b_length    time_key  \n",
            "0            3.0       0.0       1.0          10.0  2021-11-01  \n",
            "1            5.0       1.0       0.0          10.0  2021-11-01  \n",
            "2            0.0       0.0       1.0          10.0  2021-11-01  \n",
            "3            0.0       0.0       1.0          10.0  2021-11-01  \n",
            "4            5.0       0.0       1.0          10.0  2021-11-01  \n",
            "data.shape:\n",
            "(417477, 11)\n"
          ]
        }
      ],
      "source": [
        "import pandas as pd\n",
        "from datetime import datetime\n",
        "from dateutil.parser import parse\n",
        "from sklearn.model_selection import train_test_split\n",
        "from sklearn.tree import DecisionTreeClassifier \n",
        "from sklearn import metrics \n",
        "\n",
        "samples = pd.read_csv('./data/beeline_antispam_hakaton_id_samples.csv')\n",
        "print(samples.head())\n",
        "print()\n",
        "print(\"samples.shape:\")\n",
        "print(samples.shape)\n",
        "print()\n",
        "data = pd.read_csv('./data/time_key=2021-11-01.csv')\n",
        "print(data.head())\n",
        "print(\"data.shape:\")\n",
        "print(data.shape)\n",
        "\n",
        "\n",
        "                      \n"
      ]
    },
    {
      "cell_type": "markdown",
      "metadata": {
        "id": "-iBPKLYSSWih"
      },
      "source": [
        "Выделим фичи из датасета и поделим их на числовые и категориальные."
      ]
    },
    {
      "cell_type": "code",
      "execution_count": 3,
      "metadata": {
        "id": "gGTIueBySVdW"
      },
      "outputs": [],
      "source": [
        "num_cols = [\n",
        "    'start_time_local',\n",
        "    'duration',\n",
        "    'num_b_length',\n",
        "    'time_key'\n",
        "]\n",
        "\n",
        "cat_cols = [\n",
        "    'id_a',\n",
        "    'id_b',\n",
        "    'time_zone',\n",
        "    'forward',\n",
        "    'zero_call_flg',\n",
        "    'source_b',\n",
        "    'source_f',\n",
        "]\n",
        "\n",
        "cols = num_cols + cat_cols\n",
        "data = data[cols]\n"
      ]
    },
    {
      "cell_type": "markdown",
      "metadata": {
        "id": "jZ4C6X2VknQw"
      },
      "source": [
        "\n",
        "Посмотрим на пропущенные значения и уберем их при необходимости"
      ]
    },
    {
      "cell_type": "code",
      "execution_count": 4,
      "metadata": {
        "colab": {
          "base_uri": "https://localhost:8080/"
        },
        "id": "EhN0V5NGRVjZ",
        "outputId": "fd6cacfb-44cc-4c36-9aad-aaf80dd5c148"
      },
      "outputs": [
        {
          "name": "stdout",
          "output_type": "stream",
          "text": [
            "start_time_local    0.000000\n",
            "duration            0.000000\n",
            "num_b_length        0.000002\n",
            "time_key            0.000002\n",
            "id_a                0.000000\n",
            "id_b                0.000000\n",
            "time_zone           0.000000\n",
            "forward             0.000002\n",
            "zero_call_flg       0.000002\n",
            "source_b            0.000002\n",
            "source_f            0.000002\n",
            "dtype: float64\n"
          ]
        }
      ],
      "source": [
        "\n",
        "print(data.isna().mean())\n",
        "data = data.dropna()"
      ]
    },
    {
      "cell_type": "markdown",
      "metadata": {
        "id": "wllq3cXXl18n"
      },
      "source": [
        "**Распределение звонков по локальному времени:**"
      ]
    },
    {
      "cell_type": "code",
      "execution_count": 5,
      "metadata": {
        "colab": {
          "base_uri": "https://localhost:8080/",
          "height": 265
        },
        "id": "MrzEWjRKT3rL",
        "outputId": "fc05699f-1537-47ed-a960-a8e4b867df74"
      },
      "outputs": [
        {
          "data": {
            "image/png": "[encoded data removed]",
            "text/plain": [
              "<Figure size 432x288 with 1 Axes>"
            ]
          },
          "metadata": {
            "needs_background": "light"
          },
          "output_type": "display_data"
        }
      ],
      "source": [
        "hours_distributions = data['start_time_local'].str.slice(0, 2).astype(int)\n",
        "fig = hours_distributions.hist().get_figure()"
      ]
    },
    {
      "cell_type": "markdown",
      "metadata": {
        "id": "lvw4nNUCmNRX"
      },
      "source": [
        "**Распределение звонков по UTC:**"
      ]
    },
    {
      "cell_type": "code",
      "execution_count": 6,
      "metadata": {
        "colab": {
          "base_uri": "https://localhost:8080/",
          "height": 265
        },
        "id": "fEDe_AvxmTto",
        "outputId": "76687af2-ac34-42b8-e3fe-09c3d4589fae"
      },
      "outputs": [
        {
          "data": {
            "image/png": "[encoded data removed]",
            "text/plain": [
              "<Figure size 432x288 with 1 Axes>"
            ]
          },
          "metadata": {
            "needs_background": "light"
          },
          "output_type": "display_data"
        }
      ],
      "source": [
        "hours_distributions_UTS = hours_distributions - data['time_zone'].astype(int)\n",
        "fig = hours_distributions_UTS.hist().get_figure()"
      ]
    },
    {
      "cell_type": "markdown",
      "metadata": {
        "id": "52Sku4kbsZj7"
      },
      "source": [
        "**Преобразуем время к числу**"
      ]
    },
    {
      "cell_type": "code",
      "execution_count": 7,
      "metadata": {
        "colab": {
          "base_uri": "https://localhost:8080/"
        },
        "id": "I-4Rm3rFHItr",
        "outputId": "b8f59079-cf93-4cce-a36d-6995d7be3e02"
      },
      "outputs": [
        {
          "name": "stdout",
          "output_type": "stream",
          "text": [
            "0    67383.0\n",
            "1    42200.0\n",
            "2    37956.0\n",
            "3    49502.0\n",
            "4    49992.0\n",
            "Name: start_time_local, dtype: float64\n"
          ]
        }
      ],
      "source": [
        "# Время указано в секундах\n",
        "data['start_time_local'] = pd.to_timedelta(data['start_time_local']).dt.total_seconds()\n",
        "print(data['start_time_local'].head())"
      ]
    },
    {
      "cell_type": "markdown",
      "metadata": {
        "id": "TFFy4Ef6-Qsi"
      },
      "source": [
        "**Преобразуем дату к числу**"
      ]
    },
    {
      "cell_type": "code",
      "execution_count": 8,
      "metadata": {
        "colab": {
          "base_uri": "https://localhost:8080/"
        },
        "id": "bGqH5SFL-Vg6",
        "outputId": "182702be-cefc-40a2-becc-d2370c366dce"
      },
      "outputs": [
        {
          "name": "stdout",
          "output_type": "stream",
          "text": [
            "0    2021-11-01\n",
            "1    2021-11-01\n",
            "2    2021-11-01\n",
            "3    2021-11-01\n",
            "4    2021-11-01\n",
            "Name: time_key, dtype: object\n",
            "0    1\n",
            "1    1\n",
            "2    1\n",
            "3    1\n",
            "4    1\n",
            "Name: time_key, dtype: int64\n"
          ]
        }
      ],
      "source": [
        "print(data['time_key'].head())\n",
        "# Извлечем определенный день в месяце\n",
        "data['time_key'] = pd.to_datetime(data['time_key'], errors='coerce').dt.day\n",
        "print(data['time_key'].head())"
      ]
    },
    {
      "cell_type": "markdown",
      "metadata": {
        "id": "cYTma3HetDHT"
      },
      "source": [
        "**Посмотрим на распределение фичей**"
      ]
    },
    {
      "cell_type": "code",
      "execution_count": 9,
      "metadata": {
        "colab": {
          "base_uri": "https://localhost:8080/"
        },
        "id": "_FjrmlOlRtqa",
        "outputId": "d6fff400-5e8c-4764-f58c-4f7305c0bd8d"
      },
      "outputs": [
        {
          "name": "stdout",
          "output_type": "stream",
          "text": [
            "id_a DISTRIBUTION\n",
            "6325350     83876\n",
            "1741727     57082\n",
            "51817902    29324\n",
            "52273536    14414\n",
            "41812796    13194\n",
            "            ...  \n",
            "86860220        1\n",
            "74125608        1\n",
            "83911581        1\n",
            "59139935        1\n",
            "28340953        1\n",
            "Name: id_a, Length: 7674, dtype: int64\n",
            "id_b DISTRIBUTION\n",
            "5137773     6455\n",
            "67511626     601\n",
            "7055569      531\n",
            "70502169     468\n",
            "3969649      321\n",
            "            ... \n",
            "77280372       1\n",
            "20626593       1\n",
            "62125950       1\n",
            "57264240       1\n",
            "1038323        1\n",
            "Name: id_b, Length: 372359, dtype: int64\n",
            "time_zone DISTRIBUTION\n",
            " 3     247375\n",
            " 0     144898\n",
            " 4      10257\n",
            " 2       7877\n",
            " 7       5202\n",
            " 5        921\n",
            " 1        454\n",
            " 8        185\n",
            "-1        130\n",
            " 10       101\n",
            " 6         41\n",
            " 9         17\n",
            " 11        13\n",
            " 12         5\n",
            "Name: time_zone, dtype: int64\n",
            "forward DISTRIBUTION\n",
            "0.0    378913\n",
            "1.0     38563\n",
            "Name: forward, dtype: int64\n",
            "zero_call_flg DISTRIBUTION\n",
            "0.0    237350\n",
            "5.0    147149\n",
            "2.0     10803\n",
            "1.0      9568\n",
            "3.0      9325\n",
            "4.0      3281\n",
            "Name: zero_call_flg, dtype: int64\n",
            "source_b DISTRIBUTION\n",
            "0.0    320419\n",
            "1.0     97057\n",
            "Name: source_b, dtype: int64\n",
            "source_f DISTRIBUTION\n",
            "1.0    352319\n",
            "0.0     65157\n",
            "Name: source_f, dtype: int64\n"
          ]
        }
      ],
      "source": [
        "for col in cat_cols:\n",
        "    print(f\"{col} DISTRIBUTION\")\n",
        "    print(data[col].value_counts())\n"
      ]
    },
    {
      "cell_type": "markdown",
      "metadata": {
        "id": "Bo56GOA-XkYs"
      },
      "source": [
        "**Визуализируем распределение категориальных фичей**"
      ]
    },
    {
      "cell_type": "markdown",
      "metadata": {
        "id": "sIg2Vp3Ijjuj"
      },
      "source": [
        "Распределение часовых зон:\n"
      ]
    },
    {
      "cell_type": "code",
      "execution_count": 10,
      "metadata": {
        "colab": {
          "base_uri": "https://localhost:8080/",
          "height": 265
        },
        "id": "K4ZLGh_UXjkb",
        "outputId": "cd437094-f3f2-4ac0-97b9-31bb0032d8f9"
      },
      "outputs": [
        {
          "data": {
            "image/png": "[encoded data removed]",
            "text/plain": [
              "<Figure size 432x288 with 1 Axes>"
            ]
          },
          "metadata": {
            "needs_background": "light"
          },
          "output_type": "display_data"
        }
      ],
      "source": [
        "\n",
        "h = data['time_zone'].hist()\n",
        "fig = h.get_figure()"
      ]
    },
    {
      "cell_type": "markdown",
      "metadata": {
        "id": "5FR6DYeOj_Vq"
      },
      "source": [
        "Распределение категории звонка с нулевой длительностью:"
      ]
    },
    {
      "cell_type": "code",
      "execution_count": 11,
      "metadata": {
        "colab": {
          "base_uri": "https://localhost:8080/",
          "height": 265
        },
        "id": "pmdsx3dVkOrQ",
        "outputId": "5da0a8ca-4bb1-4e9f-f295-29d57e5541e3"
      },
      "outputs": [
        {
          "data": {
            "image/png": "[encoded data removed]",
            "text/plain": [
              "<Figure size 432x288 with 1 Axes>"
            ]
          },
          "metadata": {
            "needs_background": "light"
          },
          "output_type": "display_data"
        }
      ],
      "source": [
        "h = data['zero_call_flg'].hist()\n",
        "fig = h.get_figure()"
      ]
    },
    {
      "cell_type": "markdown",
      "metadata": {
        "id": "5aHAKw42y00E"
      },
      "source": [
        "**Столбцы в таблице целевых переменных**"
      ]
    },
    {
      "cell_type": "code",
      "execution_count": 12,
      "metadata": {
        "colab": {
          "base_uri": "https://localhost:8080/"
        },
        "id": "n4Ords6By9hb",
        "outputId": "01d888fa-9e93-4cef-eaf7-bea6061071de"
      },
      "outputs": [
        {
          "name": "stdout",
          "output_type": "stream",
          "text": [
            "id DISTRIBUTION\n",
            "196535      1\n",
            "40982206    1\n",
            "25798719    1\n",
            "19050882    1\n",
            "17647619    1\n",
            "           ..\n",
            "23760948    1\n",
            "78393782    1\n",
            "75174874    1\n",
            "23157851    1\n",
            "12483388    1\n",
            "Name: id, Length: 46235, dtype: int64\n",
            "target DISTRIBUTION\n",
            "0.0    16344\n",
            "4.0     9966\n",
            "2.0     6697\n",
            "3.0     2012\n",
            "1.0     1923\n",
            "Name: target, dtype: int64\n",
            "split DISTRIBUTION\n",
            "train    36942\n",
            "test      9293\n",
            "Name: split, dtype: int64\n"
          ]
        }
      ],
      "source": [
        "target_cols = ['id','target','split']\n",
        "for col in target_cols:\n",
        "    print(f\"{col} DISTRIBUTION\")\n",
        "    print(samples[col].value_counts())"
      ]
    },
    {
      "cell_type": "markdown",
      "metadata": {
        "id": "lGUG6A3vybzk"
      },
      "source": [
        "**Визуализация распределения целевых переменных**"
      ]
    },
    {
      "cell_type": "code",
      "execution_count": 13,
      "metadata": {
        "colab": {
          "base_uri": "https://localhost:8080/",
          "height": 265
        },
        "id": "M3VCIGi91AXE",
        "outputId": "b0d504cd-b609-4d79-a127-6942036c20d9"
      },
      "outputs": [
        {
          "data": {
            "image/png": "[encoded data removed]",
            "text/plain": [
              "<Figure size 432x288 with 1 Axes>"
            ]
          },
          "metadata": {
            "needs_background": "light"
          },
          "output_type": "display_data"
        }
      ],
      "source": [
        "h = samples['target'].hist()\n",
        "fig = h.get_figure()"
      ]
    },
    {
      "cell_type": "markdown",
      "metadata": {
        "id": "tgWqg46P1Yyi"
      },
      "source": [
        "**Разделим на тренировочную и тестовую выборки данные о целеввых переменных**"
      ]
    },
    {
      "cell_type": "code",
      "execution_count": 14,
      "metadata": {
        "colab": {
          "base_uri": "https://localhost:8080/"
        },
        "id": "dJQTLd401i2k",
        "outputId": "2180d20e-ee66-4082-a89b-3dfe77824bb3"
      },
      "outputs": [
        {
          "name": "stdout",
          "output_type": "stream",
          "text": [
            "         id  target\n",
            "1  63075900     2.0\n",
            "2  35233935     2.0\n",
            "3  23557360     4.0\n",
            "5  42781042     4.0\n",
            "6  38675005     4.0\n",
            "\n",
            "          id  target\n",
            "0     196535     NaN\n",
            "4   78926486     NaN\n",
            "7   65130548     NaN\n",
            "8   27011323     NaN\n",
            "14  41430879     NaN\n"
          ]
        }
      ],
      "source": [
        "samples_data , samples_predict = [x for _, x in samples.groupby(samples['split'] == 'test')]\n",
        "samples_data = samples_data.drop('split', axis=1)\n",
        "samples_predict = samples_predict.drop('split', axis=1)\n",
        "print(samples_data.head())\n",
        "print()\n",
        "print(samples_predict.head())\n"
      ]
    },
    {
      "cell_type": "markdown",
      "metadata": {
        "id": "eO2CIqvWKD4t"
      },
      "source": [
        "**Отсечем данные, о которых нет информации о целевой переменной**"
      ]
    },
    {
      "cell_type": "code",
      "execution_count": 15,
      "metadata": {
        "colab": {
          "base_uri": "https://localhost:8080/"
        },
        "id": "F7WZDj4YKKPB",
        "outputId": "8eee6c9d-f17e-4152-e01c-f46a6e9c92cf"
      },
      "outputs": [
        {
          "name": "stdout",
          "output_type": "stream",
          "text": [
            "(292588, 12)\n",
            "   start_time_local  duration  num_b_length  time_key      id_a      id_b  \\\n",
            "0           67383.0         0          10.0         1  67596082  43588153   \n",
            "1           59286.0         0          10.0         1  67596082  82184937   \n",
            "2           37476.0         0          10.0         1  67596082  48927355   \n",
            "3           38474.0         0          10.0         1  67596082  10241386   \n",
            "4           49756.0         0          10.0         1  67596082    229405   \n",
            "\n",
            "   time_zone  forward  zero_call_flg  source_b  source_f  target  \n",
            "0          3      0.0            3.0       0.0       1.0     4.0  \n",
            "1          3      0.0            5.0       0.0       1.0     4.0  \n",
            "2          0      0.0            5.0       0.0       1.0     4.0  \n",
            "3          3      0.0            0.0       0.0       1.0     4.0  \n",
            "4          0      1.0            5.0       1.0       0.0     4.0  \n",
            "4.0    250195\n",
            "2.0     14874\n",
            "3.0     12901\n",
            "0.0     12661\n",
            "1.0      1957\n",
            "Name: target, dtype: int64\n"
          ]
        }
      ],
      "source": [
        "\n",
        "data = data.merge(samples_data[['id','target']], left_on='id_a', right_on='id', how='inner') \\\n",
        "           .drop(columns=['id'])\n",
        "print(data.shape)\n",
        "print(data.head())\n",
        "print(data['target'].value_counts())"
      ]
    },
    {
      "cell_type": "code",
      "execution_count": 16,
      "metadata": {
        "colab": {
          "base_uri": "https://localhost:8080/"
        },
        "id": "jGOhQ9H56gUi",
        "outputId": "682f68de-7f45-4cb7-984a-7ccae423074b"
      },
      "outputs": [
        {
          "name": "stdout",
          "output_type": "stream",
          "text": [
            "   start_time_local  duration  num_b_length  time_key      id_a      id_b  \\\n",
            "0           67383.0         0          10.0         1  67596082  43588153   \n",
            "1           59286.0         0          10.0         1  67596082  82184937   \n",
            "2           37476.0         0          10.0         1  67596082  48927355   \n",
            "3           38474.0         0          10.0         1  67596082  10241386   \n",
            "4           49756.0         0          10.0         1  67596082    229405   \n",
            "\n",
            "   time_zone  forward  zero_call_flg  source_b  source_f  target  \n",
            "0          3      0.0            3.0       0.0       1.0     4.0  \n",
            "1          3      0.0            5.0       0.0       1.0     4.0  \n",
            "2          0      0.0            5.0       0.0       1.0     4.0  \n",
            "3          3      0.0            0.0       0.0       1.0     4.0  \n",
            "4          0      1.0            5.0       1.0       0.0     4.0  \n"
          ]
        }
      ],
      "source": [
        "print(data.head())\n",
        "\n",
        "x_train, x_test, y_train, y_test = train_test_split(data[cols], data[['target']], test_size=0.2)"
      ]
    },
    {
      "cell_type": "code",
      "execution_count": 17,
      "metadata": {
        "id": "2AWsYFBXBvh-"
      },
      "outputs": [],
      "source": [
        "# Создание объекта дерева решений\n",
        "clf = DecisionTreeClassifier()\n",
        "clf = clf.fit(x_train ,y_train)\n",
        "# Предсказание ответа для тестового набора данных\n",
        "y_pred = clf.predict(x_test)\n"
      ]
    },
    {
      "cell_type": "markdown",
      "metadata": {
        "id": "6Z0bb4UEXvFL"
      },
      "source": [
        "Посмотрим на параметры, которые использовались в модели:"
      ]
    },
    {
      "cell_type": "code",
      "execution_count": 18,
      "metadata": {
        "colab": {
          "base_uri": "https://localhost:8080/"
        },
        "id": "R8YB6tI5X1fu",
        "outputId": "0c25625b-1d37-455c-9115-a7f1062ed265"
      },
      "outputs": [
        {
          "name": "stdout",
          "output_type": "stream",
          "text": [
            "Параметры (по умолчанию):  {'ccp_alpha': 0.0, 'class_weight': None, 'criterion': 'gini', 'max_depth': None, 'max_features': None, 'max_leaf_nodes': None, 'min_impurity_decrease': 0.0, 'min_samples_leaf': 1, 'min_samples_split': 2, 'min_weight_fraction_leaf': 0.0, 'random_state': None, 'splitter': 'best'}\n",
            "Глубина:  33\n",
            "Критерий разбивки:  gini\n",
            "Минимальное количество отсчетов внутри узла, требуемое для его разбивки 2\n",
            "Количество листьев в дереве:  6467\n"
          ]
        }
      ],
      "source": [
        "print('Параметры (по умолчанию): ', clf.get_params())\n",
        "print('Глубина: ', clf.get_depth())\n",
        "print('Критерий разбивки: ', clf.criterion)\n",
        "print('Минимальное количество отсчетов внутри узла, требуемое для его разбивки', clf.min_samples_split)\n",
        "print('Количество листьев в дереве: ', clf.get_n_leaves())"
      ]
    },
    {
      "cell_type": "markdown",
      "metadata": {
        "id": "yfXoevHTCG5F"
      },
      "source": [
        "**Оценка точности**"
      ]
    },
    {
      "cell_type": "code",
      "execution_count": 19,
      "metadata": {
        "colab": {
          "base_uri": "https://localhost:8080/"
        },
        "id": "sXE1-LlbCJ56",
        "outputId": "f00e11a2-7db2-4e67-ca5b-ff0c94e4d73b"
      },
      "outputs": [
        {
          "name": "stdout",
          "output_type": "stream",
          "text": [
            "Accuracy: 0.9690693461840801\n"
          ]
        }
      ],
      "source": [
        "print(\"Accuracy:\",metrics.accuracy_score(y_test, y_pred))"
      ]
    },
    {
      "cell_type": "markdown",
      "metadata": {
        "id": "69YFQuhX-d3F"
      },
      "source": [
        "**Найдем наилучшие параметры при помощи кросс-валидации**"
      ]
    },
    {
      "cell_type": "code",
      "execution_count": 20,
      "metadata": {
        "colab": {
          "base_uri": "https://localhost:8080/"
        },
        "id": "W4Az19-o_sab",
        "outputId": "5de26fdb-4c56-42cb-9333-e08dce749113"
      },
      "outputs": [
        {
          "name": "stdout",
          "output_type": "stream",
          "text": [
            "Fitting 5 folds for each of 128 candidates, totalling 640 fits\n"
          ]
        }
      ],
      "source": [
        "from sklearn.model_selection import GridSearchCV\n",
        "\n",
        "\n",
        "parameters = {'max_depth':range(3,35), 'min_samples_split': range(2, 4), 'criterion': ['gini', 'entropy']}\n",
        "# n_jobs = -1 ознначает, что будут использоваться все процессоры для параллельных вычислений\n",
        "clfBest = GridSearchCV(DecisionTreeClassifier(), parameters, n_jobs=-1, verbose = 3)\n",
        "clfBest.fit(X=data[cols], y=data[['target']])\n",
        "None"
      ]
    },
    {
      "cell_type": "code",
      "execution_count": 21,
      "metadata": {
        "colab": {
          "base_uri": "https://localhost:8080/"
        },
        "id": "IS9CeJtncHMV",
        "outputId": "2bd9eb8b-78e7-404f-ce33-b308608f4038"
      },
      "outputs": [
        {
          "name": "stdout",
          "output_type": "stream",
          "text": [
            "DecisionTreeClassifier(criterion='entropy', max_depth=3)\n",
            "0.8713071822118266\n",
            "{'criterion': 'entropy', 'max_depth': 3, 'min_samples_split': 2}\n"
          ]
        }
      ],
      "source": [
        "\n",
        "# Оценщик выбранный при поиске, то есть оценщик, который имеет максимальный счет на пропущенных данных\n",
        "print(clfBest.best_estimator_)\n",
        "\n",
        "# Среднее значение счета кросс-валидации для best_estimator \n",
        "print (clfBest.best_score_)\n",
        "\n",
        "# Лучшие значения параметров\n",
        "print(clfBest.best_params_)"
      ]
    },
    {
      "cell_type": "markdown",
      "metadata": {
        "id": "XZ4_7xybUfXH"
      },
      "source": [
        "**Обучим модель с наилучшими параметрами и сравним её с прошлым вариантом модели**"
      ]
    },
    {
      "cell_type": "code",
      "execution_count": 22,
      "metadata": {
        "colab": {
          "base_uri": "https://localhost:8080/"
        },
        "id": "3PPZE0HSUtIQ",
        "outputId": "cc0c7c0c-25fd-4758-a3f2-6ac92d0c54da"
      },
      "outputs": [
        {
          "name": "stdout",
          "output_type": "stream",
          "text": [
            "Accuracy: 0.8739874910284016\n"
          ]
        }
      ],
      "source": [
        "y_predBest = clfBest.predict(x_test)\n",
        "print(\"Accuracy:\",metrics.accuracy_score(y_test, y_predBest))"
      ]
    },
    {
      "cell_type": "markdown",
      "metadata": {
        "id": "UgUCwphwiYHq"
      },
      "source": [
        "**Вывод: модель без кросс-валидации с параметрами по умолчпанию работает лучше**"
      ]
    }
  ],
  "metadata": {
    "colab": {
      "collapsed_sections": [],
      "provenance": []
    },
    "kernelspec": {
      "display_name": "Python 3.10.5 64-bit",
      "language": "python",
      "name": "python3"
    },
    "language_info": {
      "name": "python",
      "version": "3.10.5"
    },
    "vscode": {
      "interpreter": {
        "hash": "767d51c1340bd893661ea55ea3124f6de3c7a262a8b4abca0554b478b1e2ff90"
      }
    }
  },
  "nbformat": 4,
  "nbformat_minor": 0
}
