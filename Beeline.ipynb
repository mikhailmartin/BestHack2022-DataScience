{
  "nbformat": 4,
  "nbformat_minor": 0,
  "metadata": {
    "colab": {
      "provenance": [],
      "collapsed_sections": []
    },
    "kernelspec": {
      "name": "python3",
      "display_name": "Python 3"
    },
    "language_info": {
      "name": "python"
    }
  },
  "cells": [
    {
      "cell_type": "markdown",
      "source": [
        "# BestHack2022 DataScience\n",
        "\n",
        "## Формулировка задания\n",
        "\n",
        "По статистике каждый активный абонент в среднем получает более 5-ти нежелательных звонков в неделю. При этом\n",
        "для разных людей понятия «желаемого» и «нежелательного» трафика могут не совпадать. Один и тот же номер\n",
        "может использоваться как для назойливого рекламного обзвона, так и для обслуживания клиентов; а на каждого\n",
        "нового мошенника реагировать нужно как можно быстрее.\n",
        "\n",
        "В архиве [`transactions.zip`](https://drive.google.com/drive/folders/1Bn3bvV5u15a7enelJwmqyRrWu9Dfm-eZ)\n",
        "содержатся синтетические данные транзакций голосового трафика за 2 месяца, максимально приближенные к\n",
        "реальным. В файле `beeline_antispam_hakaton_id_samples.csv` содержатся __id__ абонентов, таргет по которым\n",
        "известен (train) и по которым нужно предсказать (test).\n",
        "\n",
        "Сможете ли вы определить, к какому типу относится конкретный номер?\n",
        "Сможете ли вы построить стабильную и легкую модель?\n",
        "\n",
        "\n",
        "## Часть I - ML\n",
        "\n",
        "Требуется построить модель, которая классифицировала бы номера на 5 категорий:\n",
        "- 0 - не спам\n",
        "- 1 - небольшие полезные ИП / малые бизнесы\n",
        "- 2 - организации\n",
        "- 3 - мобильная карусель\n",
        "- 4 - чёрные спамеры и мошенники\n",
        "\n",
        "Метрика - [`fbeta_score(average='macro', beta=0.5)`](https://scikit-learn.org/stable/modules/generated/sklearn.metrics.fbeta_score.html).\n",
        "\n",
        "На выходе мы ожидаем файл `beeline_antispam_hakaton_id_samples.csv`, в котором для тестовых данных (test)\n",
        "проставлена одна из 5 категорий.\n",
        "\n",
        "\n",
        "## Часть II - R&D\n",
        "\n",
        "Помимо точности предсказания, мы также будем оценивать <u>применимость решения в боевых условиях</u> и\n",
        "<u>качество инсайтов</u>, полученных из данных.\n",
        "\n",
        "Идеальное решение должно быть не только точным, но также __стабильным__ и __«лёгким»__.\n",
        "\n",
        "Лёгким, так как реальные данные в тысячи раз тяжелее, а модель должна работать в режиме, приближенном к\n",
        "real-time, чтобы с минимальной задержкой реагировать даже на самых продвинутых мошенников, которые быстро\n",
        "меняют номера и подстраивают своё поведение для обхода антифрод-систем.\n",
        "\n",
        "Под «лёгкостью» мы понимаем не столько сложность самого алгоритма (одна бустинг модель вполне ОК, десять\n",
        "«застеканных» моделей - нет), сколько глубину используемых данных (необязательно использовать целый месяц,\n",
        "можно попробовать ограничиться одной неделей или несколькими днями, если это не сильно влияет на точность).\n",
        "    \n",
        "Под стабильностью мы понимаем постоянство качества модели в динамике как в целом по категориям, так и по\n",
        "каждому конкретному номеру (в идеальном мире один и тот же номер, если он не меняет фактического владельца,\n",
        "должен иметь одинаковый скор и вчера, и сегодня и завтра). Метрику стабильности, в особенности для случая\n",
        "с конкретными номерами, мы предлагаем вам придумать самим.\n",
        "\n",
        "В частности, нам бы хотелось, чтобы вы ответили на следующие вопросы (но, возможно, вы захотите\n",
        "поисследовать в данных что-то ещё):\n",
        "1. Какие паттерны поведения номеров помогают отделить категории 1-4 друг от друга?\n",
        "2. Насколько отличаются предсказания модели, построенные на разных периодах времени?\n",
        "3. Не «ломается» ли модель в выходные и праздники?\n",
        "4. Какое минимальное количество дней исторических транзакций требуется для, чтобы построить стабильную\n",
        "и достаточно точную модель?\n",
        "5. Какую метрику стабильности скора по отдельным номерам вы предлагаете использовать?\n",
        "6. Как модель работает на слабоактивных номерах?\n",
        "7. Среди номеров из наиболее «спорных» категорий 2 и 3, возможно ли выделить полезный и нежелательный\n",
        "трафик на уровне конкретного звонка?\n",
        "\n",
        "Мы очень приветствуем, чтобы ваши выводы были подкреплены конкретными цифрами и графиками (визуализация\n",
        "должна подтверждать тезис и быть читаемой, но её красота сама по себе не оценивается).\n",
        "\n",
        "Удачи!\n",
        "\n",
        "\n",
        "### Описание данных\n",
        "- `id _a` - id абонента, который звонит\n",
        "- `id _b` - id абонента, которому звонят\n",
        "- `time_key` - дата звонка\n",
        "- `start_time_local` - время начала звонка\n",
        "- `time_zone` - часовая зона звонящего абонента\n",
        "- `duration` - длительность звонка\n",
        "- `forward` - индикатор переадресации\n",
        "- `zero_call_glg` - категория звонка с нулевой длительностью\n",
        "- `source_b` - индикатор транзакции из источника B\n",
        "- `source_f` - индикатор транзакции из источника F\n",
        "- `num_b_length` - длина номера абонента, которому звонят\n"
      ],
      "metadata": {
        "id": "IOg6GwAHFeOD"
      }
    },
    {
      "cell_type": "markdown",
      "source": [
        "**Обработка данных**"
      ],
      "metadata": {
        "id": "ucvD4eKxshyF"
      }
    },
    {
      "cell_type": "code",
      "execution_count": 176,
      "metadata": {
        "colab": {
          "base_uri": "https://localhost:8080/"
        },
        "id": "wDWStDu2rTi0",
        "outputId": "3010e0b7-460a-4c60-c30c-65953fc16a9e"
      },
      "outputs": [
        {
          "output_type": "stream",
          "name": "stdout",
          "text": [
            "         id  target  split\n",
            "0    196535     NaN   test\n",
            "1  63075900     2.0  train\n",
            "2  35233935     2.0  train\n",
            "3  23557360     4.0  train\n",
            "4  78926486     NaN   test\n",
            "\n",
            "samples.shape:\n",
            "(46235, 3)\n",
            "\n",
            "       id_a      id_b start_time_local  time_zone  duration  forward  \\\n",
            "0  67596082  43588153         18:43:03          3         0        0   \n",
            "1   4024969  67656553         11:43:20          4       206        0   \n",
            "2  43166780  31861625         10:32:36          0         5        0   \n",
            "3  51817902  41201237         13:45:02          3         0        0   \n",
            "4  41812796   4932754         13:53:12          0         0        0   \n",
            "\n",
            "   zero_call_flg  source_b  source_f  num_b_length    time_key  \n",
            "0              3         0         1            10  2021-11-01  \n",
            "1              5         1         0            10  2021-11-01  \n",
            "2              0         0         1            10  2021-11-01  \n",
            "3              0         0         1            10  2021-11-01  \n",
            "4              5         0         1            10  2021-11-01  \n",
            "data.shape:\n",
            "(3987696, 11)\n"
          ]
        }
      ],
      "source": [
        "import pandas as pd\n",
        "from datetime import datetime\n",
        "from dateutil.parser import parse\n",
        "from sklearn.model_selection import train_test_split\n",
        "from sklearn.tree import DecisionTreeClassifier \n",
        "from sklearn import metrics \n",
        "\n",
        "samples = pd.read_csv('./data/beeline_antispam_hakaton_id_samples.csv')\n",
        "print(samples.head())\n",
        "print()\n",
        "print(\"samples.shape:\")\n",
        "print(samples.shape)\n",
        "print()\n",
        "data = pd.read_csv('./data/time_key=2021-11-01.csv')\n",
        "print(data.head())\n",
        "print(\"data.shape:\")\n",
        "print(data.shape)\n",
        "\n",
        "\n",
        "                      \n"
      ]
    },
    {
      "cell_type": "markdown",
      "source": [
        "Выделим фичи из датасета и поделим их на числовые и категориальные."
      ],
      "metadata": {
        "id": "-iBPKLYSSWih"
      }
    },
    {
      "cell_type": "code",
      "source": [
        "num_cols = [\n",
        "    'start_time_local',\n",
        "    'duration',\n",
        "    'num_b_length',\n",
        "    'time_key'\n",
        "]\n",
        "\n",
        "cat_cols = [\n",
        "    'id_a',\n",
        "    'id_b',\n",
        "    'time_zone',\n",
        "    'forward',\n",
        "    'zero_call_flg',\n",
        "    'source_b',\n",
        "    'source_f',\n",
        "]\n",
        "\n",
        "cols = num_cols + cat_cols\n",
        "data = data[cols]\n"
      ],
      "metadata": {
        "id": "gGTIueBySVdW"
      },
      "execution_count": 177,
      "outputs": []
    },
    {
      "cell_type": "markdown",
      "source": [
        "**Распределение звонков по локальному времени:**"
      ],
      "metadata": {
        "id": "wllq3cXXl18n"
      }
    },
    {
      "cell_type": "code",
      "source": [
        "hours_distributions = data['start_time_local'].str.slice(0, 2).astype(int)\n",
        "fig = hours_distributions.hist().get_figure()"
      ],
      "metadata": {
        "id": "MrzEWjRKT3rL",
        "colab": {
          "base_uri": "https://localhost:8080/",
          "height": 276
        },
        "outputId": "dcec653e-eb97-4c0a-8d72-9b8424c86ada"
      },
      "execution_count": 178,
      "outputs": [
        {
          "output_type": "display_data",
          "data": {
            "text/plain": [
              "<Figure size 432x288 with 1 Axes>"
            ],
            "image/png": "[encoded data removed]"
          },
          "metadata": {
            "needs_background": "light"
          }
        }
      ]
    },
    {
      "cell_type": "markdown",
      "source": [
        "**Распределение звонков по UTC:**"
      ],
      "metadata": {
        "id": "lvw4nNUCmNRX"
      }
    },
    {
      "cell_type": "code",
      "source": [
        "hours_distributions_UTS = hours_distributions - data['time_zone'].astype(int)\n",
        "fig = hours_distributions_UTS.hist().get_figure()"
      ],
      "metadata": {
        "id": "fEDe_AvxmTto",
        "colab": {
          "base_uri": "https://localhost:8080/",
          "height": 276
        },
        "outputId": "ee35f53b-f678-4168-eb5d-439edf38da1b"
      },
      "execution_count": 179,
      "outputs": [
        {
          "output_type": "display_data",
          "data": {
            "text/plain": [
              "<Figure size 432x288 with 1 Axes>"
            ],
            "image/png": "[encoded data removed]"
          },
          "metadata": {
            "needs_background": "light"
          }
        }
      ]
    },
    {
      "cell_type": "markdown",
      "source": [
        "**Преобразуем время к числу**"
      ],
      "metadata": {
        "id": "52Sku4kbsZj7"
      }
    },
    {
      "cell_type": "code",
      "source": [
        "# Время указано в секундах\n",
        "data['start_time_local'] = pd.to_timedelta(data['start_time_local']).dt.total_seconds()\n",
        "print(data['start_time_local'].head())"
      ],
      "metadata": {
        "colab": {
          "base_uri": "https://localhost:8080/"
        },
        "id": "I-4Rm3rFHItr",
        "outputId": "884df4cf-dc81-4e5c-b40e-b93c3fd25283"
      },
      "execution_count": 180,
      "outputs": [
        {
          "output_type": "stream",
          "name": "stdout",
          "text": [
            "0    67383.0\n",
            "1    42200.0\n",
            "2    37956.0\n",
            "3    49502.0\n",
            "4    49992.0\n",
            "Name: start_time_local, dtype: float64\n"
          ]
        }
      ]
    },
    {
      "cell_type": "markdown",
      "source": [
        "**Преобразуем дату к числу**"
      ],
      "metadata": {
        "id": "TFFy4Ef6-Qsi"
      }
    },
    {
      "cell_type": "code",
      "source": [
        "print(data['time_key'].head())\n",
        "# Извлечем определенный день в месяце\n",
        "data['time_key'] = pd.to_datetime(data['time_key'], errors='coerce').dt.day\n",
        "print(data['time_key'].head())"
      ],
      "metadata": {
        "id": "bGqH5SFL-Vg6",
        "colab": {
          "base_uri": "https://localhost:8080/"
        },
        "outputId": "aaee6cff-a6c5-40de-9af3-732f32d26bb8"
      },
      "execution_count": 181,
      "outputs": [
        {
          "output_type": "stream",
          "name": "stdout",
          "text": [
            "0    2021-11-01\n",
            "1    2021-11-01\n",
            "2    2021-11-01\n",
            "3    2021-11-01\n",
            "4    2021-11-01\n",
            "Name: time_key, dtype: object\n",
            "0    1\n",
            "1    1\n",
            "2    1\n",
            "3    1\n",
            "4    1\n",
            "Name: time_key, dtype: int64\n"
          ]
        }
      ]
    },
    {
      "cell_type": "markdown",
      "source": [
        "\n",
        "Посмотрим на пропущенные значения и уберем их при необходимости"
      ],
      "metadata": {
        "id": "jZ4C6X2VknQw"
      }
    },
    {
      "cell_type": "code",
      "source": [
        "\n",
        "print(data.isna().mean())\n",
        "data = data.dropna()"
      ],
      "metadata": {
        "colab": {
          "base_uri": "https://localhost:8080/"
        },
        "id": "EhN0V5NGRVjZ",
        "outputId": "eb8761d9-5605-44e3-ee92-55046841eeeb"
      },
      "execution_count": 182,
      "outputs": [
        {
          "output_type": "stream",
          "name": "stdout",
          "text": [
            "start_time_local    0.0\n",
            "duration            0.0\n",
            "num_b_length        0.0\n",
            "time_key            0.0\n",
            "id_a                0.0\n",
            "id_b                0.0\n",
            "time_zone           0.0\n",
            "forward             0.0\n",
            "zero_call_flg       0.0\n",
            "source_b            0.0\n",
            "source_f            0.0\n",
            "dtype: float64\n"
          ]
        }
      ]
    },
    {
      "cell_type": "markdown",
      "source": [
        "**Посмотрим на распределение фичей**"
      ],
      "metadata": {
        "id": "cYTma3HetDHT"
      }
    },
    {
      "cell_type": "code",
      "source": [
        "for col in cat_cols:\n",
        "    print(f\"{col} DISTRIBUTION\")\n",
        "    print(data[col].value_counts())\n"
      ],
      "metadata": {
        "colab": {
          "base_uri": "https://localhost:8080/"
        },
        "id": "_FjrmlOlRtqa",
        "outputId": "7e48c86e-c9ba-42fe-beeb-8f51ecf619cf"
      },
      "execution_count": 183,
      "outputs": [
        {
          "output_type": "stream",
          "name": "stdout",
          "text": [
            "id_a DISTRIBUTION\n",
            "6325350     796581\n",
            "1741727     543328\n",
            "51817902    280753\n",
            "52273536    137530\n",
            "41812796    126601\n",
            "             ...  \n",
            "60188729         1\n",
            "9767824          1\n",
            "34529479         1\n",
            "53304427         1\n",
            "83290750         1\n",
            "Name: id_a, Length: 16350, dtype: int64\n",
            "id_b DISTRIBUTION\n",
            "5137773     64385\n",
            "67511626     6162\n",
            "7055569      5063\n",
            "70502169     4756\n",
            "3969649      3220\n",
            "            ...  \n",
            "21345557        1\n",
            "24010827        1\n",
            "41561212        1\n",
            "48440682        1\n",
            "25108797        1\n",
            "Name: id_b, Length: 2405512, dtype: int64\n",
            "time_zone DISTRIBUTION\n",
            " 3     2364049\n",
            " 0     1382857\n",
            " 4       97344\n",
            " 2       76354\n",
            " 7       48637\n",
            " 5        9136\n",
            " 1        4690\n",
            " 8        1615\n",
            "-1        1386\n",
            " 10        877\n",
            " 6         428\n",
            " 11        184\n",
            " 9         119\n",
            " 12         20\n",
            "Name: time_zone, dtype: int64\n",
            "forward DISTRIBUTION\n",
            "0    3620885\n",
            "1     366811\n",
            "Name: forward, dtype: int64\n",
            "zero_call_flg DISTRIBUTION\n",
            "0    2267314\n",
            "5    1404606\n",
            "2     102543\n",
            "1      94999\n",
            "3      86638\n",
            "4      31596\n",
            "Name: zero_call_flg, dtype: int64\n",
            "source_b DISTRIBUTION\n",
            "0    3057509\n",
            "1     930187\n",
            "Name: source_b, dtype: int64\n",
            "source_f DISTRIBUTION\n",
            "1    3364725\n",
            "0     622971\n",
            "Name: source_f, dtype: int64\n"
          ]
        }
      ]
    },
    {
      "cell_type": "markdown",
      "source": [
        "**Визуализируем распределение категориальных фичей**"
      ],
      "metadata": {
        "id": "Bo56GOA-XkYs"
      }
    },
    {
      "cell_type": "markdown",
      "source": [
        "Распределение часовых зон:\n"
      ],
      "metadata": {
        "id": "sIg2Vp3Ijjuj"
      }
    },
    {
      "cell_type": "code",
      "source": [
        "\n",
        "h = data['time_zone'].hist()\n",
        "fig = h.get_figure()"
      ],
      "metadata": {
        "colab": {
          "base_uri": "https://localhost:8080/",
          "height": 276
        },
        "id": "K4ZLGh_UXjkb",
        "outputId": "2fb4f7a3-465c-42ae-fc34-566e89248f4a"
      },
      "execution_count": 184,
      "outputs": [
        {
          "output_type": "display_data",
          "data": {
            "text/plain": [
              "<Figure size 432x288 with 1 Axes>"
            ],
            "image/png": "[encoded data removed]"
          },
          "metadata": {
            "needs_background": "light"
          }
        }
      ]
    },
    {
      "cell_type": "markdown",
      "source": [
        "Распределение категории звонка с нулевой длительностью:"
      ],
      "metadata": {
        "id": "5FR6DYeOj_Vq"
      }
    },
    {
      "cell_type": "code",
      "source": [
        "h = data['zero_call_flg'].hist()\n",
        "fig = h.get_figure()"
      ],
      "metadata": {
        "colab": {
          "base_uri": "https://localhost:8080/",
          "height": 276
        },
        "id": "pmdsx3dVkOrQ",
        "outputId": "b112aa82-f014-47ac-de47-70258f1c0656"
      },
      "execution_count": 185,
      "outputs": [
        {
          "output_type": "display_data",
          "data": {
            "text/plain": [
              "<Figure size 432x288 with 1 Axes>"
            ],
            "image/png": "[encoded data removed]"
          },
          "metadata": {
            "needs_background": "light"
          }
        }
      ]
    },
    {
      "cell_type": "markdown",
      "source": [
        "**Столбцы в таблице целевых переменных**"
      ],
      "metadata": {
        "id": "5aHAKw42y00E"
      }
    },
    {
      "cell_type": "code",
      "source": [
        "target_cols = ['id','target','split']\n",
        "for col in target_cols:\n",
        "    print(f\"{col} DISTRIBUTION\")\n",
        "    print(samples[col].value_counts())"
      ],
      "metadata": {
        "colab": {
          "base_uri": "https://localhost:8080/"
        },
        "id": "n4Ords6By9hb",
        "outputId": "cd5e3702-ddad-4833-9cf9-8221090871e5"
      },
      "execution_count": 186,
      "outputs": [
        {
          "output_type": "stream",
          "name": "stdout",
          "text": [
            "id DISTRIBUTION\n",
            "196535      1\n",
            "40982206    1\n",
            "25798719    1\n",
            "19050882    1\n",
            "17647619    1\n",
            "           ..\n",
            "23760948    1\n",
            "78393782    1\n",
            "75174874    1\n",
            "23157851    1\n",
            "12483388    1\n",
            "Name: id, Length: 46235, dtype: int64\n",
            "target DISTRIBUTION\n",
            "0.0    16344\n",
            "4.0     9966\n",
            "2.0     6697\n",
            "3.0     2012\n",
            "1.0     1923\n",
            "Name: target, dtype: int64\n",
            "split DISTRIBUTION\n",
            "train    36942\n",
            "test      9293\n",
            "Name: split, dtype: int64\n"
          ]
        }
      ]
    },
    {
      "cell_type": "markdown",
      "source": [
        "**Визуализация распределения целевых переменных**"
      ],
      "metadata": {
        "id": "lGUG6A3vybzk"
      }
    },
    {
      "cell_type": "code",
      "source": [
        "h = samples['target'].hist()\n",
        "fig = h.get_figure()"
      ],
      "metadata": {
        "colab": {
          "base_uri": "https://localhost:8080/",
          "height": 265
        },
        "id": "M3VCIGi91AXE",
        "outputId": "f3651cb0-72c0-470d-9853-6202c5d2b00c"
      },
      "execution_count": 187,
      "outputs": [
        {
          "output_type": "display_data",
          "data": {
            "text/plain": [
              "<Figure size 432x288 with 1 Axes>"
            ],
            "image/png": "[encoded data removed]"
          },
          "metadata": {
            "needs_background": "light"
          }
        }
      ]
    },
    {
      "cell_type": "markdown",
      "source": [
        "**Разделим на тренировочную и тестовую выборки данные о целеввых переменных**"
      ],
      "metadata": {
        "id": "tgWqg46P1Yyi"
      }
    },
    {
      "cell_type": "code",
      "source": [
        "samples_data , samples_predict = [x for _, x in samples.groupby(samples['split'] == 'test')]\n",
        "samples_data = samples_data.drop('split', axis=1)\n",
        "samples_predict = samples_predict.drop('split', axis=1)\n",
        "print(samples_data.head())\n",
        "print()\n",
        "print(samples_predict.head())\n"
      ],
      "metadata": {
        "colab": {
          "base_uri": "https://localhost:8080/"
        },
        "id": "dJQTLd401i2k",
        "outputId": "a6161d20-d760-4efa-f1c5-b6c079c179e8"
      },
      "execution_count": 188,
      "outputs": [
        {
          "output_type": "stream",
          "name": "stdout",
          "text": [
            "         id  target\n",
            "1  63075900     2.0\n",
            "2  35233935     2.0\n",
            "3  23557360     4.0\n",
            "5  42781042     4.0\n",
            "6  38675005     4.0\n",
            "\n",
            "          id  target\n",
            "0     196535     NaN\n",
            "4   78926486     NaN\n",
            "7   65130548     NaN\n",
            "8   27011323     NaN\n",
            "14  41430879     NaN\n"
          ]
        }
      ]
    },
    {
      "cell_type": "markdown",
      "source": [
        "**Отсечем данные, о которых нет информации о целевой переменной**"
      ],
      "metadata": {
        "id": "eO2CIqvWKD4t"
      }
    },
    {
      "cell_type": "code",
      "source": [
        "\n",
        "data = data.merge(samples_data[['id','target']], left_on='id_a', right_on='id', how='inner') \\\n",
        "           .drop(columns=['id'])\n",
        "print(data.shape)\n",
        "print(data.head())\n",
        "print(data['target'].value_counts())"
      ],
      "metadata": {
        "colab": {
          "base_uri": "https://localhost:8080/"
        },
        "id": "F7WZDj4YKKPB",
        "outputId": "c899f194-a6e5-47e1-f82c-7bc205ade593"
      },
      "execution_count": 189,
      "outputs": [
        {
          "output_type": "stream",
          "name": "stdout",
          "text": [
            "(2800317, 12)\n",
            "   start_time_local  duration  num_b_length  time_key      id_a      id_b  \\\n",
            "0           67383.0         0            10         1  67596082  43588153   \n",
            "1           59286.0         0            10         1  67596082  82184937   \n",
            "2           37476.0         0            10         1  67596082  48927355   \n",
            "3           38474.0         0            10         1  67596082  10241386   \n",
            "4           49756.0         0            10         1  67596082    229405   \n",
            "\n",
            "   time_zone  forward  zero_call_flg  source_b  source_f  target  \n",
            "0          3        0              3         0         1     4.0  \n",
            "1          3        0              5         0         1     4.0  \n",
            "2          0        0              5         0         1     4.0  \n",
            "3          3        0              0         0         1     4.0  \n",
            "4          0        1              5         1         0     4.0  \n",
            "4.0    2393949\n",
            "2.0     139708\n",
            "3.0     126407\n",
            "0.0     121095\n",
            "1.0      19158\n",
            "Name: target, dtype: int64\n"
          ]
        }
      ]
    },
    {
      "cell_type": "code",
      "source": [
        "print(data.head())\n",
        "\n",
        "x_train, x_test, y_train, y_test = train_test_split(data[cols], data[['target']], test_size=0.2)\n",
        "# print(x_train.head())\n",
        "# print(x_test.head())\n",
        "# print(y_train.head())\n",
        "# print(y_test.head())"
      ],
      "metadata": {
        "colab": {
          "base_uri": "https://localhost:8080/"
        },
        "id": "jGOhQ9H56gUi",
        "outputId": "a8055ab2-36b7-40da-9bd4-c5115f38d6f7"
      },
      "execution_count": 190,
      "outputs": [
        {
          "output_type": "stream",
          "name": "stdout",
          "text": [
            "   start_time_local  duration  num_b_length  time_key      id_a      id_b  \\\n",
            "0           67383.0         0            10         1  67596082  43588153   \n",
            "1           59286.0         0            10         1  67596082  82184937   \n",
            "2           37476.0         0            10         1  67596082  48927355   \n",
            "3           38474.0         0            10         1  67596082  10241386   \n",
            "4           49756.0         0            10         1  67596082    229405   \n",
            "\n",
            "   time_zone  forward  zero_call_flg  source_b  source_f  target  \n",
            "0          3        0              3         0         1     4.0  \n",
            "1          3        0              5         0         1     4.0  \n",
            "2          0        0              5         0         1     4.0  \n",
            "3          3        0              0         0         1     4.0  \n",
            "4          0        1              5         1         0     4.0  \n"
          ]
        }
      ]
    },
    {
      "cell_type": "code",
      "source": [
        "# Создание объекта дерева решений\n",
        "clf = DecisionTreeClassifier()\n",
        "clf = clf.fit(x_train ,y_train)\n",
        "# Предсказание ответа для тестового набора данных\n",
        "y_pred = clf.predict(x_test)"
      ],
      "metadata": {
        "colab": {
          "base_uri": "https://localhost:8080/"
        },
        "id": "2AWsYFBXBvh-",
        "outputId": "35b7e12f-41fb-49ea-b247-2edfe72ec5ee"
      },
      "execution_count": 191,
      "outputs": [
        {
          "output_type": "stream",
          "name": "stdout",
          "text": [
            "   start_time_local  duration  num_b_length  time_key      id_a      id_b  \\\n",
            "0           67383.0         0            10         1  67596082  43588153   \n",
            "1           59286.0         0            10         1  67596082  82184937   \n",
            "2           37476.0         0            10         1  67596082  48927355   \n",
            "3           38474.0         0            10         1  67596082  10241386   \n",
            "4           49756.0         0            10         1  67596082    229405   \n",
            "\n",
            "   time_zone  forward  zero_call_flg  source_b  source_f  target  \n",
            "0          3        0              3         0         1     4.0  \n",
            "1          3        0              5         0         1     4.0  \n",
            "2          0        0              5         0         1     4.0  \n",
            "3          3        0              0         0         1     4.0  \n",
            "4          0        1              5         1         0     4.0  \n"
          ]
        }
      ]
    },
    {
      "cell_type": "markdown",
      "source": [
        "**Оценка точности**"
      ],
      "metadata": {
        "id": "yfXoevHTCG5F"
      }
    },
    {
      "cell_type": "code",
      "source": [
        "print(\"Accuracy:\",metrics.accuracy_score(y_test, y_pred))"
      ],
      "metadata": {
        "id": "sXE1-LlbCJ56",
        "colab": {
          "base_uri": "https://localhost:8080/"
        },
        "outputId": "8dd4f90c-fc18-414f-e84d-37f19c018691"
      },
      "execution_count": 192,
      "outputs": [
        {
          "output_type": "stream",
          "name": "stdout",
          "text": [
            "Accuracy: 0.9896743943549309\n"
          ]
        }
      ]
    }
  ]
}