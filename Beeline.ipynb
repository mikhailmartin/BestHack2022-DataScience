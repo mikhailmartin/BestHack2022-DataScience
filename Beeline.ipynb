{
  "nbformat": 4,
  "nbformat_minor": 0,
  "metadata": {
    "colab": {
      "provenance": [],
      "collapsed_sections": []
    },
    "kernelspec": {
      "name": "python3",
      "display_name": "Python 3"
    },
    "language_info": {
      "name": "python"
    }
  },
  "cells": [
    {
      "cell_type": "markdown",
      "source": [
        "# BestHack2022 DataScience\n",
        "\n",
        "## Формулировка задания\n",
        "\n",
        "По статистике каждый активный абонент в среднем получает более 5-ти нежелательных звонков в неделю. При этом\n",
        "для разных людей понятия «желаемого» и «нежелательного» трафика могут не совпадать. Один и тот же номер\n",
        "может использоваться как для назойливого рекламного обзвона, так и для обслуживания клиентов; а на каждого\n",
        "нового мошенника реагировать нужно как можно быстрее.\n",
        "\n",
        "В архиве [`transactions.zip`](https://drive.google.com/drive/folders/1Bn3bvV5u15a7enelJwmqyRrWu9Dfm-eZ)\n",
        "содержатся синтетические данные транзакций голосового трафика за 2 месяца, максимально приближенные к\n",
        "реальным. В файле `beeline_antispam_hakaton_id_samples.csv` содержатся __id__ абонентов, таргет по которым\n",
        "известен (train) и по которым нужно предсказать (test).\n",
        "\n",
        "Сможете ли вы определить, к какому типу относится конкретный номер?\n",
        "Сможете ли вы построить стабильную и легкую модель?\n",
        "\n",
        "\n",
        "## Часть I - ML\n",
        "\n",
        "Требуется построить модель, которая классифицировала бы номера на 5 категорий:\n",
        "- 0 - не спам\n",
        "- 1 - небольшие полезные ИП / малые бизнесы\n",
        "- 2 - организации\n",
        "- 3 - мобильная карусель\n",
        "- 4 - чёрные спамеры и мошенники\n",
        "\n",
        "Метрика - [`fbeta_score(average='macro', beta=0.5)`](https://scikit-learn.org/stable/modules/generated/sklearn.metrics.fbeta_score.html).\n",
        "\n",
        "На выходе мы ожидаем файл `beeline_antispam_hakaton_id_samples.csv`, в котором для тестовых данных (test)\n",
        "проставлена одна из 5 категорий.\n",
        "\n",
        "\n",
        "## Часть II - R&D\n",
        "\n",
        "Помимо точности предсказания, мы также будем оценивать <u>применимость решения в боевых условиях</u> и\n",
        "<u>качество инсайтов</u>, полученных из данных.\n",
        "\n",
        "Идеальное решение должно быть не только точным, но также __стабильным__ и __«лёгким»__.\n",
        "\n",
        "Лёгким, так как реальные данные в тысячи раз тяжелее, а модель должна работать в режиме, приближенном к\n",
        "real-time, чтобы с минимальной задержкой реагировать даже на самых продвинутых мошенников, которые быстро\n",
        "меняют номера и подстраивают своё поведение для обхода антифрод-систем.\n",
        "\n",
        "Под «лёгкостью» мы понимаем не столько сложность самого алгоритма (одна бустинг модель вполне ОК, десять\n",
        "«застеканных» моделей - нет), сколько глубину используемых данных (необязательно использовать целый месяц,\n",
        "можно попробовать ограничиться одной неделей или несколькими днями, если это не сильно влияет на точность).\n",
        "    \n",
        "Под стабильностью мы понимаем постоянство качества модели в динамике как в целом по категориям, так и по\n",
        "каждому конкретному номеру (в идеальном мире один и тот же номер, если он не меняет фактического владельца,\n",
        "должен иметь одинаковый скор и вчера, и сегодня и завтра). Метрику стабильности, в особенности для случая\n",
        "с конкретными номерами, мы предлагаем вам придумать самим.\n",
        "\n",
        "В частности, нам бы хотелось, чтобы вы ответили на следующие вопросы (но, возможно, вы захотите\n",
        "поисследовать в данных что-то ещё):\n",
        "1. Какие паттерны поведения номеров помогают отделить категории 1-4 друг от друга?\n",
        "2. Насколько отличаются предсказания модели, построенные на разных периодах времени?\n",
        "3. Не «ломается» ли модель в выходные и праздники?\n",
        "4. Какое минимальное количество дней исторических транзакций требуется для, чтобы построить стабильную\n",
        "и достаточно точную модель?\n",
        "5. Какую метрику стабильности скора по отдельным номерам вы предлагаете использовать?\n",
        "6. Как модель работает на слабоактивных номерах?\n",
        "7. Среди номеров из наиболее «спорных» категорий 2 и 3, возможно ли выделить полезный и нежелательный\n",
        "трафик на уровне конкретного звонка?\n",
        "\n",
        "Мы очень приветствуем, чтобы ваши выводы были подкреплены конкретными цифрами и графиками (визуализация\n",
        "должна подтверждать тезис и быть читаемой, но её красота сама по себе не оценивается).\n",
        "\n",
        "Удачи!\n",
        "\n",
        "\n",
        "### Описание данных\n",
        "- `id _a` - id абонента, который звонит\n",
        "- `id _b` - id абонента, которому звонят\n",
        "- `time_key` - дата звонка\n",
        "- `start_time_local` - время начала звонка\n",
        "- `time_zone` - часовая зона звонящего абонента\n",
        "- `duration` - длительность звонка\n",
        "- `forward` - индикатор переадресации\n",
        "- `zero_call_glg` - категория звонка с нулевой длительностью\n",
        "- `source_b` - индикатор транзакции из источника B\n",
        "- `source_f` - индикатор транзакции из источника F\n",
        "- `num_b_length` - длина номера абонента, которому звонят\n"
      ],
      "metadata": {
        "id": "IOg6GwAHFeOD"
      }
    },
    {
      "cell_type": "markdown",
      "source": [
        "**Обработка данных**"
      ],
      "metadata": {
        "id": "ucvD4eKxshyF"
      }
    },
    {
      "cell_type": "code",
      "execution_count": 26,
      "metadata": {
        "colab": {
          "base_uri": "https://localhost:8080/"
        },
        "id": "wDWStDu2rTi0",
        "outputId": "f6e23cae-b51c-48c3-9b87-dcf0943a401e"
      },
      "outputs": [
        {
          "output_type": "stream",
          "name": "stdout",
          "text": [
            "       id_a        id_b start_time_local  time_zone  duration  forward  \\\n",
            "0  67596082  43588153.0         18:43:03        3.0       0.0      0.0   \n",
            "1   4024969  67656553.0         11:43:20        4.0     206.0      0.0   \n",
            "2  43166780  31861625.0         10:32:36        0.0       5.0      0.0   \n",
            "3  51817902  41201237.0         13:45:02        3.0       0.0      0.0   \n",
            "4  41812796   4932754.0         13:53:12        0.0       0.0      0.0   \n",
            "\n",
            "   zero_call_flg  source_b  source_f  num_b_length    time_key  \n",
            "0            3.0       0.0       1.0          10.0  2021-11-01  \n",
            "1            5.0       1.0       0.0          10.0  2021-11-01  \n",
            "2            0.0       0.0       1.0          10.0  2021-11-01  \n",
            "3            0.0       0.0       1.0          10.0  2021-11-01  \n",
            "4            5.0       0.0       1.0          10.0  2021-11-01  \n"
          ]
        }
      ],
      "source": [
        "import pandas as pd\n",
        "from datetime import datetime\n",
        "from dateutil.parser import parse\n",
        "\n",
        "samples = pd.read_csv('beeline_antispam_hakaton_id_samples.csv')\n",
        "\n",
        "data = pd.read_csv('./time_key=2021-11-01.csv')\n",
        "print(data.head())\n",
        "\n",
        "                      \n"
      ]
    },
    {
      "cell_type": "markdown",
      "source": [
        "Выделим фичи из датасета и поделим их на числовые и категориальные."
      ],
      "metadata": {
        "id": "-iBPKLYSSWih"
      }
    },
    {
      "cell_type": "code",
      "source": [
        "num_cols = [\n",
        "    'start_time_local',\n",
        "    'duration',\n",
        "    'num_b_length',\n",
        "    'time_key'\n",
        "]\n",
        "\n",
        "cat_cols = [\n",
        "    'id_a',\n",
        "    'id_b',\n",
        "    'time_zone',\n",
        "    'forward',\n",
        "    'zero_call_flg',\n",
        "    'source_b',\n",
        "    'source_f',\n",
        "]\n",
        "\n",
        "cols = num_cols + cat_cols"
      ],
      "metadata": {
        "id": "gGTIueBySVdW"
      },
      "execution_count": 27,
      "outputs": []
    },
    {
      "cell_type": "markdown",
      "source": [
        "\n",
        "Посмотрим на пропущенные значения и уберем их при необходимости"
      ],
      "metadata": {
        "id": "jZ4C6X2VknQw"
      }
    },
    {
      "cell_type": "code",
      "source": [
        "\n",
        "print(data.isna().mean())\n",
        "data = data.dropna()"
      ],
      "metadata": {
        "colab": {
          "base_uri": "https://localhost:8080/"
        },
        "id": "EhN0V5NGRVjZ",
        "outputId": "91ede9c2-b702-4364-e652-4d3e545a0c8f"
      },
      "execution_count": 28,
      "outputs": [
        {
          "output_type": "stream",
          "name": "stdout",
          "text": [
            "id_a                0.000000e+00\n",
            "id_b                3.672010e-07\n",
            "start_time_local    3.672010e-07\n",
            "time_zone           3.672010e-07\n",
            "duration            3.672010e-07\n",
            "forward             3.672010e-07\n",
            "zero_call_flg       3.672010e-07\n",
            "source_b            3.672010e-07\n",
            "source_f            3.672010e-07\n",
            "num_b_length        3.672010e-07\n",
            "time_key            3.672010e-07\n",
            "dtype: float64\n"
          ]
        }
      ]
    },
    {
      "cell_type": "markdown",
      "source": [
        "Распределение звонков по локальному времени:"
      ],
      "metadata": {
        "id": "wllq3cXXl18n"
      }
    },
    {
      "cell_type": "code",
      "source": [
        "data = data[cols]\n",
        "hours_distributions = data['start_time_local'].str.slice(0, 2).astype(int)\n",
        "fig = hours_distributions.hist().get_figure()"
      ],
      "metadata": {
        "colab": {
          "base_uri": "https://localhost:8080/",
          "height": 265
        },
        "id": "MrzEWjRKT3rL",
        "outputId": "34feafc5-df1f-43bc-abc1-bf0940885889"
      },
      "execution_count": 29,
      "outputs": [
        {
          "output_type": "display_data",
          "data": {
            "text/plain": [
              "<Figure size 432x288 with 1 Axes>"
            ],
            "image/png": "[encoded data removed]"
          },
          "metadata": {
            "needs_background": "light"
          }
        }
      ]
    },
    {
      "cell_type": "markdown",
      "source": [
        "Распределение звонков по UTC:"
      ],
      "metadata": {
        "id": "lvw4nNUCmNRX"
      }
    },
    {
      "cell_type": "code",
      "source": [
        "hours_distributions_UTS = hours_distributions - data['time_zone'].astype(int)\n",
        "fig = hours_distributions_UTS.hist().get_figure()"
      ],
      "metadata": {
        "colab": {
          "base_uri": "https://localhost:8080/",
          "height": 276
        },
        "id": "fEDe_AvxmTto",
        "outputId": "02ab94fc-edde-43d4-9444-b9f8bc3981a0"
      },
      "execution_count": 30,
      "outputs": [
        {
          "output_type": "display_data",
          "data": {
            "text/plain": [
              "<Figure size 432x288 with 1 Axes>"
            ],
            "image/png": "[encoded data removed]"
          },
          "metadata": {
            "needs_background": "light"
          }
        }
      ]
    },
    {
      "cell_type": "markdown",
      "source": [
        "**Посмотрим на распределение фичей**"
      ],
      "metadata": {
        "id": "cYTma3HetDHT"
      }
    },
    {
      "cell_type": "code",
      "source": [
        "for col in cat_cols:\n",
        "    print(f\"{col} DISTRIBUTION\")\n",
        "    print(data[col].value_counts())\n",
        "    print()"
      ],
      "metadata": {
        "colab": {
          "base_uri": "https://localhost:8080/"
        },
        "id": "_FjrmlOlRtqa",
        "outputId": "97f0bdf6-ac43-44c1-ce60-d4ea1ef42b52"
      },
      "execution_count": 31,
      "outputs": [
        {
          "output_type": "stream",
          "name": "stdout",
          "text": [
            "id_a DISTRIBUTION\n",
            "6325350     543609\n",
            "1741727     370868\n",
            "51817902    191219\n",
            "52273536     93895\n",
            "41812796     86395\n",
            "             ...  \n",
            "12401970         1\n",
            "39415088         1\n",
            "17168957         1\n",
            "5654349          1\n",
            "12957654         1\n",
            "Name: id_a, Length: 15002, dtype: int64\n",
            "\n",
            "id_b DISTRIBUTION\n",
            "5137773.0     45269\n",
            "67511626.0     4319\n",
            "7055569.0      3618\n",
            "70502169.0     3339\n",
            "3969649.0      2263\n",
            "              ...  \n",
            "85529681.0        1\n",
            "84721540.0        1\n",
            "27574259.0        1\n",
            "4219377.0         1\n",
            "57977050.0        1\n",
            "Name: id_b, Length: 1831386, dtype: int64\n",
            "\n",
            "time_zone DISTRIBUTION\n",
            " 3.0     1615085\n",
            " 0.0      943827\n",
            " 4.0       66528\n",
            " 2.0       52037\n",
            " 7.0       33181\n",
            " 5.0        6219\n",
            " 1.0        3202\n",
            " 8.0        1103\n",
            "-1.0         969\n",
            " 10.0        632\n",
            " 6.0         296\n",
            " 11.0        130\n",
            " 9.0          83\n",
            " 12.0         11\n",
            "Name: time_zone, dtype: int64\n",
            "\n",
            "forward DISTRIBUTION\n",
            "0.0    2472760\n",
            "1.0     250543\n",
            "Name: forward, dtype: int64\n",
            "\n",
            "zero_call_flg DISTRIBUTION\n",
            "0.0    1547719\n",
            "5.0     958648\n",
            "2.0      69928\n",
            "1.0      66423\n",
            "3.0      59065\n",
            "4.0      21520\n",
            "Name: zero_call_flg, dtype: int64\n",
            "\n",
            "source_b DISTRIBUTION\n",
            "0.0    2088605\n",
            "1.0     634698\n",
            "Name: source_b, dtype: int64\n",
            "\n",
            "source_f DISTRIBUTION\n",
            "1.0    2297998\n",
            "0.0     425305\n",
            "Name: source_f, dtype: int64\n",
            "\n"
          ]
        }
      ]
    },
    {
      "cell_type": "markdown",
      "source": [
        "**Визуализируем распределение категориальных фичей**"
      ],
      "metadata": {
        "id": "Bo56GOA-XkYs"
      }
    },
    {
      "cell_type": "markdown",
      "source": [
        "Распределение часовых зон:\n"
      ],
      "metadata": {
        "id": "sIg2Vp3Ijjuj"
      }
    },
    {
      "cell_type": "code",
      "source": [
        "\n",
        "h = data['time_zone'].hist()\n",
        "fig = h.get_figure()"
      ],
      "metadata": {
        "colab": {
          "base_uri": "https://localhost:8080/",
          "height": 276
        },
        "id": "K4ZLGh_UXjkb",
        "outputId": "a737203d-2ac7-4f90-81f2-a1cf8e297743"
      },
      "execution_count": 32,
      "outputs": [
        {
          "output_type": "display_data",
          "data": {
            "text/plain": [
              "<Figure size 432x288 with 1 Axes>"
            ],
            "image/png": "[encoded data removed]"
          },
          "metadata": {
            "needs_background": "light"
          }
        }
      ]
    },
    {
      "cell_type": "markdown",
      "source": [
        "Распределение категории звонка с нулевой длительностью:"
      ],
      "metadata": {
        "id": "5FR6DYeOj_Vq"
      }
    },
    {
      "cell_type": "code",
      "source": [
        "h = data['zero_call_flg'].hist()\n",
        "fig = h.get_figure()"
      ],
      "metadata": {
        "colab": {
          "base_uri": "https://localhost:8080/",
          "height": 276
        },
        "id": "pmdsx3dVkOrQ",
        "outputId": "a9948a67-d6bb-46a4-b78d-22ea62867b02"
      },
      "execution_count": 33,
      "outputs": [
        {
          "output_type": "display_data",
          "data": {
            "text/plain": [
              "<Figure size 432x288 with 1 Axes>"
            ],
            "image/png": "[encoded data removed]"
          },
          "metadata": {
            "needs_background": "light"
          }
        }
      ]
    },
    {
      "cell_type": "markdown",
      "source": [
        "**Преобразуем время к числу**"
      ],
      "metadata": {
        "id": "52Sku4kbsZj7"
      }
    },
    {
      "cell_type": "code",
      "source": [
        "time = pd.to_datetime(data['start_time_local'])\n",
        "for i in range(len(time)):\n",
        "  time[i] = time[i].time()\n",
        "  time[i] = (time[i].hour * 60 + time[i].minute) * 60 + time[i].second\n",
        "\n",
        "data['start_time_local'] = time\n",
        "print(time.head())"
      ],
      "metadata": {
        "colab": {
          "base_uri": "https://localhost:8080/"
        },
        "id": "t1jtPu85OmNs",
        "outputId": "5fd5020a-8750-46c5-e275-b3600970668a"
      },
      "execution_count": 34,
      "outputs": [
        {
          "output_type": "stream",
          "name": "stdout",
          "text": [
            "0    67383\n",
            "1    42200\n",
            "2    37956\n",
            "3    49502\n",
            "4    49992\n",
            "Name: start_time_local, dtype: object\n"
          ]
        }
      ]
    },
    {
      "cell_type": "markdown",
      "source": [
        "**Преобразуем дату к числу**"
      ],
      "metadata": {
        "id": "TFFy4Ef6-Qsi"
      }
    },
    {
      "cell_type": "code",
      "source": [
        "date = pd.to_datetime(data['time_key'])\n",
        "for i in range(len(date)):\n",
        "  date[i] = date[i].date()\n",
        "  # TODO: consider leap years and quantity of days in certain month\n",
        "  date[i] = date[i].year * 365 + date[i].month * 30 + date[i].day"
      ],
      "metadata": {
        "id": "bGqH5SFL-Vg6"
      },
      "execution_count": null,
      "outputs": []
    }
  ]
}