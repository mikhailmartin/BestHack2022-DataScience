{
 "cells": [
  {
   "cell_type": "markdown",
   "id": "90c54f45",
   "metadata": {},
   "source": [
    "# EDA"
   ]
  },
  {
   "cell_type": "code",
   "execution_count": 1,
   "id": "e479fbf0",
   "metadata": {},
   "outputs": [],
   "source": [
    "import os\n",
    "\n",
    "import matplotlib.pyplot as plt\n",
    "import numpy as np\n",
    "import pandas as pd"
   ]
  },
  {
   "cell_type": "code",
   "execution_count": 2,
   "id": "3d6b6cd2",
   "metadata": {},
   "outputs": [],
   "source": [
    "DATA_PATH = os.path.join('data', 'transactions.csv')\n",
    "TARGET_PATH = os.path.join('data', 'beeline_antispam_hakaton_id_samples.csv')"
   ]
  },
  {
   "cell_type": "code",
   "execution_count": 3,
   "id": "501b3d8d",
   "metadata": {},
   "outputs": [
    {
     "data": {
      "text/html": [
       "<div>\n",
       "<style scoped>\n",
       "    .dataframe tbody tr th:only-of-type {\n",
       "        vertical-align: middle;\n",
       "    }\n",
       "\n",
       "    .dataframe tbody tr th {\n",
       "        vertical-align: top;\n",
       "    }\n",
       "\n",
       "    .dataframe thead th {\n",
       "        text-align: right;\n",
       "    }\n",
       "</style>\n",
       "<table border=\"1\" class=\"dataframe\">\n",
       "  <thead>\n",
       "    <tr style=\"text-align: right;\">\n",
       "      <th></th>\n",
       "      <th>id_a</th>\n",
       "      <th>id_b</th>\n",
       "      <th>time_zone</th>\n",
       "      <th>duration</th>\n",
       "      <th>forward</th>\n",
       "      <th>zero_call_flg</th>\n",
       "      <th>source_b</th>\n",
       "      <th>source_f</th>\n",
       "      <th>num_b_length</th>\n",
       "      <th>datetime</th>\n",
       "    </tr>\n",
       "  </thead>\n",
       "  <tbody>\n",
       "    <tr>\n",
       "      <th>0</th>\n",
       "      <td>67596082</td>\n",
       "      <td>43588153</td>\n",
       "      <td>3</td>\n",
       "      <td>0</td>\n",
       "      <td>0</td>\n",
       "      <td>3</td>\n",
       "      <td>0</td>\n",
       "      <td>1</td>\n",
       "      <td>10</td>\n",
       "      <td>2021-11-01 18:43:03</td>\n",
       "    </tr>\n",
       "    <tr>\n",
       "      <th>1</th>\n",
       "      <td>4024969</td>\n",
       "      <td>67656553</td>\n",
       "      <td>4</td>\n",
       "      <td>206</td>\n",
       "      <td>0</td>\n",
       "      <td>5</td>\n",
       "      <td>1</td>\n",
       "      <td>0</td>\n",
       "      <td>10</td>\n",
       "      <td>2021-11-01 11:43:20</td>\n",
       "    </tr>\n",
       "    <tr>\n",
       "      <th>2</th>\n",
       "      <td>43166780</td>\n",
       "      <td>31861625</td>\n",
       "      <td>0</td>\n",
       "      <td>5</td>\n",
       "      <td>0</td>\n",
       "      <td>0</td>\n",
       "      <td>0</td>\n",
       "      <td>1</td>\n",
       "      <td>10</td>\n",
       "      <td>2021-11-01 10:32:36</td>\n",
       "    </tr>\n",
       "    <tr>\n",
       "      <th>3</th>\n",
       "      <td>51817902</td>\n",
       "      <td>41201237</td>\n",
       "      <td>3</td>\n",
       "      <td>0</td>\n",
       "      <td>0</td>\n",
       "      <td>0</td>\n",
       "      <td>0</td>\n",
       "      <td>1</td>\n",
       "      <td>10</td>\n",
       "      <td>2021-11-01 13:45:02</td>\n",
       "    </tr>\n",
       "    <tr>\n",
       "      <th>4</th>\n",
       "      <td>41812796</td>\n",
       "      <td>4932754</td>\n",
       "      <td>0</td>\n",
       "      <td>0</td>\n",
       "      <td>0</td>\n",
       "      <td>5</td>\n",
       "      <td>0</td>\n",
       "      <td>1</td>\n",
       "      <td>10</td>\n",
       "      <td>2021-11-01 13:53:12</td>\n",
       "    </tr>\n",
       "  </tbody>\n",
       "</table>\n",
       "</div>"
      ],
      "text/plain": [
       "       id_a      id_b  time_zone  duration  forward  zero_call_flg  source_b  \\\n",
       "0  67596082  43588153          3         0        0              3         0   \n",
       "1   4024969  67656553          4       206        0              5         1   \n",
       "2  43166780  31861625          0         5        0              0         0   \n",
       "3  51817902  41201237          3         0        0              0         0   \n",
       "4  41812796   4932754          0         0        0              5         0   \n",
       "\n",
       "   source_f  num_b_length            datetime  \n",
       "0         1            10 2021-11-01 18:43:03  \n",
       "1         0            10 2021-11-01 11:43:20  \n",
       "2         1            10 2021-11-01 10:32:36  \n",
       "3         1            10 2021-11-01 13:45:02  \n",
       "4         1            10 2021-11-01 13:53:12  "
      ]
     },
     "execution_count": 3,
     "metadata": {},
     "output_type": "execute_result"
    }
   ],
   "source": [
    "data = pd.read_csv(\n",
    "    DATA_PATH,\n",
    "    dtype={\n",
    "        'time_zone': 'int8',\n",
    "        'forward': 'int8',\n",
    "        'zero_call_flg': 'int8',\n",
    "        'source_b': 'int8',\n",
    "        'source_f': 'int8',\n",
    "        'num_b_length': 'int8',\n",
    "        'duration': 'int16',\n",
    "    },\n",
    "    parse_dates=['datetime'],\n",
    ")\n",
    "data.head()"
   ]
  },
  {
   "cell_type": "code",
   "execution_count": 4,
   "id": "e5b75c0e",
   "metadata": {},
   "outputs": [
    {
     "name": "stdout",
     "output_type": "stream",
     "text": [
      "<class 'pandas.core.frame.DataFrame'>\n",
      "RangeIndex: 267702661 entries, 0 to 267702660\n",
      "Data columns (total 10 columns):\n",
      " #   Column         Dtype         \n",
      "---  ------         -----         \n",
      " 0   id_a           int64         \n",
      " 1   id_b           int64         \n",
      " 2   time_zone      int8          \n",
      " 3   duration       int16         \n",
      " 4   forward        int8          \n",
      " 5   zero_call_flg  int8          \n",
      " 6   source_b       int8          \n",
      " 7   source_f       int8          \n",
      " 8   num_b_length   int8          \n",
      " 9   datetime       datetime64[ns]\n",
      "dtypes: datetime64[ns](1), int16(1), int64(2), int8(6)\n",
      "memory usage: 8.0 GB\n"
     ]
    }
   ],
   "source": [
    "data.info()"
   ]
  },
  {
   "cell_type": "markdown",
   "id": "d8389016",
   "metadata": {},
   "source": [
    "---"
   ]
  },
  {
   "cell_type": "code",
   "execution_count": 5,
   "id": "3ff449cb",
   "metadata": {},
   "outputs": [
    {
     "data": {
      "text/html": [
       "<div>\n",
       "<style scoped>\n",
       "    .dataframe tbody tr th:only-of-type {\n",
       "        vertical-align: middle;\n",
       "    }\n",
       "\n",
       "    .dataframe tbody tr th {\n",
       "        vertical-align: top;\n",
       "    }\n",
       "\n",
       "    .dataframe thead th {\n",
       "        text-align: right;\n",
       "    }\n",
       "</style>\n",
       "<table border=\"1\" class=\"dataframe\">\n",
       "  <thead>\n",
       "    <tr style=\"text-align: right;\">\n",
       "      <th></th>\n",
       "      <th>id</th>\n",
       "      <th>target</th>\n",
       "    </tr>\n",
       "  </thead>\n",
       "  <tbody>\n",
       "    <tr>\n",
       "      <th>0</th>\n",
       "      <td>196535</td>\n",
       "      <td>test</td>\n",
       "    </tr>\n",
       "    <tr>\n",
       "      <th>1</th>\n",
       "      <td>63075900</td>\n",
       "      <td>организации</td>\n",
       "    </tr>\n",
       "    <tr>\n",
       "      <th>2</th>\n",
       "      <td>35233935</td>\n",
       "      <td>организации</td>\n",
       "    </tr>\n",
       "    <tr>\n",
       "      <th>3</th>\n",
       "      <td>23557360</td>\n",
       "      <td>чёрные спаммеры и мошенники</td>\n",
       "    </tr>\n",
       "    <tr>\n",
       "      <th>4</th>\n",
       "      <td>78926486</td>\n",
       "      <td>test</td>\n",
       "    </tr>\n",
       "  </tbody>\n",
       "</table>\n",
       "</div>"
      ],
      "text/plain": [
       "         id                       target\n",
       "0    196535                         test\n",
       "1  63075900                  организации\n",
       "2  35233935                  организации\n",
       "3  23557360  чёрные спаммеры и мошенники\n",
       "4  78926486                         test"
      ]
     },
     "execution_count": 5,
     "metadata": {},
     "output_type": "execute_result"
    }
   ],
   "source": [
    "targets = pd.read_csv(TARGET_PATH, dtype={'split': 'category'})\n",
    "targets['target'] = targets['target'].replace({\n",
    "    np.NaN: 'test',\n",
    "    0.: 'не спам',\n",
    "    1.: 'небольшие полезные ИП / малые бизнесы',\n",
    "    2.: 'организации',\n",
    "    3.: 'мобильная карусель',\n",
    "    4.: 'чёрные спаммеры и мошенники',\n",
    "}).astype('category')\n",
    "targets = targets.drop(columns='split')\n",
    "targets.head()"
   ]
  },
  {
   "cell_type": "code",
   "execution_count": 6,
   "id": "e28c5021",
   "metadata": {},
   "outputs": [
    {
     "name": "stdout",
     "output_type": "stream",
     "text": [
      "<class 'pandas.core.frame.DataFrame'>\n",
      "RangeIndex: 46235 entries, 0 to 46234\n",
      "Data columns (total 2 columns):\n",
      " #   Column  Non-Null Count  Dtype   \n",
      "---  ------  --------------  -----   \n",
      " 0   id      46235 non-null  int64   \n",
      " 1   target  46235 non-null  category\n",
      "dtypes: category(1), int64(1)\n",
      "memory usage: 406.7 KB\n"
     ]
    }
   ],
   "source": [
    "targets.info()"
   ]
  },
  {
   "cell_type": "markdown",
   "id": "f2739bae",
   "metadata": {},
   "source": [
    "---"
   ]
  },
  {
   "cell_type": "code",
   "execution_count": 7,
   "id": "5effc542",
   "metadata": {},
   "outputs": [
    {
     "data": {
      "text/html": [
       "<div>\n",
       "<style scoped>\n",
       "    .dataframe tbody tr th:only-of-type {\n",
       "        vertical-align: middle;\n",
       "    }\n",
       "\n",
       "    .dataframe tbody tr th {\n",
       "        vertical-align: top;\n",
       "    }\n",
       "\n",
       "    .dataframe thead th {\n",
       "        text-align: right;\n",
       "    }\n",
       "</style>\n",
       "<table border=\"1\" class=\"dataframe\">\n",
       "  <thead>\n",
       "    <tr style=\"text-align: right;\">\n",
       "      <th></th>\n",
       "      <th>id_a</th>\n",
       "      <th>id_b</th>\n",
       "      <th>time_zone</th>\n",
       "      <th>duration</th>\n",
       "      <th>forward</th>\n",
       "      <th>zero_call_flg</th>\n",
       "      <th>source_b</th>\n",
       "      <th>source_f</th>\n",
       "      <th>num_b_length</th>\n",
       "      <th>datetime</th>\n",
       "      <th>target_a</th>\n",
       "    </tr>\n",
       "  </thead>\n",
       "  <tbody>\n",
       "    <tr>\n",
       "      <th>0</th>\n",
       "      <td>67596082</td>\n",
       "      <td>43588153</td>\n",
       "      <td>3</td>\n",
       "      <td>0</td>\n",
       "      <td>0</td>\n",
       "      <td>3</td>\n",
       "      <td>0</td>\n",
       "      <td>1</td>\n",
       "      <td>10</td>\n",
       "      <td>2021-11-01 18:43:03</td>\n",
       "      <td>чёрные спаммеры и мошенники</td>\n",
       "    </tr>\n",
       "    <tr>\n",
       "      <th>1</th>\n",
       "      <td>4024969</td>\n",
       "      <td>67656553</td>\n",
       "      <td>4</td>\n",
       "      <td>206</td>\n",
       "      <td>0</td>\n",
       "      <td>5</td>\n",
       "      <td>1</td>\n",
       "      <td>0</td>\n",
       "      <td>10</td>\n",
       "      <td>2021-11-01 11:43:20</td>\n",
       "      <td>test</td>\n",
       "    </tr>\n",
       "    <tr>\n",
       "      <th>2</th>\n",
       "      <td>43166780</td>\n",
       "      <td>31861625</td>\n",
       "      <td>0</td>\n",
       "      <td>5</td>\n",
       "      <td>0</td>\n",
       "      <td>0</td>\n",
       "      <td>0</td>\n",
       "      <td>1</td>\n",
       "      <td>10</td>\n",
       "      <td>2021-11-01 10:32:36</td>\n",
       "      <td>чёрные спаммеры и мошенники</td>\n",
       "    </tr>\n",
       "    <tr>\n",
       "      <th>3</th>\n",
       "      <td>51817902</td>\n",
       "      <td>41201237</td>\n",
       "      <td>3</td>\n",
       "      <td>0</td>\n",
       "      <td>0</td>\n",
       "      <td>0</td>\n",
       "      <td>0</td>\n",
       "      <td>1</td>\n",
       "      <td>10</td>\n",
       "      <td>2021-11-01 13:45:02</td>\n",
       "      <td>чёрные спаммеры и мошенники</td>\n",
       "    </tr>\n",
       "    <tr>\n",
       "      <th>4</th>\n",
       "      <td>41812796</td>\n",
       "      <td>4932754</td>\n",
       "      <td>0</td>\n",
       "      <td>0</td>\n",
       "      <td>0</td>\n",
       "      <td>5</td>\n",
       "      <td>0</td>\n",
       "      <td>1</td>\n",
       "      <td>10</td>\n",
       "      <td>2021-11-01 13:53:12</td>\n",
       "      <td>чёрные спаммеры и мошенники</td>\n",
       "    </tr>\n",
       "  </tbody>\n",
       "</table>\n",
       "</div>"
      ],
      "text/plain": [
       "       id_a      id_b  time_zone  duration  forward  zero_call_flg  source_b  \\\n",
       "0  67596082  43588153          3         0        0              3         0   \n",
       "1   4024969  67656553          4       206        0              5         1   \n",
       "2  43166780  31861625          0         5        0              0         0   \n",
       "3  51817902  41201237          3         0        0              0         0   \n",
       "4  41812796   4932754          0         0        0              5         0   \n",
       "\n",
       "   source_f  num_b_length            datetime                     target_a  \n",
       "0         1            10 2021-11-01 18:43:03  чёрные спаммеры и мошенники  \n",
       "1         0            10 2021-11-01 11:43:20                         test  \n",
       "2         1            10 2021-11-01 10:32:36  чёрные спаммеры и мошенники  \n",
       "3         1            10 2021-11-01 13:45:02  чёрные спаммеры и мошенники  \n",
       "4         1            10 2021-11-01 13:53:12  чёрные спаммеры и мошенники  "
      ]
     },
     "execution_count": 7,
     "metadata": {},
     "output_type": "execute_result"
    }
   ],
   "source": [
    "data = data.merge(targets, left_on='id_a', right_on='id', how='left')\n",
    "data = data.drop(columns='id')\n",
    "data = data.rename(columns={'target': 'target_a'})\n",
    "data.head()"
   ]
  },
  {
   "cell_type": "code",
   "execution_count": 8,
   "id": "e9230008",
   "metadata": {},
   "outputs": [
    {
     "name": "stdout",
     "output_type": "stream",
     "text": [
      "<class 'pandas.core.frame.DataFrame'>\n",
      "RangeIndex: 267702661 entries, 0 to 267702660\n",
      "Data columns (total 11 columns):\n",
      " #   Column         Non-Null Count      Dtype         \n",
      "---  ------         --------------      -----         \n",
      " 0   id_a           267702661 non-null  int64         \n",
      " 1   id_b           267702661 non-null  int64         \n",
      " 2   time_zone      267702661 non-null  int8          \n",
      " 3   duration       267702661 non-null  int16         \n",
      " 4   forward        267702661 non-null  int8          \n",
      " 5   zero_call_flg  267702661 non-null  int8          \n",
      " 6   source_b       267702661 non-null  int8          \n",
      " 7   source_f       267702661 non-null  int8          \n",
      " 8   num_b_length   267702661 non-null  int8          \n",
      " 9   datetime       267702661 non-null  datetime64[ns]\n",
      " 10  target_a       267702661 non-null  category      \n",
      "dtypes: category(1), datetime64[ns](1), int16(1), int64(2), int8(6)\n",
      "memory usage: 8.2 GB\n"
     ]
    }
   ],
   "source": [
    "data.info(show_counts=True)"
   ]
  },
  {
   "cell_type": "code",
   "execution_count": 11,
   "id": "4e47d273",
   "metadata": {},
   "outputs": [
    {
     "data": {
      "image/png": "[encoded data removed]",
      "text/plain": [
       "<Figure size 1500x600 with 1 Axes>"
      ]
     },
     "metadata": {},
     "output_type": "display_data"
    }
   ],
   "source": [
    "fig, ax = plt.subplots(figsize=(15, 6))\n",
    "\n",
    "(\n",
    "    data.groupby([pd.Grouper(key='datetime', freq='D'), 'target_a'])['time_zone'].count().unstack()\n",
    "    .plot(kind='bar', stacked=True, rot=90, title='Распределение id_a для отдельных звонков', ax=ax)\n",
    ")\n",
    "ax.set(xlabel='дата', xticklabels=grouped.index.format(), ylabel='количество звонков')\n",
    "ax.legend(title=None)\n",
    "\n",
    "plt.show()"
   ]
  },
  {
   "cell_type": "markdown",
   "id": "c464e68c",
   "metadata": {},
   "source": [
    "# Пока здесь"
   ]
  },
  {
   "cell_type": "code",
   "execution_count": 10,
   "id": "84baf50e",
   "metadata": {},
   "outputs": [
    {
     "ename": "KeyError",
     "evalue": "'id'",
     "output_type": "error",
     "traceback": [
      "\u001b[1;31m---------------------------------------------------------------------------\u001b[0m",
      "\u001b[1;31mKeyError\u001b[0m                                  Traceback (most recent call last)",
      "File \u001b[1;32m~\\PycharmProjects\\BestHack2022-DataScience\\venv\\lib\\site-packages\\pandas\\core\\indexes\\base.py:3652\u001b[0m, in \u001b[0;36mIndex.get_loc\u001b[1;34m(self, key)\u001b[0m\n\u001b[0;32m   3651\u001b[0m \u001b[38;5;28;01mtry\u001b[39;00m:\n\u001b[1;32m-> 3652\u001b[0m     \u001b[38;5;28;01mreturn\u001b[39;00m \u001b[38;5;28;43mself\u001b[39;49m\u001b[38;5;241;43m.\u001b[39;49m\u001b[43m_engine\u001b[49m\u001b[38;5;241;43m.\u001b[39;49m\u001b[43mget_loc\u001b[49m\u001b[43m(\u001b[49m\u001b[43mcasted_key\u001b[49m\u001b[43m)\u001b[49m\n\u001b[0;32m   3653\u001b[0m \u001b[38;5;28;01mexcept\u001b[39;00m \u001b[38;5;167;01mKeyError\u001b[39;00m \u001b[38;5;28;01mas\u001b[39;00m err:\n",
      "File \u001b[1;32m~\\PycharmProjects\\BestHack2022-DataScience\\venv\\lib\\site-packages\\pandas\\_libs\\index.pyx:147\u001b[0m, in \u001b[0;36mpandas._libs.index.IndexEngine.get_loc\u001b[1;34m()\u001b[0m\n",
      "File \u001b[1;32m~\\PycharmProjects\\BestHack2022-DataScience\\venv\\lib\\site-packages\\pandas\\_libs\\index.pyx:176\u001b[0m, in \u001b[0;36mpandas._libs.index.IndexEngine.get_loc\u001b[1;34m()\u001b[0m\n",
      "File \u001b[1;32mpandas\\_libs\\hashtable_class_helper.pxi:7080\u001b[0m, in \u001b[0;36mpandas._libs.hashtable.PyObjectHashTable.get_item\u001b[1;34m()\u001b[0m\n",
      "File \u001b[1;32mpandas\\_libs\\hashtable_class_helper.pxi:7088\u001b[0m, in \u001b[0;36mpandas._libs.hashtable.PyObjectHashTable.get_item\u001b[1;34m()\u001b[0m\n",
      "\u001b[1;31mKeyError\u001b[0m: 'id'",
      "\nThe above exception was the direct cause of the following exception:\n",
      "\u001b[1;31mKeyError\u001b[0m                                  Traceback (most recent call last)",
      "Cell \u001b[1;32mIn[10], line 2\u001b[0m\n\u001b[0;32m      1\u001b[0m \u001b[38;5;28;01mfor\u001b[39;00m i \u001b[38;5;129;01min\u001b[39;00m [\u001b[38;5;124m'\u001b[39m\u001b[38;5;124mid\u001b[39m\u001b[38;5;124m'\u001b[39m, \u001b[38;5;124m'\u001b[39m\u001b[38;5;124mtarget\u001b[39m\u001b[38;5;124m'\u001b[39m, \u001b[38;5;124m'\u001b[39m\u001b[38;5;124msplit\u001b[39m\u001b[38;5;124m'\u001b[39m]:\n\u001b[1;32m----> 2\u001b[0m     \u001b[38;5;28;01mdel\u001b[39;00m data[i]\n",
      "File \u001b[1;32m~\\PycharmProjects\\BestHack2022-DataScience\\venv\\lib\\site-packages\\pandas\\core\\generic.py:4279\u001b[0m, in \u001b[0;36mNDFrame.__delitem__\u001b[1;34m(self, key)\u001b[0m\n\u001b[0;32m   4274\u001b[0m             deleted \u001b[38;5;241m=\u001b[39m \u001b[38;5;28;01mTrue\u001b[39;00m\n\u001b[0;32m   4275\u001b[0m \u001b[38;5;28;01mif\u001b[39;00m \u001b[38;5;129;01mnot\u001b[39;00m deleted:\n\u001b[0;32m   4276\u001b[0m     \u001b[38;5;66;03m# If the above loop ran and didn't delete anything because\u001b[39;00m\n\u001b[0;32m   4277\u001b[0m     \u001b[38;5;66;03m# there was no match, this call should raise the appropriate\u001b[39;00m\n\u001b[0;32m   4278\u001b[0m     \u001b[38;5;66;03m# exception:\u001b[39;00m\n\u001b[1;32m-> 4279\u001b[0m     loc \u001b[38;5;241m=\u001b[39m \u001b[38;5;28;43mself\u001b[39;49m\u001b[38;5;241;43m.\u001b[39;49m\u001b[43maxes\u001b[49m\u001b[43m[\u001b[49m\u001b[38;5;241;43m-\u001b[39;49m\u001b[38;5;241;43m1\u001b[39;49m\u001b[43m]\u001b[49m\u001b[38;5;241;43m.\u001b[39;49m\u001b[43mget_loc\u001b[49m\u001b[43m(\u001b[49m\u001b[43mkey\u001b[49m\u001b[43m)\u001b[49m\n\u001b[0;32m   4280\u001b[0m     \u001b[38;5;28mself\u001b[39m\u001b[38;5;241m.\u001b[39m_mgr \u001b[38;5;241m=\u001b[39m \u001b[38;5;28mself\u001b[39m\u001b[38;5;241m.\u001b[39m_mgr\u001b[38;5;241m.\u001b[39midelete(loc)\n\u001b[0;32m   4282\u001b[0m \u001b[38;5;66;03m# delete from the caches\u001b[39;00m\n",
      "File \u001b[1;32m~\\PycharmProjects\\BestHack2022-DataScience\\venv\\lib\\site-packages\\pandas\\core\\indexes\\base.py:3654\u001b[0m, in \u001b[0;36mIndex.get_loc\u001b[1;34m(self, key)\u001b[0m\n\u001b[0;32m   3652\u001b[0m     \u001b[38;5;28;01mreturn\u001b[39;00m \u001b[38;5;28mself\u001b[39m\u001b[38;5;241m.\u001b[39m_engine\u001b[38;5;241m.\u001b[39mget_loc(casted_key)\n\u001b[0;32m   3653\u001b[0m \u001b[38;5;28;01mexcept\u001b[39;00m \u001b[38;5;167;01mKeyError\u001b[39;00m \u001b[38;5;28;01mas\u001b[39;00m err:\n\u001b[1;32m-> 3654\u001b[0m     \u001b[38;5;28;01mraise\u001b[39;00m \u001b[38;5;167;01mKeyError\u001b[39;00m(key) \u001b[38;5;28;01mfrom\u001b[39;00m \u001b[38;5;21;01merr\u001b[39;00m\n\u001b[0;32m   3655\u001b[0m \u001b[38;5;28;01mexcept\u001b[39;00m \u001b[38;5;167;01mTypeError\u001b[39;00m:\n\u001b[0;32m   3656\u001b[0m     \u001b[38;5;66;03m# If we have a listlike key, _check_indexing_error will raise\u001b[39;00m\n\u001b[0;32m   3657\u001b[0m     \u001b[38;5;66;03m#  InvalidIndexError. Otherwise we fall through and re-raise\u001b[39;00m\n\u001b[0;32m   3658\u001b[0m     \u001b[38;5;66;03m#  the TypeError.\u001b[39;00m\n\u001b[0;32m   3659\u001b[0m     \u001b[38;5;28mself\u001b[39m\u001b[38;5;241m.\u001b[39m_check_indexing_error(key)\n",
      "\u001b[1;31mKeyError\u001b[0m: 'id'"
     ]
    }
   ],
   "source": [
    "for i in ['id', 'target', 'split']:\n",
    "    del data[i]"
   ]
  },
  {
   "cell_type": "code",
   "execution_count": null,
   "id": "14c8b490",
   "metadata": {},
   "outputs": [],
   "source": [
    "data = data.merge(targets, left_on='id_b', right_on='id', how='left')\n",
    "data.head()"
   ]
  },
  {
   "cell_type": "code",
   "execution_count": null,
   "id": "ac83d99d",
   "metadata": {},
   "outputs": [],
   "source": [
    "data['quasi_target_b'] = data.apply(gen_quasi_target, axis=1)"
   ]
  },
  {
   "cell_type": "code",
   "execution_count": null,
   "id": "b3d5172c",
   "metadata": {},
   "outputs": [],
   "source": [
    "grouped = data.groupby([pd.Grouper(key='datetime', freq='D'), 'quasi_target_b'])['time_zone'].count().unstack()\n",
    "\n",
    "fig, ax = plt.subplots(figsize=(15, 6))\n",
    "\n",
    "grouped.plot(kind='bar', stacked=True, rot=90, title='Распределение id_b для отдельных звонков', ax=ax)\n",
    "ax.set(xlabel='дата', xticklabels=grouped.index.format(), ylabel='количество звонков')\n",
    "ax.legend(title=None)\n",
    "\n",
    "plt.show()"
   ]
  },
  {
   "cell_type": "code",
   "execution_count": null,
   "id": "3cbbdd81",
   "metadata": {},
   "outputs": [],
   "source": [
    "for i in ['id', 'target', 'split']:\n",
    "    del data[i]"
   ]
  }
 ],
 "metadata": {
  "kernelspec": {
   "display_name": "Python 3 (ipykernel)",
   "language": "python",
   "name": "python3"
  },
  "language_info": {
   "codemirror_mode": {
    "name": "ipython",
    "version": 3
   },
   "file_extension": ".py",
   "mimetype": "text/x-python",
   "name": "python",
   "nbconvert_exporter": "python",
   "pygments_lexer": "ipython3",
   "version": "3.10.4"
  }
 },
 "nbformat": 4,
 "nbformat_minor": 5
}
